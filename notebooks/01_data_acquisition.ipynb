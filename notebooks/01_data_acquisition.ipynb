{
  "cells": [
    {
      "cell_type": "markdown",
      "id": "0",
      "metadata": {
        "id": "0"
      },
      "source": [
        "# Data Acquisition"
      ]
    },
    {
      "cell_type": "markdown",
      "id": "1",
      "metadata": {
        "id": "1"
      },
      "source": [
        "### Import Libraries\n"
      ]
    },
    {
      "cell_type": "code",
      "execution_count": null,
      "id": "2",
      "metadata": {
        "id": "2"
      },
      "outputs": [],
      "source": [
        "!pip install geemap google-cloud-storage rasterio matplotlib > /dev/null 2>&1"
      ]
    },
    {
      "cell_type": "code",
      "execution_count": null,
      "id": "3",
      "metadata": {
        "id": "3",
        "colab": {
          "base_uri": "https://localhost:8080/",
          "height": 34
        },
        "outputId": "cab2d990-eae3-4d45-8f0e-1f3df7403ce4"
      },
      "outputs": [
        {
          "output_type": "stream",
          "name": "stdout",
          "text": [
            "Mounted at /content/drive\n"
          ]
        }
      ],
      "source": [
        "import ee\n",
        "import geemap\n",
        "import os\n",
        "import pandas as pd\n",
        "from google.colab import drive\n",
        "import rasterio\n",
        "import matplotlib.pyplot as plt\n",
        "\n",
        "\n",
        "drive.mount('/content/drive')\n",
        "work_dir = '/content/drive/MyDrive/UHI-Detection-Analysis/data/raw/'\n",
        "os.makedirs(work_dir, exist_ok=True)\n"
      ]
    },
    {
      "cell_type": "code",
      "execution_count": null,
      "id": "4",
      "metadata": {
        "id": "4",
        "colab": {
          "base_uri": "https://localhost:8080/"
        },
        "outputId": "6c9061b7-3fdf-4ead-e5ba-bb33bc965348"
      },
      "outputs": [
        {
          "output_type": "display_data",
          "data": {
            "text/plain": [
              "<IPython.core.display.HTML object>"
            ],
            "text/html": [
              "\n",
              "            <style>\n",
              "                .geemap-dark {\n",
              "                    --jp-widgets-color: white;\n",
              "                    --jp-widgets-label-color: white;\n",
              "                    --jp-ui-font-color1: white;\n",
              "                    --jp-layout-color2: #454545;\n",
              "                    background-color: #383838;\n",
              "                }\n",
              "\n",
              "                .geemap-dark .jupyter-button {\n",
              "                    --jp-layout-color3: #383838;\n",
              "                }\n",
              "\n",
              "                .geemap-colab {\n",
              "                    background-color: var(--colab-primary-surface-color, white);\n",
              "                }\n",
              "\n",
              "                .geemap-colab .jupyter-button {\n",
              "                    --jp-layout-color3: var(--colab-primary-surface-color, white);\n",
              "                }\n",
              "            </style>\n",
              "            "
            ]
          },
          "metadata": {}
        }
      ],
      "source": [
        "ee.Authenticate()\n",
        "ee.Initialize(project='manifest-pride-258211')"
      ]
    },
    {
      "cell_type": "markdown",
      "id": "5",
      "metadata": {
        "id": "5"
      },
      "source": [
        "### Determining Hotest Summer Days"
      ]
    },
    {
      "cell_type": "markdown",
      "id": "6",
      "metadata": {
        "id": "6"
      },
      "source": [
        "*Using MODIS hottest cloud-free summer days through 10 year*"
      ]
    },
    {
      "cell_type": "code",
      "execution_count": null,
      "id": "7",
      "metadata": {
        "id": "7",
        "colab": {
          "base_uri": "https://localhost:8080/",
          "height": 607
        },
        "outputId": "1f70d9f8-fcab-47b9-8ee9-7b27a3840614"
      },
      "outputs": [
        {
          "output_type": "display_data",
          "data": {
            "text/plain": [
              "<IPython.core.display.HTML object>"
            ],
            "text/html": [
              "\n",
              "            <style>\n",
              "                .geemap-dark {\n",
              "                    --jp-widgets-color: white;\n",
              "                    --jp-widgets-label-color: white;\n",
              "                    --jp-ui-font-color1: white;\n",
              "                    --jp-layout-color2: #454545;\n",
              "                    background-color: #383838;\n",
              "                }\n",
              "\n",
              "                .geemap-dark .jupyter-button {\n",
              "                    --jp-layout-color3: #383838;\n",
              "                }\n",
              "\n",
              "                .geemap-colab {\n",
              "                    background-color: var(--colab-primary-surface-color, white);\n",
              "                }\n",
              "\n",
              "                .geemap-colab .jupyter-button {\n",
              "                    --jp-layout-color3: var(--colab-primary-surface-color, white);\n",
              "                }\n",
              "            </style>\n",
              "            "
            ]
          },
          "metadata": {}
        },
        {
          "output_type": "stream",
          "name": "stdout",
          "text": [
            "Extracting MODIS data...\n",
            "\n",
            "Processing year 2014...\n",
            "Hottest day: 2014-07-04 | LST: 34.83 °C\n",
            "\n",
            "Processing year 2015...\n",
            "Hottest day: 2015-07-05 | LST: 38.17 °C\n",
            "\n",
            "Processing year 2016...\n",
            "Hottest day: 2016-06-05 | LST: 35.11 °C\n",
            "\n",
            "Processing year 2017...\n",
            "Hottest day: 2017-05-27 | LST: 32.62 °C\n",
            "\n",
            "Processing year 2018...\n",
            "Hottest day: 2018-07-27 | LST: 37.34 °C\n",
            "\n",
            "Processing year 2019...\n",
            "Hottest day: 2019-06-30 | LST: 39.26 °C\n",
            "\n",
            "Processing year 2020...\n",
            "Hottest day: 2020-06-27 | LST: 36.38 °C\n",
            "\n",
            "Processing year 2021...\n",
            "Hottest day: 2021-06-17 | LST: 37.72 °C\n",
            "\n",
            "Processing year 2022...\n",
            "Hottest day: 2022-07-20 | LST: 39.18 °C\n",
            "\n",
            "Processing year 2023...\n",
            "Hottest day: 2023-07-15 | LST: 34.22 °C\n",
            "\n",
            "Processing year 2024...\n",
            "Hottest day: 2024-06-25 | LST: 33.50 °C\n"
          ]
        }
      ],
      "source": [
        "def get_modis_hottest_days(start_year=2014, end_year=2024):\n",
        "\n",
        "    \"\"\"\n",
        "    Finds the hottest cloud-free summer days (May 15 – Sep 15) for Hamburg using MODIS LST data.\n",
        "    Returns a DataFrame with date, LST in Kelvin, and Celsius.\n",
        "    \"\"\"\n",
        "\n",
        "    # Create a 5 km buffer around Hamburg coordinates\n",
        "    hamburg = ee.Geometry.Point(9.9937, 53.5511).buffer(5000)\n",
        "    results = {}\n",
        "\n",
        "    for year in range(start_year, end_year + 1):\n",
        "        print(f\"\\nProcessing year {year}...\")\n",
        "\n",
        "        try:\n",
        "            # Load MODIS LST Day 1km collection\n",
        "            modis = ee.ImageCollection('MODIS/061/MOD11A1') \\\n",
        "                .filterBounds(hamburg) \\\n",
        "                .filterDate(f'{year}-05-15', f'{year}-09-15')\n",
        "                # .filter(ee.Filter.lt('QC_Day', 2))  # Optional: strict quality filter\n",
        "\n",
        "            # Function to extract mean LST and acquisition date\n",
        "            def compute_lst(img):\n",
        "                mean_lst = img.reduceRegion(\n",
        "                    reducer=ee.Reducer.mean(),\n",
        "                    geometry=hamburg,\n",
        "                    scale=1000\n",
        "                ).get('LST_Day_1km')\n",
        "                return ee.Feature(None, {\n",
        "                    'lst': mean_lst,\n",
        "                    'date': img.date().format('YYYY-MM-dd')\n",
        "                })\n",
        "\n",
        "            # Map function over collection, and filter out null results\n",
        "            lst_features = modis.map(compute_lst).filter(\n",
        "                ee.Filter.notNull(['lst'])\n",
        "            )\n",
        "\n",
        "            # Check if any valid images remain\n",
        "            if lst_features.size().getInfo() == 0:\n",
        "                print(\"No valid LST data available, skipping.\")\n",
        "                continue\n",
        "\n",
        "            # Sort by LST descending and pick the hottest\n",
        "            hottest = ee.Feature(lst_features.sort('lst', False).first())\n",
        "\n",
        "            date = hottest.get('date').getInfo()\n",
        "            lst_kelvin = hottest.get('lst').getInfo()\n",
        "\n",
        "            # Some years might return null\n",
        "            if lst_kelvin is None:\n",
        "                print(\"No temperature value found, skipping.\")\n",
        "                continue\n",
        "\n",
        "            lst_celsius = lst_kelvin * 0.02 - 273.15\n",
        "\n",
        "            results[year] = {\n",
        "                'date': date,\n",
        "                'lst_kelvin': lst_kelvin,\n",
        "                'lst_celsius': round(lst_celsius, 2)\n",
        "            }\n",
        "\n",
        "            print(f\"Hottest day: {date} | LST: {lst_celsius:.2f} °C\")\n",
        "\n",
        "        except Exception as e:\n",
        "            print(f\"Error: {str(e)}\")\n",
        "            continue\n",
        "\n",
        "    return pd.DataFrame.from_dict(results, orient='index')\n",
        "\n",
        "print(\"Extracting MODIS data...\")\n",
        "df_hottest = get_modis_hottest_days()"
      ]
    },
    {
      "cell_type": "code",
      "execution_count": null,
      "id": "8",
      "metadata": {
        "id": "8",
        "colab": {
          "base_uri": "https://localhost:8080/",
          "height": 243
        },
        "outputId": "596ca4d3-2e3e-4abb-9caf-83be8f2bb9d2"
      },
      "outputs": [
        {
          "output_type": "display_data",
          "data": {
            "text/plain": [
              "<IPython.core.display.HTML object>"
            ],
            "text/html": [
              "\n",
              "            <style>\n",
              "                .geemap-dark {\n",
              "                    --jp-widgets-color: white;\n",
              "                    --jp-widgets-label-color: white;\n",
              "                    --jp-ui-font-color1: white;\n",
              "                    --jp-layout-color2: #454545;\n",
              "                    background-color: #383838;\n",
              "                }\n",
              "\n",
              "                .geemap-dark .jupyter-button {\n",
              "                    --jp-layout-color3: #383838;\n",
              "                }\n",
              "\n",
              "                .geemap-colab {\n",
              "                    background-color: var(--colab-primary-surface-color, white);\n",
              "                }\n",
              "\n",
              "                .geemap-colab .jupyter-button {\n",
              "                    --jp-layout-color3: var(--colab-primary-surface-color, white);\n",
              "                }\n",
              "            </style>\n",
              "            "
            ]
          },
          "metadata": {}
        },
        {
          "output_type": "stream",
          "name": "stdout",
          "text": [
            "Results:\n",
            "            date    lst_kelvin  lst_celsius\n",
            "2014  2014-07-04  15399.234460        34.83\n",
            "2015  2015-07-05  15566.021583        38.17\n",
            "2016  2016-06-05  15413.236373        35.11\n",
            "2017  2017-05-27  15288.740653        32.62\n",
            "2018  2018-07-27  15524.518300        37.34\n",
            "2019  2019-06-30  15620.494357        39.26\n",
            "2020  2020-06-27  15476.592410        36.38\n",
            "2021  2021-06-17  15543.491581        37.72\n",
            "2022  2022-07-20  15616.430121        39.18\n",
            "2023  2023-07-15  15368.708391        34.22\n",
            "2024  2024-06-25  15332.705202        33.50\n"
          ]
        }
      ],
      "source": [
        "print(\"Results:\")\n",
        "print(df_hottest)"
      ]
    },
    {
      "cell_type": "markdown",
      "id": "9",
      "metadata": {
        "id": "9"
      },
      "source": [
        "### Extracting Landsat-8 Images Based on Hottest Days"
      ]
    },
    {
      "cell_type": "markdown",
      "id": "10",
      "metadata": {
        "id": "10"
      },
      "source": [
        "*Landsat 8 images based on hottest days and calculating LTS*"
      ]
    },
    {
      "cell_type": "code",
      "execution_count": null,
      "id": "11",
      "metadata": {
        "id": "11",
        "colab": {
          "base_uri": "https://localhost:8080/",
          "height": 17
        },
        "outputId": "0f2268ce-35af-4535-fa5c-5450b22ca4d1"
      },
      "outputs": [
        {
          "output_type": "display_data",
          "data": {
            "text/plain": [
              "<IPython.core.display.HTML object>"
            ],
            "text/html": [
              "\n",
              "            <style>\n",
              "                .geemap-dark {\n",
              "                    --jp-widgets-color: white;\n",
              "                    --jp-widgets-label-color: white;\n",
              "                    --jp-ui-font-color1: white;\n",
              "                    --jp-layout-color2: #454545;\n",
              "                    background-color: #383838;\n",
              "                }\n",
              "\n",
              "                .geemap-dark .jupyter-button {\n",
              "                    --jp-layout-color3: #383838;\n",
              "                }\n",
              "\n",
              "                .geemap-colab {\n",
              "                    background-color: var(--colab-primary-surface-color, white);\n",
              "                }\n",
              "\n",
              "                .geemap-colab .jupyter-button {\n",
              "                    --jp-layout-color3: var(--colab-primary-surface-color, white);\n",
              "                }\n",
              "            </style>\n",
              "            "
            ]
          },
          "metadata": {}
        }
      ],
      "source": [
        "# Hamburg coordinates\n",
        "hamburg = ee.Geometry.Point(9.99, 53.55)\n",
        "\n",
        "def get_landsat_data(year, max_cloud=20):\n",
        "    \"\"\"\n",
        "    Finds the most suitable Landsat 8 image for the given year.\n",
        "    Logic improved and sorting bug fixed.\n",
        "    \"\"\"\n",
        "    target_date = ee.Date(df_hottest.loc[year, 'date'])\n",
        "    image_collection = ee.ImageCollection(\"LANDSAT/LC08/C02/T1_L2\").filterBounds(hamburg)\n",
        "\n",
        "    # 1. Search on the exact date (+/- 1 day for flexibility)\n",
        "    landsat = image_collection \\\n",
        "        .filterDate(target_date.advance(-1, 'day'), target_date.advance(1, 'day')) \\\n",
        "        .filter(ee.Filter.lt('CLOUD_COVER', max_cloud))\n",
        "\n",
        "    # 2. If not found, search within +/- 10 days and select the least cloudy image\n",
        "    if landsat.size().getInfo() == 0:\n",
        "        print(f\"No image found for {year} within +/- 1 day and <{max_cloud}% cloud cover. Expanding search window...\")\n",
        "        landsat = image_collection \\\n",
        "            .filterDate(target_date.advance(-10, 'day'), target_date.advance(10, 'day')) \\\n",
        "            .filter(ee.Filter.lt('CLOUD_COVER', max_cloud)) \\\n",
        "            .sort('CLOUD_COVER')  # Bring the least cloudy image to the top\n",
        "\n",
        "    # 3. If still no image, remove cloud filter, select the least cloudy one, and apply mask\n",
        "    if landsat.size().getInfo() == 0:\n",
        "        print(f\"CRITICAL WARNING for {year}: No low-cloud image found. Searching best candidate with QA mask...\")\n",
        "        landsat = image_collection \\\n",
        "            .filterDate(target_date.advance(-15, 'day'), target_date.advance(15, 'day')) \\\n",
        "            .sort('CLOUD_COVER')  # Pick the least cloudy image (could be 50%, 80%, but best available)\n",
        "\n",
        "    # If any image found, select the first (best) one\n",
        "    image = ee.Image(landsat.first())\n",
        "\n",
        "    # Check if the image exists\n",
        "    # Wrapping with ee.Image() avoids errors on empty collections\n",
        "    # We can verify existence by checking its properties\n",
        "    if image.getInfo() is None:\n",
        "        print(f\"WARNING: No image found for {year} within any search window.\")\n",
        "        return None\n",
        "\n",
        "    # If we fell to step 3 (cloud filter not applied), apply QA mask\n",
        "    if image.get('CLOUD_COVER').getInfo() >= max_cloud:\n",
        "        print(f\"The best available image for {year} has high cloud cover ({image.get('CLOUD_COVER').getInfo():.2f}%). Applying QA mask.\")\n",
        "        # Cloud masking function\n",
        "        def mask_clouds(img):\n",
        "            # Check 3rd bit for clouds and 4th bit for cloud shadow\n",
        "            qa = img.select('QA_PIXEL')\n",
        "            cloud_bit_mask = 1 << 3\n",
        "            cloud_shadow_bit_mask = 1 << 4\n",
        "            # Keep only pixels without clouds and cloud shadows\n",
        "            mask = qa.bitwiseAnd(cloud_bit_mask).eq(0).And(qa.bitwiseAnd(cloud_shadow_bit_mask).eq(0))\n",
        "            return img.updateMask(mask)\n",
        "\n",
        "        image = mask_clouds(image)\n",
        "\n",
        "    return image\n",
        "\n",
        "\n",
        "# LST calculation function\n",
        "def calculate_lst(image):\n",
        "    # Check if input is a valid ee.Image\n",
        "    if image is None:\n",
        "        return None\n",
        "\n",
        "    lst = image.expression(\n",
        "        '(TIRS1 * 0.00341802 + 149.0) - 273.15',  # Convert Kelvin to Celsius\n",
        "        {'TIRS1': image.select('ST_B10')}\n",
        "    ).rename('LST')\n",
        "    return image.addBands(lst)"
      ]
    },
    {
      "cell_type": "code",
      "execution_count": null,
      "id": "12",
      "metadata": {
        "id": "12",
        "colab": {
          "base_uri": "https://localhost:8080/",
          "height": 892
        },
        "outputId": "52ce9895-d0cb-4c9b-8cce-6519585b83f0"
      },
      "outputs": [
        {
          "output_type": "display_data",
          "data": {
            "text/plain": [
              "<IPython.core.display.HTML object>"
            ],
            "text/html": [
              "\n",
              "            <style>\n",
              "                .geemap-dark {\n",
              "                    --jp-widgets-color: white;\n",
              "                    --jp-widgets-label-color: white;\n",
              "                    --jp-ui-font-color1: white;\n",
              "                    --jp-layout-color2: #454545;\n",
              "                    background-color: #383838;\n",
              "                }\n",
              "\n",
              "                .geemap-dark .jupyter-button {\n",
              "                    --jp-layout-color3: #383838;\n",
              "                }\n",
              "\n",
              "                .geemap-colab {\n",
              "                    background-color: var(--colab-primary-surface-color, white);\n",
              "                }\n",
              "\n",
              "                .geemap-colab .jupyter-button {\n",
              "                    --jp-layout-color3: var(--colab-primary-surface-color, white);\n",
              "                }\n",
              "            </style>\n",
              "            "
            ]
          },
          "metadata": {}
        },
        {
          "output_type": "stream",
          "name": "stdout",
          "text": [
            "\n",
            "--- Processing year 2014 ---\n",
            "No image found for 2014 within +/- 1 day and <20% cloud cover. Expanding search window...\n",
            "LST successfully calculated for 2014.\n",
            "\n",
            "--- Processing year 2015 ---\n",
            "No image found for 2015 within +/- 1 day and <20% cloud cover. Expanding search window...\n",
            "CRITICAL WARNING for 2015: No low-cloud image found. Searching best candidate with QA mask...\n",
            "The best available image for 2015 has high cloud cover (32.15%). Applying QA mask.\n",
            "LST successfully calculated for 2015.\n",
            "\n",
            "--- Processing year 2016 ---\n",
            "LST successfully calculated for 2016.\n",
            "\n",
            "--- Processing year 2017 ---\n",
            "No image found for 2017 within +/- 1 day and <20% cloud cover. Expanding search window...\n",
            "LST successfully calculated for 2017.\n",
            "\n",
            "--- Processing year 2018 ---\n",
            "No image found for 2018 within +/- 1 day and <20% cloud cover. Expanding search window...\n",
            "CRITICAL WARNING for 2018: No low-cloud image found. Searching best candidate with QA mask...\n",
            "LST successfully calculated for 2018.\n",
            "\n",
            "--- Processing year 2019 ---\n",
            "LST successfully calculated for 2019.\n",
            "\n",
            "--- Processing year 2020 ---\n",
            "No image found for 2020 within +/- 1 day and <20% cloud cover. Expanding search window...\n",
            "LST successfully calculated for 2020.\n",
            "\n",
            "--- Processing year 2021 ---\n",
            "No image found for 2021 within +/- 1 day and <20% cloud cover. Expanding search window...\n",
            "LST successfully calculated for 2021.\n",
            "\n",
            "--- Processing year 2022 ---\n",
            "No image found for 2022 within +/- 1 day and <20% cloud cover. Expanding search window...\n",
            "CRITICAL WARNING for 2022: No low-cloud image found. Searching best candidate with QA mask...\n",
            "The best available image for 2022 has high cloud cover (47.09%). Applying QA mask.\n",
            "LST successfully calculated for 2022.\n",
            "\n",
            "--- Processing year 2023 ---\n",
            "No image found for 2023 within +/- 1 day and <20% cloud cover. Expanding search window...\n",
            "CRITICAL WARNING for 2023: No low-cloud image found. Searching best candidate with QA mask...\n",
            "The best available image for 2023 has high cloud cover (42.46%). Applying QA mask.\n",
            "LST successfully calculated for 2023.\n",
            "\n",
            "--- Processing year 2024 ---\n",
            "No image found for 2024 within +/- 1 day and <20% cloud cover. Expanding search window...\n",
            "LST successfully calculated for 2024.\n"
          ]
        }
      ],
      "source": [
        "# --- Retrieve images and calculate LST ---\n",
        "years = df_hottest.index.tolist()\n",
        "lst_images = {}\n",
        "\n",
        "for year in years:\n",
        "    print(f\"\\n--- Processing year {year} ---\")\n",
        "    landsat_image = get_landsat_data(year)\n",
        "\n",
        "    if landsat_image:\n",
        "        lst_image = calculate_lst(landsat_image)\n",
        "        lst_images[year] = lst_image\n",
        "        print(f\"LST successfully calculated for {year}.\")\n",
        "    else:\n",
        "        print(f\"LST could not be calculated for {year} because no suitable image was found.\")"
      ]
    },
    {
      "cell_type": "markdown",
      "id": "16",
      "metadata": {
        "id": "16"
      },
      "source": [
        "#### Visualize 10 years LTS data for control"
      ]
    },
    {
      "cell_type": "code",
      "execution_count": null,
      "id": "17",
      "metadata": {
        "id": "17"
      },
      "outputs": [],
      "source": [
        "Map = geemap.Map(center=[53.55, 9.99], zoom=12)\n",
        "\n",
        "# Visualization parameters (for single band)\n",
        "vis_params = {\n",
        "    'min': 20,  # Min LST (°C)\n",
        "    'max': 40,  # Max LST (°C)\n",
        "    'palette': ['blue', 'green', 'yellow', 'red']\n",
        "}\n",
        "\n",
        "\n",
        "# Add each year's LST image to the map\n",
        "for year, lst_image in lst_images.items():\n",
        "    try:\n",
        "        lst_single_band = lst_image.select('LST')\n",
        "        Map.addLayer(lst_single_band, vis_params, f'LST {year}')\n",
        "    except Exception as e:\n",
        "        print(f\"{year} için hata: {str(e)}\")\n",
        "\n",
        "# Add layer control panel\n",
        "Map.addLayerControl()\n",
        "\n",
        "map_dir = '/content/drive/MyDrive/UHI-Detection-Analysis/outputs/'\n",
        "output_path = map_dir + 'LST_map.html'\n",
        "Map.to_html(output_path)"
      ]
    },
    {
      "cell_type": "markdown",
      "id": "18",
      "metadata": {
        "id": "18"
      },
      "source": [
        "*Adding Time Slider to 10 years LTS*\n"
      ]
    },
    {
      "cell_type": "code",
      "execution_count": null,
      "id": "19",
      "metadata": {
        "id": "19"
      },
      "outputs": [],
      "source": []
    },
    {
      "cell_type": "markdown",
      "id": "13",
      "metadata": {
        "id": "13"
      },
      "source": [
        "### Extracting Sentinel-2 Images Based on Hottest Days"
      ]
    },
    {
      "cell_type": "code",
      "execution_count": null,
      "id": "14",
      "metadata": {
        "colab": {
          "base_uri": "https://localhost:8080/",
          "height": 17
        },
        "id": "14",
        "outputId": "3b90ef44-4788-4e6f-c83a-1d87ae26d88e"
      },
      "outputs": [
        {
          "output_type": "display_data",
          "data": {
            "text/plain": [
              "<IPython.core.display.HTML object>"
            ],
            "text/html": [
              "\n",
              "            <style>\n",
              "                .geemap-dark {\n",
              "                    --jp-widgets-color: white;\n",
              "                    --jp-widgets-label-color: white;\n",
              "                    --jp-ui-font-color1: white;\n",
              "                    --jp-layout-color2: #454545;\n",
              "                    background-color: #383838;\n",
              "                }\n",
              "\n",
              "                .geemap-dark .jupyter-button {\n",
              "                    --jp-layout-color3: #383838;\n",
              "                }\n",
              "\n",
              "                .geemap-colab {\n",
              "                    background-color: var(--colab-primary-surface-color, white);\n",
              "                }\n",
              "\n",
              "                .geemap-colab .jupyter-button {\n",
              "                    --jp-layout-color3: var(--colab-primary-surface-color, white);\n",
              "                }\n",
              "            </style>\n",
              "            "
            ]
          },
          "metadata": {}
        }
      ],
      "source": [
        "# Hamburg coordinates\n",
        "hamburg = ee.Geometry.Point(9.99, 53.55)\n",
        "\n",
        "def get_sentinel2_data(year, max_cloud=30):\n",
        "    \"\"\"\n",
        "    Finds the most suitable Sentinel-2 image for the given year based on the hottest day from df_hottest.\n",
        "    - Searches ±1 day first, then ±10 days.\n",
        "    - Picks the least cloudy image if multiple are available.\n",
        "    - If no image under max_cloud is found, picks the best available candidate (highest cloud mask applied later).\n",
        "    \"\"\"\n",
        "    target_date = ee.Date(df_hottest.loc[year, 'date'])\n",
        "\n",
        "    #sentinel-2 is not available for 2014 that is why landsat 8 will be used for ndvi calculation\n",
        "    if year >= 2017:\n",
        "      collection_id = \"COPERNICUS/S2_SR\"\n",
        "    else:\n",
        "      collection_id = \"COPERNICUS/S2\"\n",
        "\n",
        "\n",
        "    image_collection = ee.ImageCollection(collection_id).filterBounds(hamburg)\n",
        "\n",
        "    # 1. Search on the exact date (+/- 1 day)\n",
        "    s2 = image_collection \\\n",
        "        .filterDate(target_date.advance(-1, 'day'), target_date.advance(1, 'day')) \\\n",
        "        .filter(ee.Filter.lt('CLOUDY_PIXEL_PERCENTAGE', max_cloud))\n",
        "\n",
        "    # 2. If not found, expand to ±10 days\n",
        "    if s2.size().getInfo() == 0:\n",
        "        print(f\"No Sentinel-2 image found for {year} within ±1 day and <{max_cloud}% clouds. Expanding window...\")\n",
        "        s2 = image_collection \\\n",
        "            .filterDate(target_date.advance(-10, 'day'), target_date.advance(10, 'day')) \\\n",
        "            .filter(ee.Filter.lt('CLOUDY_PIXEL_PERCENTAGE', max_cloud)) \\\n",
        "            .sort('CLOUDY_PIXEL_PERCENTAGE')\n",
        "\n",
        "    # 3. If still not found, pick best available image (even high cloud)\n",
        "    if s2.size().getInfo() == 0:\n",
        "        print(f\"CRITICAL WARNING for {year}: No low-cloud Sentinel-2 image found. Picking best candidate.\")\n",
        "        s2 = image_collection \\\n",
        "            .filterDate(target_date.advance(-20, 'day'), target_date.advance(20, 'day')) \\\n",
        "            .sort('CLOUDY_PIXEL_PERCENTAGE')\n",
        "\n",
        "    image = ee.Image(s2.first())\n",
        "\n",
        "    # Verify existence\n",
        "    if image.getInfo() is None:\n",
        "        print(f\"WARNING: No Sentinel-2 image found for {year} within any search window.\")\n",
        "        return None\n",
        "\n",
        "    # Apply cloud mask if cloud percentage > max_cloud\n",
        "    if image.get('CLOUDY_PIXEL_PERCENTAGE').getInfo() >= max_cloud:\n",
        "        print(f\"The best available Sentinel-2 image for {year} has high cloud cover ({image.get('CLOUDY_PIXEL_PERCENTAGE').getInfo():.2f}%). Applying SCL cloud mask.\")\n",
        "\n",
        "        def mask_clouds(img):\n",
        "            scl = img.select('SCL')\n",
        "            # Keep classes: 4=Vegetation, 5=Bare soil, 6=Water, 7=Low vegetation, 8=High vegetation, 11=Snow/Ice\n",
        "            mask = scl.eq(4).Or(scl.eq(5)).Or(scl.eq(6)).Or(scl.eq(7)).Or(scl.eq(8)).Or(scl.eq(11))\n",
        "            return img.updateMask(mask)\n",
        "\n",
        "        image = mask_clouds(image)\n",
        "\n",
        "    return image"
      ]
    },
    {
      "cell_type": "code",
      "execution_count": null,
      "id": "15",
      "metadata": {
        "colab": {
          "base_uri": "https://localhost:8080/",
          "height": 746
        },
        "id": "15",
        "outputId": "1daf4749-f3c4-49b1-a84d-875ffded9cbb"
      },
      "outputs": [
        {
          "output_type": "display_data",
          "data": {
            "text/plain": [
              "<IPython.core.display.HTML object>"
            ],
            "text/html": [
              "\n",
              "            <style>\n",
              "                .geemap-dark {\n",
              "                    --jp-widgets-color: white;\n",
              "                    --jp-widgets-label-color: white;\n",
              "                    --jp-ui-font-color1: white;\n",
              "                    --jp-layout-color2: #454545;\n",
              "                    background-color: #383838;\n",
              "                }\n",
              "\n",
              "                .geemap-dark .jupyter-button {\n",
              "                    --jp-layout-color3: #383838;\n",
              "                }\n",
              "\n",
              "                .geemap-colab {\n",
              "                    background-color: var(--colab-primary-surface-color, white);\n",
              "                }\n",
              "\n",
              "                .geemap-colab .jupyter-button {\n",
              "                    --jp-layout-color3: var(--colab-primary-surface-color, white);\n",
              "                }\n",
              "            </style>\n",
              "            "
            ]
          },
          "metadata": {}
        },
        {
          "output_type": "stream",
          "name": "stdout",
          "text": [
            "\n",
            "--- Processing Sentinel-2 image for year 2014 ---\n",
            "No Sentinel-2 image found for 2014 within ±1 day and <30% clouds. Expanding window...\n",
            "CRITICAL WARNING for 2014: No low-cloud Sentinel-2 image found. Picking best candidate.\n",
            "WARNING: No Sentinel-2 image found for 2014 within any search window.\n",
            "No Sentinel-2 image available for 2014.\n",
            "\n",
            "--- Processing Sentinel-2 image for year 2015 ---\n",
            "No Sentinel-2 image found for 2015 within ±1 day and <30% clouds. Expanding window...\n",
            "CRITICAL WARNING for 2015: No low-cloud Sentinel-2 image found. Picking best candidate.\n",
            "The best available Sentinel-2 image for 2015 has high cloud cover (48.14%). Applying SCL cloud mask.\n",
            "Sentinel-2 image successfully retrieved for 2015.\n",
            "\n",
            "--- Processing Sentinel-2 image for year 2016 ---\n",
            "Sentinel-2 image successfully retrieved for 2016.\n",
            "\n",
            "--- Processing Sentinel-2 image for year 2017 ---\n",
            "No Sentinel-2 image found for 2017 within ±1 day and <30% clouds. Expanding window...\n",
            "Sentinel-2 image successfully retrieved for 2017.\n",
            "\n",
            "--- Processing Sentinel-2 image for year 2018 ---\n",
            "Sentinel-2 image successfully retrieved for 2018.\n",
            "\n",
            "--- Processing Sentinel-2 image for year 2019 ---\n",
            "Sentinel-2 image successfully retrieved for 2019.\n",
            "\n",
            "--- Processing Sentinel-2 image for year 2020 ---\n",
            "Sentinel-2 image successfully retrieved for 2020.\n",
            "\n",
            "--- Processing Sentinel-2 image for year 2021 ---\n",
            "Sentinel-2 image successfully retrieved for 2021.\n",
            "\n",
            "--- Processing Sentinel-2 image for year 2022 ---\n",
            "No Sentinel-2 image found for 2022 within ±1 day and <30% clouds. Expanding window...\n",
            "Sentinel-2 image successfully retrieved for 2022.\n",
            "\n",
            "--- Processing Sentinel-2 image for year 2023 ---\n",
            "No Sentinel-2 image found for 2023 within ±1 day and <30% clouds. Expanding window...\n",
            "Sentinel-2 image successfully retrieved for 2023.\n",
            "\n",
            "--- Processing Sentinel-2 image for year 2024 ---\n",
            "Sentinel-2 image successfully retrieved for 2024.\n"
          ]
        }
      ],
      "source": [
        "# --- Retrieve Sentinel-2 images ---\n",
        "s2_images = {}\n",
        "\n",
        "for year in df_hottest.index:\n",
        "    print(f\"\\n--- Processing Sentinel-2 image for year {year} ---\")\n",
        "    sentinel_image = get_sentinel2_data(year)\n",
        "\n",
        "    if sentinel_image:\n",
        "        s2_images[year] = sentinel_image\n",
        "        print(f\"Sentinel-2 image successfully retrieved for {year}.\")\n",
        "    else:\n",
        "        print(f\"No Sentinel-2 image available for {year}.\")\n"
      ]
    },
    {
      "cell_type": "markdown",
      "source": [
        "#### Visualize Sentinel-2 Data"
      ],
      "metadata": {
        "id": "156O2a1CFcCb"
      },
      "id": "156O2a1CFcCb"
    },
    {
      "cell_type": "code",
      "source": [
        "Map = geemap.Map(center=[53.55, 9.99], zoom=12)\n",
        "\n",
        "# Visualization parameters for Sentinel-2 RGB bands\n",
        "vis_params_s2 = {\n",
        "    'bands': ['B4', 'B3', 'B2'],  # Red, Green, Blue\n",
        "    'min': 0,\n",
        "    'max': 3000,\n",
        "    'gamma': 1.4\n",
        "}\n",
        "\n",
        "# Add each year's Sentinel-2 image to the map\n",
        "for year, s2_image in s2_images.items():\n",
        "    try:\n",
        "        Map.addLayer(s2_image, vis_params_s2, f'Sentinel-2 {year}')\n",
        "    except Exception as e:\n",
        "        print(f\"Error for {year}: {str(e)}\")\n",
        "\n",
        "# Add layer control panel\n",
        "Map.addLayerControl()\n",
        "\n",
        "# Save the map as an HTML file\n",
        "map_dir = '/content/drive/MyDrive/UHI-Detection-Analysis/outputs/'\n",
        "output_path = map_dir + 'Sentinel2_map.html'\n",
        "Map.to_html(output_path)\n"
      ],
      "metadata": {
        "id": "BSIdXwzrFgIa",
        "colab": {
          "base_uri": "https://localhost:8080/",
          "height": 34
        },
        "outputId": "67915029-06cc-416b-89df-a869cff5b871"
      },
      "id": "BSIdXwzrFgIa",
      "execution_count": null,
      "outputs": [
        {
          "output_type": "display_data",
          "data": {
            "text/plain": [
              "<IPython.core.display.HTML object>"
            ],
            "text/html": [
              "\n",
              "            <style>\n",
              "                .geemap-dark {\n",
              "                    --jp-widgets-color: white;\n",
              "                    --jp-widgets-label-color: white;\n",
              "                    --jp-ui-font-color1: white;\n",
              "                    --jp-layout-color2: #454545;\n",
              "                    background-color: #383838;\n",
              "                }\n",
              "\n",
              "                .geemap-dark .jupyter-button {\n",
              "                    --jp-layout-color3: #383838;\n",
              "                }\n",
              "\n",
              "                .geemap-colab {\n",
              "                    background-color: var(--colab-primary-surface-color, white);\n",
              "                }\n",
              "\n",
              "                .geemap-colab .jupyter-button {\n",
              "                    --jp-layout-color3: var(--colab-primary-surface-color, white);\n",
              "                }\n",
              "            </style>\n",
              "            "
            ]
          },
          "metadata": {}
        },
        {
          "output_type": "stream",
          "name": "stdout",
          "text": [
            "Error for 2015: Image.select: Band pattern 'SCL' did not match any bands. Available bands: [B1, B2, B3, B4, B5, B6, B7, B8, B8A, B9, B10, B11, B12, QA10, QA20, QA60]\n"
          ]
        }
      ]
    },
    {
      "cell_type": "markdown",
      "id": "22",
      "metadata": {
        "id": "22"
      },
      "source": [
        "### Export Images as GeoTIF"
      ]
    },
    {
      "cell_type": "code",
      "execution_count": null,
      "id": "23",
      "metadata": {
        "id": "23"
      },
      "outputs": [],
      "source": [
        "# GeoTIFF olarak export etme fonksiyonu (GÜNCEL)\n",
        "def export_to_drive(image, name, folder):\n",
        "    task = ee.batch.Export.image.toDrive(\n",
        "        image=image,\n",
        "        description=name,\n",
        "        folder=folder.replace('/content/drive/MyDrive/', ''),  # GEE için göreli yol\n",
        "        fileNamePrefix=name,\n",
        "        scale=30,\n",
        "        region=hamburg.buffer(5000).bounds(),\n",
        "        fileFormat='GeoTIFF'\n",
        "    )\n",
        "    task.start()\n",
        "    return task\n",
        "\n",
        "work_dir = 'raw'\n",
        "\n",
        "# Drive'a kaydet (work_dir kullanarak)\n",
        "export_to_drive(lst_2015, 'LST_2015_Hamburg', work_dir)\n",
        "export_to_drive(lst_2024, 'LST_2024_Hamburg', work_dir)\n",
        "\n",
        "# Task'lerin tamamlanmasını bekle\n",
        "import time\n",
        "while True:\n",
        "    tasks = ee.batch.Task.list()\n",
        "    if all(task.status()['state'] in ('COMPLETED', 'FAILED') for task in tasks):\n",
        "        break\n",
        "    time.sleep(10)\n",
        "print(f\"Export işlemleri tamamlandı!\")"
      ]
    },
    {
      "cell_type": "code",
      "source": [
        "# Function to export an image to Google Drive as GeoTIFF\n",
        "def export_to_drive(image, name, folder):\n",
        "    task = ee.batch.Export.image.toDrive(\n",
        "        image=image,\n",
        "        description=name,\n",
        "        folder=folder.replace('/content/drive/MyDrive/', ''),  # Relative path for GEE\n",
        "        fileNamePrefix=name,\n",
        "        scale=30,\n",
        "        region=hamburg.buffer(5000).bounds(),\n",
        "        fileFormat='GeoTIFF'\n",
        "    )\n",
        "    task.start()\n",
        "    return task\n",
        "\n",
        "work_dir = 'raw'\n",
        "\n",
        "# Export each year's LST image to Google Drive\n",
        "export_tasks = []\n",
        "for year, lst_image in lst_images.items():\n",
        "    try:\n",
        "        task = export_to_drive(lst_image.select('LST'), f'LST_{year}_Hamburg', work_dir)\n",
        "        export_tasks.append(task)\n",
        "        print(f\"Export task started for {year}.\")\n",
        "    except Exception as e:\n",
        "        print(f\"Error exporting {year}: {str(e)}\")\n",
        "\n",
        "# Export each year's Sentinel-2 image to Google Drive\n",
        "for year, s2_image in s2_images.items():\n",
        "    try:\n",
        "        task = export_to_drive(s2_image.select(['B4', 'B3', 'B2']), f'Sentinel2_{year}_Hamburg', work_dir)\n",
        "        export_tasks.append(task)\n",
        "        print(f\"Export task started for Sentinel-2 image of {year}.\")\n",
        "    except Exception as e:\n",
        "        print(f\"Error exporting Sentinel-2 image for {year}: {str(e)}\")\n",
        "\n",
        "\n",
        "# Wait for all export tasks to complete\n",
        "import time\n",
        "while True:\n",
        "    tasks = ee.batch.Task.list()\n",
        "    if all(task.status()['state'] in ('COMPLETED', 'FAILED') for task in tasks):\n",
        "        break\n",
        "    time.sleep(10)\n",
        "\n",
        "print(\"All export tasks completed!\")\n"
      ],
      "metadata": {
        "id": "W5Er4GIUsfCb"
      },
      "id": "W5Er4GIUsfCb",
      "execution_count": null,
      "outputs": []
    },
    {
      "cell_type": "markdown",
      "source": [
        "#### Clean the metadata.widgets Data in the Notebook"
      ],
      "metadata": {
        "id": "QDYo97XuSRnh"
      },
      "id": "QDYo97XuSRnh"
    },
    {
      "cell_type": "code",
      "execution_count": null,
      "id": "24",
      "metadata": {
        "id": "24"
      },
      "outputs": [],
      "source": [
        "!pip install nbstripout > /dev/null 2>&1"
      ]
    },
    {
      "cell_type": "code",
      "execution_count": null,
      "id": "25",
      "metadata": {
        "id": "25"
      },
      "outputs": [],
      "source": [
        "!nbstripout /content/drive/MyDrive/GitHub_Repos/urban-heat-island/notebooks/01_data_acquisition.ipynb\n"
      ]
    },
    {
      "cell_type": "markdown",
      "source": [
        "### Summary and Next Steps\n",
        "\n",
        "In this notebook, **data acquisition** was prepared to determine the **hottest day** and to download satellite imagery from **Landsat 8 for LST** and **Sentinel-2**.  \n",
        "These datasets were saved in the `data/raw/` directory.\n",
        "\n",
        "In the next notebook, **`03_data_processing.ipynb`**, we will combine *LST* with **spectral indices** (e.g., NDVI) to create a **multi-channel tensor**, which will serve as the final input for the **U-Net model**.\n"
      ],
      "metadata": {
        "id": "zZ2BnvzztPKT"
      },
      "id": "zZ2BnvzztPKT"
    },
    {
      "cell_type": "code",
      "source": [],
      "metadata": {
        "id": "9CbG2HHCtRlt"
      },
      "id": "9CbG2HHCtRlt",
      "execution_count": null,
      "outputs": []
    }
  ],
  "metadata": {
    "colab": {
      "collapsed_sections": [
        "16",
        "156O2a1CFcCb"
      ],
      "provenance": []
    },
    "kaggle": {
      "accelerator": "none",
      "dataSources": [
        {
          "datasetId": 1932057,
          "sourceId": 3180297,
          "sourceType": "datasetVersion"
        },
        {
          "datasetId": 1933827,
          "sourceId": 3183837,
          "sourceType": "datasetVersion"
        }
      ],
      "dockerImageVersionId": 30162,
      "isGpuEnabled": false,
      "isInternetEnabled": true,
      "language": "python",
      "sourceType": "notebook"
    },
    "kernelspec": {
      "display_name": "base",
      "language": "python",
      "name": "python3"
    },
    "language_info": {
      "codemirror_mode": {
        "name": "ipython",
        "version": 3
      },
      "file_extension": ".py",
      "mimetype": "text/x-python",
      "name": "python",
      "nbconvert_exporter": "python",
      "pygments_lexer": "ipython3",
      "version": "3.11.5"
    },
    "papermill": {
      "default_parameters": {},
      "duration": 123.666225,
      "end_time": "2025-02-20T14:22:40.237629",
      "environment_variables": {},
      "exception": true,
      "input_path": "__notebook__.ipynb",
      "output_path": "__notebook__.ipynb",
      "parameters": {},
      "start_time": "2025-02-20T14:20:36.571404",
      "version": "2.3.3"
    }
  },
  "nbformat": 4,
  "nbformat_minor": 5
}