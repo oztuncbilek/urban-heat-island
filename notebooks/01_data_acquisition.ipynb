{
 "cells": [
  {
   "cell_type": "markdown",
   "id": "0",
   "metadata": {
    "id": "4ecf0337"
   },
   "source": [
    "# Data Acquisition"
   ]
  },
  {
   "cell_type": "markdown",
   "id": "1",
   "metadata": {
    "id": "U_cONCDDKk1v"
   },
   "source": [
    "### Import Libraries\n"
   ]
  },
  {
   "cell_type": "code",
   "execution_count": null,
   "id": "2",
   "metadata": {
    "id": "2Yj9ZmwTyH1u"
   },
   "outputs": [],
   "source": [
    "!pip install geemap google-cloud-storage rasterio matplotlib > /dev/null 2>&1"
   ]
  },
  {
   "cell_type": "code",
   "execution_count": null,
   "id": "3",
   "metadata": {
    "colab": {
     "base_uri": "https://localhost:8080/",
     "height": 34
    },
    "executionInfo": {
     "elapsed": 28968,
     "status": "ok",
     "timestamp": 1754058469778,
     "user": {
      "displayName": "Ozan Tuncbilek",
      "userId": "03046050273288977862"
     },
     "user_tz": -120
    },
    "id": "9381d38a",
    "outputId": "b872588f-08b5-4e8b-94e6-7443999bd6a6"
   },
   "outputs": [],
   "source": [
    "import ee\n",
    "import geemap\n",
    "import os\n",
    "import pandas as pd\n",
    "from google.colab import drive\n",
    "import rasterio\n",
    "import matplotlib.pyplot as plt\n",
    "\n",
    "\n",
    "drive.mount('/content/drive')\n",
    "work_dir = '/content/drive/MyDrive/UHI-Detection-Analysis/data/raw/'\n",
    "os.makedirs(work_dir, exist_ok=True)\n"
   ]
  },
  {
   "cell_type": "code",
   "execution_count": null,
   "id": "4",
   "metadata": {
    "colab": {
     "base_uri": "https://localhost:8080/",
     "height": 17
    },
    "executionInfo": {
     "elapsed": 12812,
     "status": "ok",
     "timestamp": 1754058484962,
     "user": {
      "displayName": "Ozan Tuncbilek",
      "userId": "03046050273288977862"
     },
     "user_tz": -120
    },
    "id": "Z6RWqRFIAjeT",
    "outputId": "744a27e0-9178-48b1-ca73-e24e3cbcf772"
   },
   "outputs": [],
   "source": [
    "ee.Authenticate()\n",
    "ee.Initialize(project='manifest-pride-258211')"
   ]
  },
  {
   "cell_type": "markdown",
   "id": "5",
   "metadata": {
    "id": "8IVVdNvBId2I"
   },
   "source": [
    "### Determining Hotest Summer Days"
   ]
  },
  {
   "cell_type": "markdown",
   "id": "6",
   "metadata": {
    "id": "Y73bu4A9AmVL"
   },
   "source": [
    "*Using MODIS hottest cloud-free summer days through 10 year*"
   ]
  },
  {
   "cell_type": "code",
   "execution_count": null,
   "id": "7",
   "metadata": {
    "colab": {
     "base_uri": "https://localhost:8080/",
     "height": 607
    },
    "executionInfo": {
     "elapsed": 11485,
     "status": "ok",
     "timestamp": 1754058520816,
     "user": {
      "displayName": "Ozan Tuncbilek",
      "userId": "03046050273288977862"
     },
     "user_tz": -120
    },
    "id": "6",
    "outputId": "d36b0d87-5e46-410d-e987-cc764dabada8"
   },
   "outputs": [],
   "source": [
    "def get_modis_hottest_days(start_year=2014, end_year=2024):\n",
    "\n",
    "    \"\"\"\n",
    "    Finds the hottest cloud-free summer days (May 15 – Sep 15) for Hamburg using MODIS LST data.\n",
    "    Returns a DataFrame with date, LST in Kelvin, and Celsius.\n",
    "    \"\"\"\n",
    "\n",
    "    # Create a 5 km buffer around Hamburg coordinates\n",
    "    hamburg = ee.Geometry.Point(9.9937, 53.5511).buffer(5000)\n",
    "    results = {}\n",
    "\n",
    "    for year in range(start_year, end_year + 1):\n",
    "        print(f\"\\nProcessing year {year}...\")\n",
    "\n",
    "        try:\n",
    "            # Load MODIS LST Day 1km collection\n",
    "            modis = ee.ImageCollection('MODIS/061/MOD11A1') \\\n",
    "                .filterBounds(hamburg) \\\n",
    "                .filterDate(f'{year}-05-15', f'{year}-09-15')\n",
    "                # .filter(ee.Filter.lt('QC_Day', 2))  # Optional: strict quality filter\n",
    "\n",
    "            # Function to extract mean LST and acquisition date\n",
    "            def compute_lst(img):\n",
    "                mean_lst = img.reduceRegion(\n",
    "                    reducer=ee.Reducer.mean(),\n",
    "                    geometry=hamburg,\n",
    "                    scale=1000\n",
    "                ).get('LST_Day_1km')\n",
    "                return ee.Feature(None, {\n",
    "                    'lst': mean_lst,\n",
    "                    'date': img.date().format('YYYY-MM-dd')\n",
    "                })\n",
    "\n",
    "            # Map function over collection, and filter out null results\n",
    "            lst_features = modis.map(compute_lst).filter(\n",
    "                ee.Filter.notNull(['lst'])\n",
    "            )\n",
    "\n",
    "            # Check if any valid images remain\n",
    "            if lst_features.size().getInfo() == 0:\n",
    "                print(\"No valid LST data available, skipping.\")\n",
    "                continue\n",
    "\n",
    "            # Sort by LST descending and pick the hottest\n",
    "            hottest = ee.Feature(lst_features.sort('lst', False).first())\n",
    "\n",
    "            date = hottest.get('date').getInfo()\n",
    "            lst_kelvin = hottest.get('lst').getInfo()\n",
    "\n",
    "            # Some years might return null\n",
    "            if lst_kelvin is None:\n",
    "                print(\"No temperature value found, skipping.\")\n",
    "                continue\n",
    "\n",
    "            lst_celsius = lst_kelvin * 0.02 - 273.15\n",
    "\n",
    "            results[year] = {\n",
    "                'date': date,\n",
    "                'lst_kelvin': lst_kelvin,\n",
    "                'lst_celsius': round(lst_celsius, 2)\n",
    "            }\n",
    "\n",
    "            print(f\"Hottest day: {date} | LST: {lst_celsius:.2f} °C\")\n",
    "\n",
    "        except Exception as e:\n",
    "            print(f\"Error: {str(e)}\")\n",
    "            continue\n",
    "\n",
    "    return pd.DataFrame.from_dict(results, orient='index')\n",
    "\n",
    "print(\"Extracting MODIS data...\")\n",
    "df_hottest = get_modis_hottest_days()"
   ]
  },
  {
   "cell_type": "code",
   "execution_count": null,
   "id": "8",
   "metadata": {
    "colab": {
     "base_uri": "https://localhost:8080/",
     "height": 243
    },
    "executionInfo": {
     "elapsed": 19,
     "status": "ok",
     "timestamp": 1754058546918,
     "user": {
      "displayName": "Ozan Tuncbilek",
      "userId": "03046050273288977862"
     },
     "user_tz": -120
    },
    "id": "tnU5m5pAF8da",
    "outputId": "7136461f-44a1-4c16-c9e3-80f99ce8c2f8"
   },
   "outputs": [],
   "source": [
    "print(\"Results:\")\n",
    "print(df_hottest)"
   ]
  },
  {
   "cell_type": "markdown",
   "id": "9",
   "metadata": {
    "id": "mYrFDOehI9xB"
   },
   "source": [
    "### Extracting Landsat-8 Images Based on Hottest Days"
   ]
  },
  {
   "cell_type": "markdown",
   "id": "10",
   "metadata": {
    "id": "hkYXy6LmAxgW"
   },
   "source": [
    "*Landsat 8 images based on hottest days and calculating LTS*"
   ]
  },
  {
   "cell_type": "code",
   "execution_count": null,
   "id": "11",
   "metadata": {
    "colab": {
     "base_uri": "https://localhost:8080/",
     "height": 17
    },
    "executionInfo": {
     "elapsed": 25,
     "status": "ok",
     "timestamp": 1754058543874,
     "user": {
      "displayName": "Ozan Tuncbilek",
      "userId": "03046050273288977862"
     },
     "user_tz": -120
    },
    "id": "iSjmV7cvAvsa",
    "outputId": "2377843a-edb1-4ece-8d20-83673fb99dbc"
   },
   "outputs": [],
   "source": [
    "# Hamburg coordinates\n",
    "hamburg = ee.Geometry.Point(9.99, 53.55)\n",
    "\n",
    "def get_landsat_data(year, max_cloud=20):\n",
    "    \"\"\"\n",
    "    Finds the most suitable Landsat 8 image for the given year.\n",
    "    Logic improved and sorting bug fixed.\n",
    "    \"\"\"\n",
    "    target_date = ee.Date(df_hottest.loc[year, 'date'])\n",
    "    image_collection = ee.ImageCollection(\"LANDSAT/LC08/C02/T1_L2\").filterBounds(hamburg)\n",
    "\n",
    "    # 1. Search on the exact date (+/- 1 day for flexibility)\n",
    "    landsat = image_collection \\\n",
    "        .filterDate(target_date.advance(-1, 'day'), target_date.advance(1, 'day')) \\\n",
    "        .filter(ee.Filter.lt('CLOUD_COVER', max_cloud))\n",
    "\n",
    "    # 2. If not found, search within +/- 10 days and select the least cloudy image\n",
    "    if landsat.size().getInfo() == 0:\n",
    "        print(f\"No image found for {year} within +/- 1 day and <{max_cloud}% cloud cover. Expanding search window...\")\n",
    "        landsat = image_collection \\\n",
    "            .filterDate(target_date.advance(-10, 'day'), target_date.advance(10, 'day')) \\\n",
    "            .filter(ee.Filter.lt('CLOUD_COVER', max_cloud)) \\\n",
    "            .sort('CLOUD_COVER')  # Bring the least cloudy image to the top\n",
    "\n",
    "    # 3. If still no image, remove cloud filter, select the least cloudy one, and apply mask\n",
    "    if landsat.size().getInfo() == 0:\n",
    "        print(f\"CRITICAL WARNING for {year}: No low-cloud image found. Searching best candidate with QA mask...\")\n",
    "        landsat = image_collection \\\n",
    "            .filterDate(target_date.advance(-15, 'day'), target_date.advance(15, 'day')) \\\n",
    "            .sort('CLOUD_COVER')  # Pick the least cloudy image (could be 50%, 80%, but best available)\n",
    "\n",
    "    # If any image found, select the first (best) one\n",
    "    image = ee.Image(landsat.first())\n",
    "\n",
    "    # Check if the image exists\n",
    "    # Wrapping with ee.Image() avoids errors on empty collections\n",
    "    # We can verify existence by checking its properties\n",
    "    if image.getInfo() is None:\n",
    "        print(f\"WARNING: No image found for {year} within any search window.\")\n",
    "        return None\n",
    "\n",
    "    # If we fell to step 3 (cloud filter not applied), apply QA mask\n",
    "    if image.get('CLOUD_COVER').getInfo() >= max_cloud:\n",
    "        print(f\"The best available image for {year} has high cloud cover ({image.get('CLOUD_COVER').getInfo():.2f}%). Applying QA mask.\")\n",
    "        # Cloud masking function\n",
    "        def mask_clouds(img):\n",
    "            # Check 3rd bit for clouds and 4th bit for cloud shadow\n",
    "            qa = img.select('QA_PIXEL')\n",
    "            cloud_bit_mask = 1 << 3\n",
    "            cloud_shadow_bit_mask = 1 << 4\n",
    "            # Keep only pixels without clouds and cloud shadows\n",
    "            mask = qa.bitwiseAnd(cloud_bit_mask).eq(0).And(qa.bitwiseAnd(cloud_shadow_bit_mask).eq(0))\n",
    "            return img.updateMask(mask)\n",
    "\n",
    "        image = mask_clouds(image)\n",
    "\n",
    "    return image\n",
    "\n",
    "\n",
    "# LST calculation function\n",
    "def calculate_lst(image):\n",
    "    # Check if input is a valid ee.Image\n",
    "    if image is None:\n",
    "        return None\n",
    "\n",
    "    lst = image.expression(\n",
    "        '(TIRS1 * 0.00341802 + 149.0) - 273.15',  # Convert Kelvin to Celsius\n",
    "        {'TIRS1': image.select('ST_B10')}\n",
    "    ).rename('LST')\n",
    "    return image.addBands(lst)"
   ]
  },
  {
   "cell_type": "code",
   "execution_count": null,
   "id": "12",
   "metadata": {
    "colab": {
     "base_uri": "https://localhost:8080/",
     "height": 868
    },
    "executionInfo": {
     "elapsed": 7024,
     "status": "ok",
     "timestamp": 1754058558964,
     "user": {
      "displayName": "Ozan Tuncbilek",
      "userId": "03046050273288977862"
     },
     "user_tz": -120
    },
    "id": "UGqW5cAxIDcm",
    "outputId": "b6252d57-1661-4a75-e434-c2fc222e28dc"
   },
   "outputs": [],
   "source": [
    "# --- Retrieve images and calculate LST ---\n",
    "years = df_hottest.index.tolist()\n",
    "lst_images = {}\n",
    "\n",
    "for year in years:\n",
    "    print(f\"\\n--- Processing year {year} ---\")\n",
    "    landsat_image = get_landsat_data(year)\n",
    "\n",
    "    if landsat_image:\n",
    "        lst_image = calculate_lst(landsat_image)\n",
    "        lst_images[year] = lst_image\n",
    "        print(f\"LST successfully calculated for {year}.\")\n",
    "    else:\n",
    "        print(f\"LST could not be calculated for {year} because no suitable image was found.\")"
   ]
  },
  {
   "cell_type": "markdown",
   "id": "13",
   "metadata": {
    "id": "QLgs5jgBK-gX"
   },
   "source": [
    "### Extracting Sentinel-2 Images Based on Hottest Days"
   ]
  },
  {
   "cell_type": "code",
   "execution_count": null,
   "id": "14",
   "metadata": {
    "colab": {
     "base_uri": "https://localhost:8080/",
     "height": 17
    },
    "executionInfo": {
     "elapsed": 9,
     "status": "ok",
     "timestamp": 1754060863081,
     "user": {
      "displayName": "Ozan Tuncbilek",
      "userId": "03046050273288977862"
     },
     "user_tz": -120
    },
    "id": "qHhfSD3ELGLQ",
    "outputId": "6aadff95-8014-48e5-d91d-1d1db0495be2"
   },
   "outputs": [],
   "source": [
    "def download_s2_images(df_hottest, folder_path='Sentinel2_HotDays', buffer_days=3):\n",
    "    \"\"\"\n",
    "    Downloads Sentinel-2 images for the hottest days in the provided DataFrame.\n",
    "\n",
    "    Parameters:\n",
    "        df_hottest (DataFrame): Must contain columns ['date'] indexed by year.\n",
    "        folder_path (str): Local folder to save images.\n",
    "        buffer_days (int): Number of days before/after the hottest date to search for images.\n",
    "    \"\"\"\n",
    "\n",
    "    hamburg = ee.Geometry.Point(9.99, 53.55).buffer(5000)\n",
    "\n",
    "    for year, row in df_hottest.iterrows():\n",
    "        try:\n",
    "            date = row['date']\n",
    "            print(f\"Downloading Sentinel-2 image for {year} ({date})...\")\n",
    "\n",
    "            # Filter Sentinel-2 SR images\n",
    "            s2 = ee.ImageCollection(\"COPERNICUS/S2_SR\") \\\n",
    "                .filterBounds(hamburg) \\\n",
    "                .filterDate(ee.Date(date).advance(-buffer_days, 'day'),\n",
    "                            ee.Date(date).advance(buffer_days, 'day')) \\\n",
    "                .filter(ee.Filter.lt('CLOUDY_PIXEL_PERCENTAGE', 20)) \\\n",
    "                .sort('CLOUDY_PIXEL_PERCENTAGE')\n",
    "\n",
    "            img = s2.first()\n",
    "\n",
    "            if img is None:\n",
    "                print(f\"No Sentinel-2 image found for {year}.\")\n",
    "                continue\n",
    "\n",
    "            # Export image as GeoTIFF\n",
    "            geemap.ee_export_image(\n",
    "                image=img.select(['B2', 'B3', 'B4', 'B8']),  # Blue, Green, Red, NIR\n",
    "                filename=f\"{folder_path}/S2_{year}.tif\",\n",
    "                scale=10,\n",
    "                region=hamburg.bounds(),\n",
    "                file_per_band=False\n",
    "            )\n",
    "            print(f\"{year} image downloaded successfully.\")\n",
    "\n",
    "        except Exception as e:\n",
    "            print(f\" Failed for {year}: {e}\")"
   ]
  },
  {
   "cell_type": "code",
   "execution_count": null,
   "id": "15",
   "metadata": {
    "colab": {
     "base_uri": "https://localhost:8080/",
     "height": 34
    },
    "executionInfo": {
     "elapsed": 22,
     "status": "ok",
     "timestamp": 1754060887661,
     "user": {
      "displayName": "Ozan Tuncbilek",
      "userId": "03046050273288977862"
     },
     "user_tz": -120
    },
    "id": "qetyvIBOLL6M",
    "outputId": "566bbed2-e2be-42d8-8a39-31af2fab7c7f"
   },
   "outputs": [],
   "source": [
    "import glob\n",
    "import rasterio\n",
    "\n",
    "def load_downloaded_images(folder_path='Sentinel2_HotDays'):\n",
    "    \"\"\"\n",
    "    Loads all downloaded Sentinel-2 images (.tif) into a dictionary of Rasterio datasets.\n",
    "    \"\"\"\n",
    "    images = {}\n",
    "    for file in sorted(glob.glob(f\"{folder_path}/S2_*.tif\")):\n",
    "        year = file.split('_')[-1].split('.')[0]\n",
    "        images[year] = rasterio.open(file)\n",
    "    return images\n",
    "\n",
    "# === Kullanım ===\n",
    "# download_s2_images(df_hottest)  # önce indirme yapılır\n",
    "s2_images = load_downloaded_images()\n",
    "\n",
    "print(f\"{len(s2_images)} Sentinel-2 images loaded for analysis.\")\n"
   ]
  },
  {
   "cell_type": "markdown",
   "id": "16",
   "metadata": {
    "id": "ar2DTOjgA1ef"
   },
   "source": [
    "#### Visualize 10 years LTS data for control"
   ]
  },
  {
   "cell_type": "code",
   "execution_count": null,
   "id": "17",
   "metadata": {
    "colab": {
     "base_uri": "https://localhost:8080/",
     "height": 17
    },
    "executionInfo": {
     "elapsed": 6846,
     "status": "ok",
     "timestamp": 1754062553913,
     "user": {
      "displayName": "Ozan Tuncbilek",
      "userId": "03046050273288977862"
     },
     "user_tz": -120
    },
    "id": "2F_BHCl2hefi",
    "outputId": "8f88c6e6-174a-419f-d7d0-37c36cb4eb18"
   },
   "outputs": [],
   "source": [
    "# Interactive harita oluştur\n",
    "Map = geemap.Map(center=[53.55, 9.99], zoom=12)\n",
    "\n",
    "# Görselleştirme parametreleri (tek bant için)\n",
    "vis_params = {\n",
    "    'min': 20,  # Min LST (°C)\n",
    "    'max': 40,  # Max LST (°C)\n",
    "    'palette': ['blue', 'green', 'yellow', 'red']  # Veya 'inferno'\n",
    "}\n",
    "\n",
    "# lst_images sözlüğündeki her yıl için katman ekle\n",
    "for year, lst_image in lst_images.items():\n",
    "    try:\n",
    "        # Görüntünün yalnızca LST bandını seç\n",
    "        lst_single_band = lst_image.select('LST')\n",
    "        # Haritaya katman ekle\n",
    "        Map.addLayer(lst_single_band, vis_params, f'LST {year}')\n",
    "    except Exception as e:\n",
    "        print(f\"{year} için hata: {str(e)}\")\n",
    "\n",
    "# Layer kontrol paneli ekle\n",
    "Map.addLayerControl()\n",
    "\n",
    "map_dir = '/content/drive/MyDrive/UHI-Detection-Analysis/outputs/'\n",
    "output_path = map_dir + 'LST_map.html'\n",
    "Map.to_html(output_path)"
   ]
  },
  {
   "cell_type": "markdown",
   "id": "18",
   "metadata": {
    "id": "dRylD9FSA_XT"
   },
   "source": [
    "*Adding Time Slider to 10 years LTS*\n"
   ]
  },
  {
   "cell_type": "code",
   "execution_count": null,
   "id": "19",
   "metadata": {
    "id": "u0tQdX8qhl_6"
   },
   "outputs": [],
   "source": []
  },
  {
   "cell_type": "markdown",
   "id": "20",
   "metadata": {
    "id": "-bYMEQRdKGpu"
   },
   "source": [
    "### Extracting Sentinel 2 Images Based on Hottest Days"
   ]
  },
  {
   "cell_type": "code",
   "execution_count": null,
   "id": "21",
   "metadata": {
    "id": "ci8ii8oMKQI_"
   },
   "outputs": [],
   "source": []
  },
  {
   "cell_type": "markdown",
   "id": "22",
   "metadata": {
    "id": "QW48jT9rBFm8"
   },
   "source": [
    "### Export Images as GeoTIF"
   ]
  },
  {
   "cell_type": "code",
   "execution_count": null,
   "id": "23",
   "metadata": {
    "colab": {
     "base_uri": "https://localhost:8080/",
     "height": 211
    },
    "executionInfo": {
     "elapsed": 132,
     "status": "error",
     "timestamp": 1754061062990,
     "user": {
      "displayName": "Ozan Tuncbilek",
      "userId": "03046050273288977862"
     },
     "user_tz": -120
    },
    "id": "r3dVBnzEhQmZ",
    "outputId": "9050eda1-5473-4723-c118-7010b0d4b4eb"
   },
   "outputs": [],
   "source": [
    "# GeoTIFF olarak export etme fonksiyonu (GÜNCEL)\n",
    "def export_to_drive(image, name, folder):\n",
    "    task = ee.batch.Export.image.toDrive(\n",
    "        image=image,\n",
    "        description=name,\n",
    "        folder=folder.replace('/content/drive/MyDrive/', ''),  # GEE için göreli yol\n",
    "        fileNamePrefix=name,\n",
    "        scale=30,\n",
    "        region=hamburg.buffer(5000).bounds(),\n",
    "        fileFormat='GeoTIFF'\n",
    "    )\n",
    "    task.start()\n",
    "    return task\n",
    "\n",
    "work_dir = 'raw'\n",
    "\n",
    "# Drive'a kaydet (work_dir kullanarak)\n",
    "export_to_drive(lst_2015, 'LST_2015_Hamburg', work_dir)\n",
    "export_to_drive(lst_2024, 'LST_2024_Hamburg', work_dir)\n",
    "\n",
    "# Task'lerin tamamlanmasını bekle\n",
    "import time\n",
    "while True:\n",
    "    tasks = ee.batch.Task.list()\n",
    "    if all(task.status()['state'] in ('COMPLETED', 'FAILED') for task in tasks):\n",
    "        break\n",
    "    time.sleep(10)\n",
    "print(f\"Export işlemleri tamamlandı!\")"
   ]
  },
  {
   "cell_type": "code",
   "execution_count": null,
   "id": "24",
   "metadata": {
    "colab": {
     "base_uri": "https://localhost:8080/",
     "height": 17
    },
    "executionInfo": {
     "elapsed": 5614,
     "status": "ok",
     "timestamp": 1754062582035,
     "user": {
      "displayName": "Ozan Tuncbilek",
      "userId": "03046050273288977862"
     },
     "user_tz": -120
    },
    "id": "p1EUYI6nRsE4",
    "outputId": "18251582-4089-47f8-fc66-7b6128ddfe45"
   },
   "outputs": [],
   "source": [
    "!pip install nbstripout > /dev/null 2>&1"
   ]
  },
  {
   "cell_type": "code",
   "execution_count": null,
   "id": "25",
   "metadata": {
    "colab": {
     "base_uri": "https://localhost:8080/",
     "height": 34
    },
    "executionInfo": {
     "elapsed": 101,
     "status": "ok",
     "timestamp": 1754062556548,
     "user": {
      "displayName": "Ozan Tuncbilek",
      "userId": "03046050273288977862"
     },
     "user_tz": -120
    },
    "id": "XJ5Af9brQmsl",
    "outputId": "2a229370-b388-481b-dc86-db887241c1ef"
   },
   "outputs": [],
   "source": [
    "!nbstripout /content/drive/MyDrive/GitHub_Repos/urban-heat-island/notebooks/01_data_acquisition.ipynb\n"
   ]
  }
 ],
 "metadata": {
  "colab": {
   "collapsed_sections": [
    "-bYMEQRdKGpu"
   ],
   "provenance": []
  },
  "kaggle": {
   "accelerator": "none",
   "dataSources": [
    {
     "datasetId": 1932057,
     "sourceId": 3180297,
     "sourceType": "datasetVersion"
    },
    {
     "datasetId": 1933827,
     "sourceId": 3183837,
     "sourceType": "datasetVersion"
    }
   ],
   "dockerImageVersionId": 30162,
   "isGpuEnabled": false,
   "isInternetEnabled": true,
   "language": "python",
   "sourceType": "notebook"
  },
  "kernelspec": {
   "display_name": "base",
   "language": "python",
   "name": "python3"
  },
  "language_info": {
   "codemirror_mode": {
    "name": "ipython",
    "version": 3
   },
   "file_extension": ".py",
   "mimetype": "text/x-python",
   "name": "python",
   "nbconvert_exporter": "python",
   "pygments_lexer": "ipython3",
   "version": "3.11.5"
  },
  "papermill": {
   "default_parameters": {},
   "duration": 123.666225,
   "end_time": "2025-02-20T14:22:40.237629",
   "environment_variables": {},
   "exception": true,
   "input_path": "__notebook__.ipynb",
   "output_path": "__notebook__.ipynb",
   "parameters": {},
   "start_time": "2025-02-20T14:20:36.571404",
   "version": "2.3.3"
  }
 },
 "nbformat": 4,
 "nbformat_minor": 5
}
