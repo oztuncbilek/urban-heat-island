{
 "cells": [
  {
   "cell_type": "markdown",
   "id": "0",
   "metadata": {
    "id": "view-in-github"
   },
   "source": [
    "<a href=\"https://colab.research.google.com/github/oztuncbilek/urban-heat-island/blob/main/notebooks/01_data_acquisition_geemap.ipynb\" target=\"_parent\"><img src=\"https://colab.research.google.com/assets/colab-badge.svg\" alt=\"Open In Colab\"/></a>"
   ]
  },
  {
   "cell_type": "markdown",
   "id": "1",
   "metadata": {
    "id": "4ecf0337"
   },
   "source": [
    "## Data Acquisition"
   ]
  },
  {
   "cell_type": "code",
   "execution_count": null,
   "id": "2",
   "metadata": {
    "executionInfo": {
     "elapsed": 11618,
     "status": "ok",
     "timestamp": 1748099491061,
     "user": {
      "displayName": "Ozan Tuncbilek",
      "userId": "03046050273288977862"
     },
     "user_tz": -120
    },
    "id": "9381d38a"
   },
   "outputs": [],
   "source": [
    "!pip install geemap google-cloud-storage rasterio matplotlib > /dev/null 2>&1"
   ]
  },
  {
   "cell_type": "code",
   "execution_count": null,
   "id": "3",
   "metadata": {
    "colab": {
     "base_uri": "https://localhost:8080/",
     "height": 34
    },
    "executionInfo": {
     "elapsed": 52612,
     "status": "ok",
     "timestamp": 1748099543675,
     "user": {
      "displayName": "Ozan Tuncbilek",
      "userId": "03046050273288977862"
     },
     "user_tz": -120
    },
    "id": "cBbXPbwfxEXB",
    "outputId": "20154f0d-36cf-4e20-f80d-86b25810127d"
   },
   "outputs": [],
   "source": [
    "import ee\n",
    "import geemap\n",
    "import os\n",
    "from google.colab import drive\n",
    "import rasterio\n",
    "import matplotlib.pyplot as plt\n",
    "\n",
    "\n",
    "drive.mount('/content/drive')\n",
    "work_dir = '/content/drive/MyDrive/UHI-Detection-Analysis/data/raw/'\n",
    "os.makedirs(work_dir, exist_ok=True)\n"
   ]
  },
  {
   "cell_type": "code",
   "execution_count": null,
   "id": "4",
   "metadata": {
    "colab": {
     "base_uri": "https://localhost:8080/",
     "height": 17
    },
    "executionInfo": {
     "elapsed": 12734,
     "status": "ok",
     "timestamp": 1748099556412,
     "user": {
      "displayName": "Ozan Tuncbilek",
      "userId": "03046050273288977862"
     },
     "user_tz": -120
    },
    "id": "MEQGzwEmyADr",
    "outputId": "26e16b38-6438-4869-b130-70dc45749898"
   },
   "outputs": [],
   "source": [
    "# GEE kimlik doğrulama\n",
    "ee.Authenticate()\n",
    "ee.Initialize(project='manifest-pride-258211')"
   ]
  },
  {
   "cell_type": "code",
   "execution_count": null,
   "id": "5",
   "metadata": {
    "colab": {
     "base_uri": "https://localhost:8080/",
     "height": 17
    },
    "executionInfo": {
     "elapsed": 4,
     "status": "ok",
     "timestamp": 1748099556428,
     "user": {
      "displayName": "Ozan Tuncbilek",
      "userId": "03046050273288977862"
     },
     "user_tz": -120
    },
    "id": "ZMIqG1ncbvp3",
    "outputId": "f0a8d77f-8db1-4187-fa8e-533665b110a5"
   },
   "outputs": [],
   "source": [
    "# Hamburg koordinatları\n",
    "hamburg = ee.Geometry.Point(9.99, 53.55)\n",
    "\n",
    "# Landsat 8 koleksiyonunu filtrele (2015 ve 2024 yaz ayları)\n",
    "def get_landsat_data(year):\n",
    "    collection = ee.ImageCollection(\"LANDSAT/LC08/C02/T1_L2\") \\\n",
    "        .filterBounds(hamburg) \\\n",
    "        .filterDate(f'{year}-06-01', f'{year}-08-31') \\\n",
    "        .filter(ee.Filter.lt('CLOUD_COVER', 10)) \\\n",
    "        .sort('CLOUD_COVER') \\\n",
    "        .first()\n",
    "    return collection\n",
    "\n",
    "# LST hesaplama fonksiyonu (basitleştirilmiş)\n",
    "def calculate_lst(image):\n",
    "    lst = image.expression(\n",
    "        '(TIRS1 * 0.00341802 + 149.0) - 273.15',  # Kelvin'den Celsius'a\n",
    "        {'TIRS1': image.select('ST_B10')}\n",
    "    ).rename('LST')\n",
    "    return lst\n",
    "\n",
    "# 2015 ve 2025 için LST görüntülerini al\n",
    "lst_2015 = calculate_lst(get_landsat_data(2015))\n",
    "lst_2024 = calculate_lst(get_landsat_data(2024))"
   ]
  },
  {
   "cell_type": "code",
   "execution_count": null,
   "id": "6",
   "metadata": {
    "colab": {
     "base_uri": "https://localhost:8080/",
     "height": 621,
     "referenced_widgets": [
      "789c373788224eada293429b6423cd9b",
      "a4112af89dd04ba7a98553cea5aef0a3",
      "b167b2fab11e4b639770b2a7d7bb6f93",
      "315eb42f538d482f8a5c3ca827ce6468",
      "0bbcadaf697a4aa3a84862dde7dbf843",
      "8b64b7dc0d594f57a962a9cace485f60",
      "b9df56d486ed4e95a614f3cada318583",
      "51e16ff9d79a47ed9a42dc9681d6e2b4",
      "ae377d2abb854c8a865f3c9a7eb0ef7d",
      "69a1c20a5c0147b7ab34e010014bdded",
      "f4a06553fb8c43f6b20e9e20d93db5b5",
      "362193b4195a4d6c96c1564a075d00a1",
      "00be247d8e1e4db6b7d7ac361cf99531",
      "8a5088e436804724b588105aaac884b7",
      "032b4f982159479bb57e0be5258df7d8",
      "f509f3194ca9448e9c3370618c08a6c0",
      "a1e15934fbd44e4fb149470e208477fa",
      "2a561759466a4ec7b156ec5d005d5797",
      "deb547a06be444a999b94faea3f56d20",
      "d83d722af6214370a421588b0c323b70",
      "03460eb1a5664c7e879aa99101a0ac95",
      "9e51c0f269574410a71f5963ba2b3cd6",
      "aae5d38ecc8546d989e7e0e63ca6b737",
      "c1b3787efd8449a8b9a8a29d84c51199",
      "bac2aaa5edb7436eb7d0210c064bc3aa",
      "3367cf8792fb4b988533de84117fc222",
      "7c8600034bde40ea880d3713527f654c",
      "2b916c513fe244abaaf51603f1ed5d90",
      "d636db91a12641f59be976fd959c7004",
      "8c624c229691475091253dfcbbc679f2",
      "aa7d405eae014e2eb64fb6333f2101ba",
      "da26dd474e1a4e6c815d15a288b6a4b8",
      "a700d13d42974a3093cc7d7406ff5e41",
      "20d527df5d3d44ca87449e692568eacb",
      "268316c952d44c6ba570af5d324996b0",
      "13122e29f18148f6aea1d641c860f58f",
      "d2dc68200a3d4b928e711296b54977ad",
      "bf89531651c04584b5652665cb16fc10",
      "625db327606b4619b9faef80239532c4",
      "659b9ac87aea41b1bc63348357f4be9a",
      "7f6f8225448d4c5d8fcc19898b70a034",
      "343803dd7952494e80fb7380205158f3",
      "ec795ffdb93441388b8e4702b34b7b3e",
      "219b7db5f2914108a4486de3fe141f93",
      "97cedda497ef499aaffe8a608fd38025",
      "ba8f7e76d8ac478e914c97d0685f952a",
      "26cf1ed0d9c4469c8562b35e4a33c1e2",
      "1563443aca20481983f4925287bc5e2e",
      "3e16335d753d44659e009615ebe1c723",
      "4997ef078b95417f98b25f332be5fc23",
      "f525c87c24eb4caaa468469bb948dbeb",
      "f7b227cd22364bc4af437f8b592cc2be",
      "385de01023ef41a781d0aa9c71cb0ac4",
      "8eda4b52ed394997a9b2208285685b26",
      "6ec070799ae14a378a89cc37578dc554",
      "61e040341a514b38b4fbd1f6050f1b4c",
      "362dbb6c2cb34b329c3ea2795a43d1ed",
      "f885184166ae406b84e47d98e488f806",
      "f18dc13d6a4a45de971f42d534d205cd",
      "ff20ce58e3d343c2a906a692c9368dc5",
      "17dd3513426e478da649c2527cbe0aef",
      "6e35205d1e2f4587a0a515dace742260",
      "1aaee88c58fb45fe9215810e9bcea956",
      "6156d41843c7462a804835536b173258",
      "0a8b50fb0b56489fa279065ad29717d1",
      "983a5bdca0494f31b07d40ccba9a2d72",
      "64a22896cffa43c79e9b9e5d7babee9e",
      "eae1b7ce8ec34dc1ad08c6ee62c18383",
      "6c77b43e66d04e5f9eafe39e95620e2f",
      "dd26f5156261428688418b291b6c062f",
      "b9fc224fc08b4f5aaa28f670440136b2",
      "8a7fbfd80d01485680c3b2d8d4ac0888",
      "07ed1c33be7d41ad8f30d496138318d6",
      "d05cdb8817f44761b94705e9803acc8f",
      "7953ac7ff1d14a8e8995d094c9fe6069",
      "e52bb139450745c2a91151d6d412f4d3",
      "45e95340a90f4c5dbdc623cedcc50c3c",
      "c436f768349f47bca57b6a513608d5d9",
      "9a18a09f43ee485e8cf0bf4d1347f65f",
      "6e8151bddc0d4d189f0119f2e7d9b24b",
      "bbf2e9dc383e43c0b3a700497c2d8395",
      "1b2326bc45cd4072a60de1e9d666f92e",
      "72e6acdd895c4a2fabf015e16bd9f6b6",
      "9fd35198b7ee496da6c77a786104ceca",
      "019d1680cc154956a691a8d3801e7062",
      "87c62f52cb9e4d348b936b1a735aa2e0",
      "190cca4d908f4513a30da04f95599d67",
      "c33ad5d8ed3c4a73845495f5d7a0f78c",
      "79db1210f41d4143b906f61bb90e5b48",
      "ddb26777527e43e988257ed4980b6784",
      "14c01b6876dc4e438d37e07d58345a4d"
     ]
    },
    "executionInfo": {
     "elapsed": 1590,
     "status": "ok",
     "timestamp": 1748099558019,
     "user": {
      "displayName": "Ozan Tuncbilek",
      "userId": "03046050273288977862"
     },
     "user_tz": -120
    },
    "id": "Vu_xEsNQyHCj",
    "outputId": "eb2b1b7f-aa91-4d7f-ccd4-f38f179c380a"
   },
   "outputs": [],
   "source": [
    "# Interactive harita oluştur\n",
    "Map = geemap.Map(center=[53.55, 9.99], zoom=12)\n",
    "\n",
    "# LST görüntülerini haritaya ekle (renk paleti: 'inferno' veya 'coolwarm')\n",
    "vis_params = {\n",
    "    'min': 20,  # Min LST (°C)\n",
    "    'max': 40,  # Max LST (°C)\n",
    "    'palette': ['blue', 'green', 'yellow', 'red']  # Veya 'inferno'\n",
    "}\n",
    "\n",
    "Map.addLayer(lst_2015, vis_params, 'LST 2015')\n",
    "Map.addLayer(lst_2024, vis_params, 'LST 2025')\n",
    "\n",
    "# Layer kontrol paneli ekle\n",
    "Map.addLayerControl()\n",
    "Map"
   ]
  },
  {
   "cell_type": "code",
   "execution_count": null,
   "id": "7",
   "metadata": {
    "colab": {
     "base_uri": "https://localhost:8080/",
     "height": 34
    },
    "executionInfo": {
     "elapsed": 26334,
     "status": "ok",
     "timestamp": 1748099082928,
     "user": {
      "displayName": "Ozan Tuncbilek",
      "userId": "03046050273288977862"
     },
     "user_tz": -120
    },
    "id": "8vtKYkCeyRt5",
    "outputId": "4d845de5-c9cd-4ee0-f65a-682766c194a8"
   },
   "outputs": [],
   "source": [
    "# GeoTIFF olarak export etme fonksiyonu (GÜNCEL)\n",
    "def export_to_drive(image, name, folder):\n",
    "    task = ee.batch.Export.image.toDrive(\n",
    "        image=image,\n",
    "        description=name,\n",
    "        folder=folder.replace('/content/drive/MyDrive/', ''),  # GEE için göreli yol\n",
    "        fileNamePrefix=name,\n",
    "        scale=30,\n",
    "        region=hamburg.buffer(5000).bounds(),\n",
    "        fileFormat='GeoTIFF'\n",
    "    )\n",
    "    task.start()\n",
    "    return task\n",
    "\n",
    "work_dir = 'raw'\n",
    "\n",
    "# Drive'a kaydet (work_dir kullanarak)\n",
    "export_to_drive(lst_2015, 'LST_2015_Hamburg', work_dir)\n",
    "export_to_drive(lst_2024, 'LST_2024_Hamburg', work_dir)\n",
    "\n",
    "# Task'lerin tamamlanmasını bekle\n",
    "import time\n",
    "while True:\n",
    "    tasks = ee.batch.Task.list()\n",
    "    if all(task.status()['state'] in ('COMPLETED', 'FAILED') for task in tasks):\n",
    "        break\n",
    "    time.sleep(10)\n",
    "print(f\"Export işlemleri tamamlandı!\")"
   ]
  },
  {
   "cell_type": "code",
   "execution_count": null,
   "id": "8",
   "metadata": {
    "colab": {
     "base_uri": "https://localhost:8080/",
     "height": 17
    },
    "executionInfo": {
     "elapsed": 4462,
     "status": "ok",
     "timestamp": 1748099567762,
     "user": {
      "displayName": "Ozan Tuncbilek",
      "userId": "03046050273288977862"
     },
     "user_tz": -120
    },
    "id": "8iZZO5H3yymE",
    "outputId": "60911f88-6506-4271-95e0-795692a3a2a7"
   },
   "outputs": [],
   "source": [
    "!pip install nbstripout > /dev/null 2>&1"
   ]
  },
  {
   "cell_type": "code",
   "execution_count": null,
   "id": "9",
   "metadata": {
    "colab": {
     "base_uri": "https://localhost:8080/",
     "height": 34
    },
    "executionInfo": {
     "elapsed": 517,
     "status": "ok",
     "timestamp": 1748099569487,
     "user": {
      "displayName": "Ozan Tuncbilek",
      "userId": "03046050273288977862"
     },
     "user_tz": -120
    },
    "id": "RpSw7tOu2FMB",
    "outputId": "f4df2a67-2b85-4a32-c5be-0aadb1cc92ea"
   },
   "outputs": [],
   "source": [
    "!nbstripout Copyof01_data_acquisition_geemap.ipynb\n",
    "\n",
    "!nbstripout /content/drive/MyDrive/notebooks/Copyof01_data_acquisition_geemap.ipynb\n"
   ]
  }
 ],
 "metadata": {
  "colab": {
   "provenance": []
  },
  "kaggle": {
   "accelerator": "none",
   "dataSources": [
    {
     "datasetId": 1932057,
     "sourceId": 3180297,
     "sourceType": "datasetVersion"
    },
    {
     "datasetId": 1933827,
     "sourceId": 3183837,
     "sourceType": "datasetVersion"
    }
   ],
   "dockerImageVersionId": 30162,
   "isGpuEnabled": false,
   "isInternetEnabled": true,
   "language": "python",
   "sourceType": "notebook"
  },
  "kernelspec": {
   "display_name": "base",
   "language": "python",
   "name": "python3"
  },
  "language_info": {
   "codemirror_mode": {
    "name": "ipython",
    "version": 3
   },
   "file_extension": ".py",
   "mimetype": "text/x-python",
   "name": "python",
   "nbconvert_exporter": "python",
   "pygments_lexer": "ipython3",
   "version": "3.11.5"
  },
  "papermill": {
   "default_parameters": {},
   "duration": 123.666225,
   "end_time": "2025-02-20T14:22:40.237629",
   "environment_variables": {},
   "exception": true,
   "input_path": "__notebook__.ipynb",
   "output_path": "__notebook__.ipynb",
   "parameters": {},
   "start_time": "2025-02-20T14:20:36.571404",
   "version": "2.3.3"
  }
 },
 "nbformat": 4,
 "nbformat_minor": 5
}
