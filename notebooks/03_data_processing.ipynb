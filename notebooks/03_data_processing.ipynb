{
  "cells": [
    {
      "cell_type": "markdown",
      "id": "4ecf0337",
      "metadata": {
        "id": "4ecf0337"
      },
      "source": [
        "## Data Processing\n"
      ]
    },
    {
      "cell_type": "markdown",
      "source": [
        "###  Data Processing Workflow\n",
        "\n",
        "This notebook prepares the input tensor for the U-Net model by combining satellite data and OSM masks.\n",
        "\n",
        "### Step 1: Load Raster Data\n",
        "- Import Sentinel-2 bands (e.g., B04, B08)\n",
        "- Import Landsat 8 LST band\n",
        "- All files are located in: `/content/drive/MyDrive/UHI-Detection-Analysis/data/raw/`\n",
        "\n",
        "### Step 2: Align and Reproject\n",
        "- Ensure all rasters have the same CRS and resolution (e.g., 10m)\n",
        "\n",
        "### Step 3: Compute Indices\n",
        "- NDVI = (B08 - B04) / (B08 + B04)\n",
        "- LST is already available\n",
        "- Optionally compute another index (e.g., NDBI)\n",
        "\n",
        "### Step 4: Stack Tensor\n",
        "- Combine NDVI, LST, other indices, and OSM masks into a multi-channel tensor\n",
        "\n",
        "### Step 5: Save Outputs\n",
        "- Save tensor as `.npy` or `.tif` in `data/processed/`\n",
        "- Save metadata as `meta.json`\n"
      ],
      "metadata": {
        "id": "vYhYfXfJHJjL"
      },
      "id": "vYhYfXfJHJjL"
    },
    {
      "cell_type": "code",
      "execution_count": null,
      "id": "9381d38a",
      "metadata": {
        "id": "9381d38a"
      },
      "outputs": [],
      "source": [
        "import rasterio\n",
        "import os\n",
        "from google.colab import drive\n",
        "\n",
        "# Define paths\n",
        "drive.mount('/content/drive')\n",
        "work_dir = '/content/drive/MyDrive/UHI-Detection-Analysis/data/raw/'\n",
        "os.makedirs(work_dir, exist_ok=True)\n",
        "sentinel_b04_path = os.path.join(work_dir, 'sentinel2_B04.tif')\n",
        "sentinel_b08_path = os.path.join(work_dir, 'sentinel2_B08.tif')\n",
        "landsat_lst_path = os.path.join(work_dir, 'landsat8_LST.tif')\n",
        "\n",
        "# Load rasters\n",
        "with rasterio.open(sentinel_b04_path) as src:\n",
        "    b04 = src.read(1)\n",
        "    b04_meta = src.meta\n",
        "\n",
        "with rasterio.open(sentinel_b08_path) as src:\n",
        "    b08 = src.read(1)\n",
        "    b08_meta = src.meta\n",
        "\n",
        "with rasterio.open(landsat_lst_path) as src:\n",
        "    lst = src.read(1)\n",
        "    lst_meta = src.meta\n",
        "\n",
        "print(\"Raster files loaded successfully.\")\n"
      ]
    },
    {
      "cell_type": "code",
      "source": [
        "#ndvi calculation"
      ],
      "metadata": {
        "id": "VDibwaC7eQam"
      },
      "id": "VDibwaC7eQam",
      "execution_count": null,
      "outputs": []
    },
    {
      "cell_type": "code",
      "source": [],
      "metadata": {
        "id": "qNcnUTvvHK2j"
      },
      "id": "qNcnUTvvHK2j",
      "execution_count": null,
      "outputs": []
    }
  ],
  "metadata": {
    "kaggle": {
      "accelerator": "none",
      "dataSources": [
        {
          "datasetId": 1932057,
          "sourceId": 3180297,
          "sourceType": "datasetVersion"
        },
        {
          "datasetId": 1933827,
          "sourceId": 3183837,
          "sourceType": "datasetVersion"
        }
      ],
      "dockerImageVersionId": 30162,
      "isGpuEnabled": false,
      "isInternetEnabled": true,
      "language": "python",
      "sourceType": "notebook"
    },
    "kernelspec": {
      "display_name": "base",
      "language": "python",
      "name": "python3"
    },
    "language_info": {
      "codemirror_mode": {
        "name": "ipython",
        "version": 3
      },
      "file_extension": ".py",
      "mimetype": "text/x-python",
      "name": "python",
      "nbconvert_exporter": "python",
      "pygments_lexer": "ipython3",
      "version": "3.11.5"
    },
    "papermill": {
      "default_parameters": {},
      "duration": 123.666225,
      "end_time": "2025-02-20T14:22:40.237629",
      "environment_variables": {},
      "exception": true,
      "input_path": "__notebook__.ipynb",
      "output_path": "__notebook__.ipynb",
      "parameters": {},
      "start_time": "2025-02-20T14:20:36.571404",
      "version": "2.3.3"
    },
    "colab": {
      "provenance": []
    }
  },
  "nbformat": 4,
  "nbformat_minor": 5
}