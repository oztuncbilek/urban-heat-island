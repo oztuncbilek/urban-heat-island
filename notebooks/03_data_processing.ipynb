{
  "cells": [
    {
      "cell_type": "markdown",
      "id": "4ecf0337",
      "metadata": {
        "id": "4ecf0337"
      },
      "source": [
        "## Data Processing\n"
      ]
    },
    {
      "cell_type": "markdown",
      "source": [
        "###  Data Processing Workflow\n",
        "\n",
        "This notebook prepares the input tensor for the U-Net model by combining satellite data and OSM masks.\n",
        "\n",
        "### Step 1: Load Raster Data\n",
        "- Import Sentinel-2 bands\n",
        "- Import Landsat 8 LST band\n",
        "- Import rasterized OSM Masks\n",
        "- All files are located in: `/content/drive/MyDrive/UHI-Detection-Analysis/data/raw/`\n",
        "\n",
        "### Step 2: Align and Reproject\n",
        "- Ensure all rasters have the same CRS and resolution (e.g., 10m)\n",
        "\n",
        "### Step 3: Compute Indices\n",
        "- NDVI = (B08 - B04) / (B08 + B04)\n",
        "- LST is already available\n",
        "- Optionally compute another index (e.g., NDBI)\n",
        "\n",
        "### Step 4: Stack Tensor\n",
        "- Combine NDVI, LST, other indices, and OSM masks into a multi-channel tensor\n",
        "\n",
        "### Step 5: Save Outputs\n",
        "- Save tensor as `.npy` or `.tif` in `data/processed/`\n",
        "- Save metadata as `meta.json`\n"
      ],
      "metadata": {
        "id": "vYhYfXfJHJjL"
      },
      "id": "vYhYfXfJHJjL"
    },
    {
      "cell_type": "code",
      "execution_count": null,
      "id": "9381d38a",
      "metadata": {
        "id": "9381d38a"
      },
      "outputs": [],
      "source": [
        "import rasterio\n",
        "import os\n",
        "from google.colab import drive\n",
        "\n",
        "# Define paths\n",
        "drive.mount('/content/drive')\n",
        "work_dir = '/content/drive/MyDrive/UHI-Detection-Analysis/data/raw/'\n",
        "os.makedirs(work_dir, exist_ok=True)\n",
        "\n",
        "years = list(range(2015, 2024))\n",
        "\n",
        "# Dictionary to store loaded rasters\n",
        "sentinel_rasters = {}\n",
        "\n",
        "# Loop through each year and load the corresponding raster file\n",
        "for year in years:\n",
        "    file_name = f'sentinel_{year}_multiband.tif'\n",
        "    file_path = os.path.join(work_dir, file_name)\n",
        "\n",
        "    try:\n",
        "        with rasterio.open(file_path) as src:\n",
        "            sentinel_rasters[year] = {\n",
        "                'data': src.read(),  # Read all bands\n",
        "                'meta': src.meta     # Store metadata\n",
        "            }\n",
        "        print(f\"Loaded: {file_name}\")\n",
        "    except FileNotFoundError:\n",
        "        print(f\"File not found: {file_name}\")\n",
        "\n",
        "# Print summary of loaded years\n",
        "print(f\"\\nSuccessfully loaded Sentinel-2 data for years: {list(sentinel_rasters.keys())}\")\n",
        "\n"
      ]
    },
    {
      "cell_type": "code",
      "source": [
        "# Dictionary to store loaded LST rasters\n",
        "lst_rasters = {}\n",
        "\n",
        "# Loop through each year and load the corresponding LST raster file\n",
        "for year in years:\n",
        "    file_name = f'landsat8_LST_{year}.tif'\n",
        "    file_path = os.path.join(work_dir, file_name)\n",
        "\n",
        "    try:\n",
        "        with rasterio.open(file_path) as src:\n",
        "            lst_rasters[year] = {\n",
        "                'data': src.read(1),  # Read the first band (LST)\n",
        "                'meta': src.meta      # Store metadata\n",
        "            }\n",
        "        print(f\"Loaded: {file_name}\")\n",
        "    except FileNotFoundError:\n",
        "        print(f\"File not found: {file_name}\")\n",
        "\n",
        "# Print summary of loaded years\n",
        "print(f\"\\nSuccessfully loaded Landsat 8 LST data for years: {list(lst_rasters.keys())}\")\n"
      ],
      "metadata": {
        "id": "sZ2-9izTJAzR"
      },
      "id": "sZ2-9izTJAzR",
      "execution_count": null,
      "outputs": []
    },
    {
      "cell_type": "code",
      "source": [
        "# Define the directory containing rasterized OSM masks\n",
        "osm_dir = '/content/drive/MyDrive/UHI-Detection-Analysis/data/raw/osm/'\n",
        "\n",
        "# Define expected mask filenames\n",
        "mask_files = {\n",
        "    'building': 'building_mask.tif',\n",
        "    'road': 'road_mask.tif',\n",
        "    'green_space': 'green_space_mask.tif',\n",
        "    'water': 'water_mask.tif'\n",
        "}\n",
        "\n",
        "# Dictionary to store loaded OSM masks\n",
        "osm_masks = {}\n",
        "\n",
        "# Load each mask file\n",
        "for key, filename in mask_files.items():\n",
        "    file_path = os.path.join(osm_dir, filename)\n",
        "    try:\n",
        "        with rasterio.open(file_path) as src:\n",
        "            osm_masks[key] = {\n",
        "                'data': src.read(1),  # Read single band\n",
        "                'meta': src.meta      # Store metadata\n",
        "            }\n",
        "        print(f\"Loaded OSM mask: {filename}\")\n",
        "    except FileNotFoundError:\n",
        "        print(f\"OSM mask file not found: {filename}\")\n",
        "\n",
        "# Summary\n",
        "print(f\"\\nSuccessfully loaded OSM masks: {list(osm_masks.keys())}\")\n"
      ],
      "metadata": {
        "id": "VDibwaC7eQam"
      },
      "id": "VDibwaC7eQam",
      "execution_count": null,
      "outputs": []
    },
    {
      "cell_type": "code",
      "source": [],
      "metadata": {
        "id": "qNcnUTvvHK2j"
      },
      "id": "qNcnUTvvHK2j",
      "execution_count": null,
      "outputs": []
    }
  ],
  "metadata": {
    "kaggle": {
      "accelerator": "none",
      "dataSources": [
        {
          "datasetId": 1932057,
          "sourceId": 3180297,
          "sourceType": "datasetVersion"
        },
        {
          "datasetId": 1933827,
          "sourceId": 3183837,
          "sourceType": "datasetVersion"
        }
      ],
      "dockerImageVersionId": 30162,
      "isGpuEnabled": false,
      "isInternetEnabled": true,
      "language": "python",
      "sourceType": "notebook"
    },
    "kernelspec": {
      "display_name": "base",
      "language": "python",
      "name": "python3"
    },
    "language_info": {
      "codemirror_mode": {
        "name": "ipython",
        "version": 3
      },
      "file_extension": ".py",
      "mimetype": "text/x-python",
      "name": "python",
      "nbconvert_exporter": "python",
      "pygments_lexer": "ipython3",
      "version": "3.11.5"
    },
    "papermill": {
      "default_parameters": {},
      "duration": 123.666225,
      "end_time": "2025-02-20T14:22:40.237629",
      "environment_variables": {},
      "exception": true,
      "input_path": "__notebook__.ipynb",
      "output_path": "__notebook__.ipynb",
      "parameters": {},
      "start_time": "2025-02-20T14:20:36.571404",
      "version": "2.3.3"
    },
    "colab": {
      "provenance": []
    }
  },
  "nbformat": 4,
  "nbformat_minor": 5
}