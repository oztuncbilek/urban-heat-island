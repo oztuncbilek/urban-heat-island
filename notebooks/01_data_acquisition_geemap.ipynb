{
 "cells": [
  {
   "cell_type": "markdown",
   "id": "4ecf0337",
   "metadata": {},
   "source": [
    "## Data Exploration"
   ]
  },
  {
   "cell_type": "code",
   "execution_count": 2,
   "id": "9381d38a",
   "metadata": {},
   "outputs": [],
   "source": [
    "import pandas as pd\n",
    "import numpy"
   ]
  },
  {
   "cell_type": "code",
   "execution_count": 3,
   "id": "20f596b2",
   "metadata": {},
   "outputs": [
    {
     "name": "stdout",
     "output_type": "stream",
     "text": [
      "   label                                              title  \\\n",
      "0      2                     Stuning even for the non-gamer   \n",
      "1      2              The best soundtrack ever to anything.   \n",
      "2      2                                           Amazing!   \n",
      "3      2                               Excellent Soundtrack   \n",
      "4      2  Remember, Pull Your Jaw Off The Floor After He...   \n",
      "\n",
      "                                              review  \n",
      "0  This sound track was beautiful! It paints the ...  \n",
      "1  I'm reading a lot of reviews saying that this ...  \n",
      "2  This soundtrack is my favorite music of all ti...  \n",
      "3  I truly like this soundtrack and I enjoy video...  \n",
      "4  If you've played the game, you know how divine...  \n"
     ]
    }
   ],
   "source": [
    "train_df = pd.read_csv(\"../data/raw/train.csv\", names=[\"label\", \"title\", \"review\"])\n",
    "test_df = pd.read_csv(\"../data/raw/test.csv\", names=[\"label\", \"title\", \"review\"])\n",
    "\n",
    "print(train_df.head())"
   ]
  },
  {
   "cell_type": "code",
   "execution_count": 4,
   "id": "060bd6f0",
   "metadata": {},
   "outputs": [
    {
     "name": "stdout",
     "output_type": "stream",
     "text": [
      "<class 'pandas.core.frame.DataFrame'>\n",
      "RangeIndex: 3600000 entries, 0 to 3599999\n",
      "Data columns (total 3 columns):\n",
      " #   Column  Dtype \n",
      "---  ------  ----- \n",
      " 0   label   int64 \n",
      " 1   title   object\n",
      " 2   review  object\n",
      "dtypes: int64(1), object(2)\n",
      "memory usage: 82.4+ MB\n",
      "None\n",
      "Missing values (Train):\n",
      " label       0\n",
      "title     207\n",
      "review      0\n",
      "dtype: int64\n",
      "Labels (Train):\n",
      " label\n",
      "2    1800000\n",
      "1    1800000\n",
      "Name: count, dtype: int64\n",
      "Sample::\n",
      " This sound track was beautiful! It paints the senery in your mind so well I would recomend it even to people who hate vid. game music! I have played the game Chrono Cross but out of all of the games I have ever played it has the best music! It backs away from crude keyboarding and takes a fresher step with grate guitars and soulful orchestras. It would impress anyone who cares to listen! ^_^\n"
     ]
    }
   ],
   "source": [
    "print(train_df.info())  # 3 sütun: label (1-2), title, review\n",
    "\n",
    "print(\"Missing values (Train):\\n\", train_df.isnull().sum())\n",
    "\n",
    "print(\"Labels (Train):\\n\", train_df[\"label\"].value_counts())\n",
    "\n",
    "sample_review = train_df[\"review\"].iloc[0]\n",
    "print(\"Sample::\\n\", sample_review)  "
   ]
  },
  {
   "cell_type": "code",
   "execution_count": null,
   "id": "01f810a7",
   "metadata": {},
   "outputs": [],
   "source": [
    "#Sampling data \n",
    "train_sample = train_df.sample(n=10000, random_state=42)\n",
    "test_sample = test_df.sample(n=2000, random_state=42)"
   ]
  }
 ],
 "metadata": {
  "kaggle": {
   "accelerator": "none",
   "dataSources": [
    {
     "datasetId": 1932057,
     "sourceId": 3180297,
     "sourceType": "datasetVersion"
    },
    {
     "datasetId": 1933827,
     "sourceId": 3183837,
     "sourceType": "datasetVersion"
    }
   ],
   "dockerImageVersionId": 30162,
   "isGpuEnabled": false,
   "isInternetEnabled": true,
   "language": "python",
   "sourceType": "notebook"
  },
  "kernelspec": {
   "display_name": "base",
   "language": "python",
   "name": "python3"
  },
  "language_info": {
   "codemirror_mode": {
    "name": "ipython",
    "version": 3
   },
   "file_extension": ".py",
   "mimetype": "text/x-python",
   "name": "python",
   "nbconvert_exporter": "python",
   "pygments_lexer": "ipython3",
   "version": "3.11.5"
  },
  "papermill": {
   "default_parameters": {},
   "duration": 123.666225,
   "end_time": "2025-02-20T14:22:40.237629",
   "environment_variables": {},
   "exception": true,
   "input_path": "__notebook__.ipynb",
   "output_path": "__notebook__.ipynb",
   "parameters": {},
   "start_time": "2025-02-20T14:20:36.571404",
   "version": "2.3.3"
  }
 },
 "nbformat": 4,
 "nbformat_minor": 5
}
