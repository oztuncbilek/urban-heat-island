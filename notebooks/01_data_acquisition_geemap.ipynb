{
 "cells": [
  {
   "cell_type": "markdown",
   "id": "0",
   "metadata": {
    "id": "view-in-github"
   },
   "source": [
    "<a href=\"https://colab.research.google.com/github/oztuncbilek/urban-heat-island/blob/main/notebooks/01_data_acquisition_geemap.ipynb\" target=\"_parent\"><img src=\"https://colab.research.google.com/assets/colab-badge.svg\" alt=\"Open In Colab\"/></a>"
   ]
  },
  {
   "cell_type": "markdown",
   "id": "1",
   "metadata": {
    "id": "4ecf0337"
   },
   "source": [
    "## Data Acquisition"
   ]
  },
  {
   "cell_type": "code",
   "execution_count": null,
   "id": "2",
   "metadata": {
    "executionInfo": {
     "elapsed": 27131,
     "status": "ok",
     "timestamp": 1750883193801,
     "user": {
      "displayName": "Ozan Tuncbilek",
      "userId": "03046050273288977862"
     },
     "user_tz": -120
    },
    "id": "9381d38a"
   },
   "outputs": [],
   "source": [
    "!pip install geemap google-cloud-storage rasterio matplotlib > /dev/null 2>&1"
   ]
  },
  {
   "cell_type": "code",
   "execution_count": null,
   "id": "3",
   "metadata": {
    "colab": {
     "base_uri": "https://localhost:8080/",
     "height": 35
    },
    "executionInfo": {
     "elapsed": 50525,
     "status": "ok",
     "timestamp": 1750883264837,
     "user": {
      "displayName": "Ozan Tuncbilek",
      "userId": "03046050273288977862"
     },
     "user_tz": -120
    },
    "id": "cBbXPbwfxEXB",
    "outputId": "d16bec38-fd06-4873-ece5-fa4f09d3b238"
   },
   "outputs": [],
   "source": [
    "import ee\n",
    "import geemap\n",
    "import os\n",
    "from google.colab import drive\n",
    "import rasterio\n",
    "import matplotlib.pyplot as plt\n",
    "\n",
    "\n",
    "drive.mount('/content/drive')\n",
    "work_dir = '/content/drive/MyDrive/UHI-Detection-Analysis/data/raw/'\n",
    "os.makedirs(work_dir, exist_ok=True)\n"
   ]
  },
  {
   "cell_type": "code",
   "execution_count": null,
   "id": "4",
   "metadata": {
    "colab": {
     "base_uri": "https://localhost:8080/",
     "height": 17
    },
    "executionInfo": {
     "elapsed": 14129,
     "status": "ok",
     "timestamp": 1750883316751,
     "user": {
      "displayName": "Ozan Tuncbilek",
      "userId": "03046050273288977862"
     },
     "user_tz": -120
    },
    "id": "MEQGzwEmyADr",
    "outputId": "310ca1c8-8dd0-4393-a5f9-64c75e16ae38"
   },
   "outputs": [],
   "source": [
    "# GEE kimlik doğrulama\n",
    "ee.Authenticate()\n",
    "ee.Initialize(project='manifest-pride-258211')"
   ]
  },
  {
   "cell_type": "markdown",
   "id": "5",
   "metadata": {
    "id": "61WuDEwFwHGU"
   },
   "source": [
    "**MODIS for selecting hotest days through 10 year**"
   ]
  },
  {
   "cell_type": "code",
   "execution_count": null,
   "id": "6",
   "metadata": {
    "colab": {
     "base_uri": "https://localhost:8080/",
     "height": 856
    },
    "executionInfo": {
     "elapsed": 10337,
     "status": "ok",
     "timestamp": 1750884935271,
     "user": {
      "displayName": "Ozan Tuncbilek",
      "userId": "03046050273288977862"
     },
     "user_tz": -120
    },
    "id": "SNSDdnadwNZ6",
    "outputId": "64144554-7ca9-44a7-8ae3-3fcf22f50b06"
   },
   "outputs": [],
   "source": [
    "def get_modis_hottest_days(start_year=2014, end_year=2024):\n",
    "\n",
    "    \"\"\"\n",
    "    Finds the hottest cloud-free summer days (May 15 – Sep 15) for Hamburg using MODIS LST data.\n",
    "    Returns a DataFrame with date, LST in Kelvin, and Celsius.\n",
    "    \"\"\"\n",
    "\n",
    "    # Create a 5 km buffer around Hamburg coordinates\n",
    "    hamburg = ee.Geometry.Point(9.9937, 53.5511).buffer(5000)\n",
    "    results = {}\n",
    "\n",
    "    for year in range(start_year, end_year + 1):\n",
    "        print(f\"\\nProcessing year {year}...\")\n",
    "\n",
    "        try:\n",
    "            # Load MODIS LST Day 1km collection\n",
    "            modis = ee.ImageCollection('MODIS/061/MOD11A1') \\\n",
    "                .filterBounds(hamburg) \\\n",
    "                .filterDate(f'{year}-05-15', f'{year}-09-15')\n",
    "                # .filter(ee.Filter.lt('QC_Day', 2))  # Optional: strict quality filter\n",
    "\n",
    "            # Function to extract mean LST and acquisition date\n",
    "            def compute_lst(img):\n",
    "                mean_lst = img.reduceRegion(\n",
    "                    reducer=ee.Reducer.mean(),\n",
    "                    geometry=hamburg,\n",
    "                    scale=1000\n",
    "                ).get('LST_Day_1km')\n",
    "                return ee.Feature(None, {\n",
    "                    'lst': mean_lst,\n",
    "                    'date': img.date().format('YYYY-MM-dd')\n",
    "                })\n",
    "\n",
    "            # Map function over collection, and filter out null results\n",
    "            lst_features = modis.map(compute_lst).filter(\n",
    "                ee.Filter.notNull(['lst'])\n",
    "            )\n",
    "\n",
    "            # Check if any valid images remain\n",
    "            if lst_features.size().getInfo() == 0:\n",
    "                print(\"No valid LST data available, skipping.\")\n",
    "                continue\n",
    "\n",
    "            # Sort by LST descending and pick the hottest\n",
    "            hottest = ee.Feature(lst_features.sort('lst', False).first())\n",
    "\n",
    "            date = hottest.get('date').getInfo()\n",
    "            lst_kelvin = hottest.get('lst').getInfo()\n",
    "\n",
    "            # Some years might return null\n",
    "            if lst_kelvin is None:\n",
    "                print(\"No temperature value found, skipping.\")\n",
    "                continue\n",
    "\n",
    "            lst_celsius = lst_kelvin * 0.02 - 273.15\n",
    "\n",
    "            results[year] = {\n",
    "                'date': date,\n",
    "                'lst_kelvin': lst_kelvin,\n",
    "                'lst_celsius': round(lst_celsius, 2)\n",
    "            }\n",
    "\n",
    "            print(f\"Hottest day: {date} | LST: {lst_celsius:.2f} °C\")\n",
    "\n",
    "        except Exception as e:\n",
    "            print(f\"Error: {str(e)}\")\n",
    "            continue\n",
    "\n",
    "    return pd.DataFrame.from_dict(results, orient='index')\n",
    "\n",
    "print(\"\\Extracting MODIS data...\")\n",
    "df = get_modis_hottest_days()\n",
    "print(\"\\SResults:\")\n",
    "print(df)"
   ]
  },
  {
   "cell_type": "code",
   "execution_count": null,
   "id": "7",
   "metadata": {
    "colab": {
     "base_uri": "https://localhost:8080/",
     "height": 17
    },
    "executionInfo": {
     "elapsed": 7,
     "status": "ok",
     "timestamp": 1748798599281,
     "user": {
      "displayName": "Ozan Tuncbilek",
      "userId": "03046050273288977862"
     },
     "user_tz": -120
    },
    "id": "ZMIqG1ncbvp3",
    "outputId": "d259da36-ea6c-4bfa-c456-f1b1e7c8a687"
   },
   "outputs": [],
   "source": [
    "# Hamburg koordinatları\n",
    "hamburg = ee.Geometry.Point(9.99, 53.55)\n",
    "\n",
    "# Landsat 8 koleksiyonunu filtrele (2015 ve 2024 yaz ayları)\n",
    "def get_landsat_data(year):\n",
    "    collection = ee.ImageCollection(\"LANDSAT/LC08/C02/T1_L2\") \\\n",
    "        .filterBounds(hamburg) \\\n",
    "        .filterDate(f'{year}-06-01', f'{year}-08-31') \\\n",
    "        .filter(ee.Filter.lt('CLOUD_COVER', 10)) \\\n",
    "        .sort('CLOUD_COVER') \\\n",
    "        .mean()\n",
    "    return collection\n",
    "\n",
    "# LST hesaplama fonksiyonu (basitleştirilmiş)\n",
    "def calculate_lst(image):\n",
    "    lst = image.expression(\n",
    "        '(TIRS1 * 0.00341802 + 149.0) - 273.15',  # Kelvin'den Celsius'a\n",
    "        {'TIRS1': image.select('ST_B10')}\n",
    "    ).rename('LST')\n",
    "    return lst\n",
    "\n",
    "# 2015 ve 2025 için LST görüntülerini al\n",
    "lst_2015 = calculate_lst(get_landsat_data(2015))\n",
    "lst_2024 = calculate_lst(get_landsat_data(2024))"
   ]
  },
  {
   "cell_type": "code",
   "execution_count": null,
   "id": "8",
   "metadata": {
    "colab": {
     "base_uri": "https://localhost:8080/",
     "height": 621,
     "referenced_widgets": [
      "519f7b5b456d4020a9b463a6af9dee36",
      "7e02ce4f4abc4d2cb0fb56d031ef5011",
      "602eb8ae206540898de71042e672e1ae",
      "5e52f4d4851e4e8aa00b2d510fd22f0a",
      "862f1d42fa2b42a39bcada36220bd200",
      "d4edf23492f84a469bf8e5f9182f2a9e",
      "77d078403c0e4481b3c0050f23da89c3",
      "ce0a54a4b9184c80a7cb76f9526856ef",
      "b9a5d9216c9541a99cc2210ae124f31a",
      "237ba755a2494fab8b640c352c80f210",
      "f74c2187ce224af2bab875ddf6efc695",
      "ab531df0bdd44c95aa102c5b1030fa2f",
      "8ab85a15fdc1465092abde6e2d5d6745",
      "0bd504280c7e4d11ab0c658419900ac6",
      "b957064798f140c8a807af0fb6259359",
      "435e64dab56c418487633ffa6c05b55d",
      "65d762e92469448e9ad4d364023e68e5",
      "f8a3d44ef58b4b44b3c920e496843b84",
      "cfa72e77224a486db3d6e67eef642600",
      "cca2ae21d5d948a28d42b135319d5def",
      "4d74ba86c8a44c63bff024d3369054e9",
      "2585d45dcd2245cbab999ba6f770fe02",
      "8c36f14c2c154e7cb3d643f4e09b96b9",
      "b3fa6c58f17a4e04b548271580653e60",
      "3c18721a0b304e41a7b137f1f517dd79",
      "1608f21249f5475b987f87c1feef7561",
      "8c02834d47f2484b918738a4574ccde2",
      "2acf549a842d45d0ae7d96db72f5c0f0",
      "f8800e1d286f4cc4bf90e46c4fcf1e95",
      "e49d463e6fd14c5583584fcaebb04ffc",
      "5a97369d3878472d84c367e909892e18",
      "b87ccdd9b2ad4dfa81c3c89e67ed61e3",
      "8854268478ac465f9d7db97c22e30059",
      "85fb1fc6491e4d248954f8b08a78aefa",
      "95abf8da12d947c3b54e011f7352b254",
      "b48dd902f9aa43a4880307ae45c88d95",
      "6357f117359c4531be35c903e8d17749",
      "8af712a53c4a4872a5cb65a4425badfe",
      "ac3431a0d03f4bf4ac343709fa6d5180",
      "36ac53ae06694c5b8bace1551690bca2",
      "f63a211da471466c873985c2b863b086",
      "d421e667bc5844fd954e77a08e425d9c",
      "190799a4434646059dab278709608e1b",
      "a4368bc0574d49c589809470366736b2",
      "f0fb315f07d54a4ea355580f14161d81",
      "0ba2ce0bc85847358d8b489fb7fa25d8",
      "4f2edaa0952141988c8eaa6e9ab4674b",
      "71df657a7b8e456b9099115f92b48daa",
      "327b4c83ecae4c23a0fafd427580f086",
      "62a6349a598044a3a155857dd7340fb6",
      "0ee1b0da54a749b48281fc515fd648f7",
      "e27bc3fdec364bb6b58a950ef5f68a43",
      "cc5ef4f41fb34b0dbc2a0698e356944a",
      "9881517e26ba4fe7bd6b558b30ffb716",
      "ce8c1a9af8fe4850ae662f22847e70e2",
      "276df1a79ba04b46833e7bfb0f27dce9",
      "d8c3ade4f671423e8cbda604e507fb74",
      "50e37dae2fb348a18a5f91b2344af7a3",
      "71819678ab9e4902b93eb36245785d24",
      "5592aad4c9db4a85a1106a651ec36cde",
      "75f10262661243b7a9e4a0582963c1dd",
      "65136b7580314b41a87f19e005080388",
      "8236c6e66d384bc9a36c4b627995cc60",
      "3f5b54c157e8412bba7d00e64cb5af5b",
      "c75b7ac2583e425c9d27476d92e808b3",
      "886f8c23379444d0b3c01cade427e67b",
      "100b3e25f27c44f4aa653816d0b8afef",
      "b8c3766baf574e7c851dbf11d7d05e73",
      "688e35f4768943a384884a1f4c07cd70",
      "b89529f318a14bff8df90756b0ff1568",
      "86d23a010a424f7eaa3160b041da60fd",
      "c783776b92724e5cb224450d53391c83",
      "e2cbc344ae974d7d964ca5477fc7972a",
      "fa908f647f8449aba3f2fd6a740ddbe2",
      "aeba5e0fd913416ebba4057954a0135f",
      "98ce5e3506104b7eb4049e49aee70e45",
      "3a766a9ad2894246bea4f4b3dcc3c988",
      "148120fb21634a5492303d903ca7936f",
      "76a3ba70b6d643e488f2a74b54d63add",
      "6fa12d112d5644a68d0b17708c07ee64",
      "1d016802490d41438162bc91ab7f2260",
      "936b6a2e5f414a1a942de43fd55a8eaa",
      "384939b0fa95426ea094b9a7ff15e63a",
      "c4b21dc781944218ba8fae074dcb27ae",
      "a3fa947171fb414a925e745442a05a8a",
      "fae1ce718baa42189c3e34c07452b2e4",
      "95518e93c7e4443084645d6edea30ca0",
      "5c20a74e4f0f468f9cdaa283767f6cff",
      "56549e3a529b4a95afa2cc9e47126a39",
      "0e2e2fbcf06841ff9663a4d17109672c",
      "afad6413321247f9b6fdce307c3e2d0c"
     ]
    },
    "executionInfo": {
     "elapsed": 1623,
     "status": "ok",
     "timestamp": 1748798759009,
     "user": {
      "displayName": "Ozan Tuncbilek",
      "userId": "03046050273288977862"
     },
     "user_tz": -120
    },
    "id": "Vu_xEsNQyHCj",
    "outputId": "5b9ae5c1-11d7-4ab3-f073-05aef8f65918"
   },
   "outputs": [],
   "source": [
    "# Interactive harita oluştur\n",
    "Map = geemap.Map(center=[53.55, 9.99], zoom=12)\n",
    "\n",
    "# LST görüntülerini haritaya ekle (renk paleti: 'inferno' veya 'coolwarm')\n",
    "vis_params = {\n",
    "    'min': 20,  # Min LST (°C)\n",
    "    'max': 40,  # Max LST (°C)\n",
    "    'palette': ['blue', 'green', 'yellow', 'red']  # Veya 'inferno'\n",
    "}\n",
    "\n",
    "Map.addLayer(lst_2015, vis_params, 'LST 2015')\n",
    "Map.addLayer(lst_2024, vis_params, 'LST 2025')\n",
    "\n",
    "# Layer kontrol paneli ekle\n",
    "Map.addLayerControl()\n",
    "Map"
   ]
  },
  {
   "cell_type": "code",
   "execution_count": null,
   "id": "9",
   "metadata": {
    "colab": {
     "base_uri": "https://localhost:8080/",
     "height": 1000,
     "referenced_widgets": [
      "e1d57c77511e465fa5fea3554e2a1a36",
      "95a39452247c471e9dc4b059a65a9a7f",
      "b6d18ee066af456aafd6be23997297ea",
      "85ec74a5c95842399b17535c21b1ddd2",
      "4fcbacf3a3c6413fa0c7a8f975f82e44",
      "f1cd3974feed4c9594ea50ff38a3d4f7",
      "9d0c39e745ad4b9d94d480e5871cd70e",
      "cdaed9c537b94fd79fc1a8ff453a7ab0",
      "eb6770bdc0924a9d8cf90b625f7f969f",
      "0024723a559e4e48bd7b22e60a5bbe2b",
      "26e05ba90dd64b4ab2be75d47035281a",
      "0bc5c94cc93f47afae07364a7c7d9739",
      "131ee07b598f4f5eaa1d1cc8ccb7ee24",
      "b7cc50d89bf347beb4edbb110bc5839b",
      "db0ddbc59cfe41a99f60eec33381d3c2",
      "1fc14f7b58544cedb78df62134422591",
      "d3d94875c3ba4605bb153db8a4590ea9",
      "3b88cf50d2d941e1be5f8b7b63101e98",
      "9323e6f4744a476aa65f8cab4dc44c5e",
      "4688ec567c9243648b87b471958f9edb",
      "9ddfeb7c5ef64e109486a68edce44a02",
      "8b2f7c54f3014d039debd039972d623c",
      "fd48fb778c7040b584079315aa8342fa",
      "53435eb9f07846d7aa32a7729e5336e5",
      "986c7a8161e04e14a3d6ac9ae828bbea",
      "36675a89c1eb488087e577967fa2a48f",
      "15f4805344424c94a7a9f27e333bda07",
      "b9fab5d2e228451b93c9953209210225",
      "21dc97e3a55f479ebe8df1bf54562567",
      "5ebf7008b54f436587cca3720aede816",
      "3aee46a424274c3ea4aad2e199bc65c6",
      "92f633cd80ed4d478664ac52514bb489",
      "9c6777c56a674305893e6192ed47893f",
      "415dfae7032b4b4fb9e0f806624b7fdf",
      "a22aa2fe84b04c21a953ce2fad42ab87",
      "c952b238f5e84513ba0fbe348365578e",
      "27212f6922ed453eac2d441bd1cbd3cb",
      "c0be5f148b054b5585f1b0dbd09ac93e",
      "25379b0a56e449bbb1bc7e740f2ef2e1",
      "d78a062a121c47b2ae3dce6f2061bfa7",
      "139836a81151408daec252e628866768",
      "6c778c39fb654c989165169f7133ea91",
      "19b961096a5c4079b2ca42cd4ee0544e",
      "b7b6a782adf54f5ea11db044592eb304",
      "b1bba06f77ba4724abd226ba152f2f21",
      "bf7ffe9dc7e5481ca5eb2005a025355b",
      "a916679d59c24cd5b2e23ee06f101109",
      "b7812d61d99e4fd7ba241a77bc669e57",
      "627362d547db4b50b9b6b7222d92e93a",
      "2efe4099188a4f6f862a548d70e6f8c0",
      "143a843a8179415f8db462623a4686a2",
      "c5c37ecc4c354fc7b4fd8defcaecd82c",
      "91cc6be9e81a4d0482c0b9377c09cb39",
      "32273834830d47a8bdcfa96aa2969075",
      "b21ae63afa8d4b75be257061b72e20f2",
      "5c7ce552ebc14cda96fc5ca375509b7c",
      "b1c34d1abcd14d848f89a9316458af9d",
      "054b894e4efb41d88c8268036bbb5c3e",
      "58cd181773b44467a19bd41280e3e511",
      "d1abb4be8d294410a4dfcbf247b88ccc",
      "89e8945026e240bcbaf27fefbee7fd9c",
      "4e8e9f33ee4b46e9b336ff742a2982dd",
      "ab5eb55acde14103a8862570214dbdcc",
      "4c01c9d06aef4181a75315f064260c86",
      "8e0d0776bc58466a8ebac3bb8daef492",
      "ed5a226e22d34f5393f1bcfcb6d451a0",
      "a74521a04e4f48908d49207fad23135c",
      "fe37c8865301478eb13ab146d4b0d779",
      "e9cf634141404616b985514d303422e4",
      "1d28c3d55abb4f0db0e5a0dc4e155dc8",
      "2d46269ebf1744e296aa8fe3b86dbaad",
      "de074d3f6e6a4af3a7140684071c36d3",
      "6bdb6ddd833b4fdaabe4a9a86837d3d3",
      "d02bc68e24464117b41003cda949f884",
      "268eb2c7661e45c19b234cb6433410b5",
      "383da23032784dcdb9abb3fb5a080cc6",
      "b73781a5f5b24878ad92cadc878762c1",
      "465534a473df47c69c6de44372e1e75b",
      "f92dd46674db4725a09733fbb273e4ed",
      "090e5737985e4c259b926bb1df5ded4f",
      "1afb4da7740a4aae96e1bcf4ecb13f90",
      "b39bf6ed5bed4e60aa8f1ea45eb7eb0c",
      "319286fcfa0948b1b0a02ffcefd088df",
      "64f243ba81024cbabf46f7b910b96b9b",
      "5ec1516a8f4a49eba161b351e816c380",
      "16356d1101b546d0bc067826495914ce",
      "0baeae480a674b908e0affdc7ed603c7",
      "9af7c9366d914f42b47c43a5c65cb9cc",
      "32eeef160a09486c85f9a21ee7648129",
      "8c611b3fdea945d298dafdfe39652daa",
      "52ffbae11ac14cef82da47717275dd46",
      "f328cf27c29045c8a6348c3c3120912d",
      "99562b4d453b4f03a30e5c2b7ccd8fb3",
      "5e6ce60a4f1e4d609ad213a1040b0131",
      "8f6df21110184b37a0f9ec42686dbc03",
      "3a0a9687f1d146b1bf06730ea24bc2ff",
      "537140456a09407cbb11e97cf6b81d27",
      "aa96327138da491abdcd4813ae7f0966",
      "23bf8a98d9754110a75b1bdaf8eb9043",
      "93ea271965ee445fa7c879ec24347b0b",
      "17974c47d75844eca2aaf9dafdec717a",
      "2e30b9b5e6c6442cac5fe2a9108c7c3c",
      "3d71c32e3f9e4cf99ff07955bd8f5455",
      "30327c179aa5406daec1a5181c7eeff1",
      "6237ded8698d48eeb6f949c8fedac388",
      "a2bfab61e4ef4bfabd51ed774a6d05c5",
      "c374c481694b499e89e5f5cf1e249442",
      "3e72125234ab4a05a361694597fc7100",
      "e7de42db235e47d497305466b8dec790",
      "2faef680feb7413487e2309afeed1285",
      "f4c40ac2b0184945813e7f5a012aa0ae",
      "a530f9e01e2a4379bc99b15e831361ff",
      "3b8cd7f9e70949f495e34e241a8a082a",
      "e1cf6635deef4f5aa052a21802977e2e",
      "50581073f697471293512a28cfb10697",
      "c6300631e20e4e60a463eef5c7b7b590",
      "4aad80f9cc224eeda9c94048b28b6063",
      "dfba8ea6c8d841188f5538cba886f2d3",
      "1923d0800a2840b4913a50c9236fa840",
      "bef4942f394e4577955db55b1546f192",
      "6a683f6c0f314254819a68b7ab54109d",
      "dd2ce77844cb496593b3006d2a6a4d3d",
      "5ab267a96d9a47cdac7c693e02b437ee",
      "af294da2804d4ca7bdceba191b1eb8c3",
      "4757a45419be42e49329a12014f20d4f",
      "eb7f99536c3d43a0a7fa01618824f965",
      "849921917ec244adb7c6b82cf25d21a7",
      "f6da413afa194d61a32c09beabee42fa",
      "1febc9d6847440baa6ac896f5e6bce2c",
      "1ea78ec7166e40e1913d977140af0071",
      "661fa05de5044d229616cd7de83d30f7",
      "e83b0e4b1e8d462188ab3669c3a317b9",
      "3949160697134d4a939d92894a75df86",
      "a08c1bf20e954e9db3cb8a1e3429b29a",
      "dd0365427ae14a77aa77caa3005d6988",
      "503451d39928426f9ceeeb911cb39c8f",
      "319d4a985cbb4d1db5a7f36f8a4bd9f8",
      "a8ddd4d757f34faa8ff3b6eb50f31a65",
      "a857491914fd41be9d07794a8b8e8eaa",
      "f9320bbe30614828b05cc05c553307d0",
      "11f8cd4446c8493a85c92079329f470e",
      "f59f421c632245b4843777a652f5570f",
      "d307afd19ef649c5bb6bfe7d25e62bb9",
      "c13896213f864ca2b75892feea2520b6",
      "b7bb7f173fc94d8ea9a799f603c5d7b7",
      "64e9e70a7edf43919b10415de9e65f87",
      "5803d8ed61fd40969675b797a59dcc38",
      "fbf3074e5e4c4534ad30cc2a223ada03",
      "165719433bac432999d8b92f3ac9cf16",
      "6419714d427e4964bbfbfb260ab26278",
      "3ba02fc9df344becb4d433bcaa86154f"
     ]
    },
    "executionInfo": {
     "elapsed": 818,
     "status": "ok",
     "timestamp": 1748798890422,
     "user": {
      "displayName": "Ozan Tuncbilek",
      "userId": "03046050273288977862"
     },
     "user_tz": -120
    },
    "id": "9NhCL-oYh9GY",
    "outputId": "2d7d8900-736e-4fd3-b3cd-ab1981a1e970"
   },
   "outputs": [],
   "source": [
    "import geemap\n",
    "import ipywidgets as widgets\n",
    "from IPython.display import display\n",
    "\n",
    "# Harita oluştur\n",
    "Map = geemap.Map(center=[53.55, 9.99], zoom=12)\n",
    "\n",
    "# Görselleştirme parametreleri\n",
    "vis_params = {\n",
    "    'min': 20,\n",
    "    'max': 40,\n",
    "    'palette': ['blue', 'green', 'yellow', 'red']\n",
    "}\n",
    "\n",
    "# Yıllar listesi\n",
    "years = [2015, 2024]\n",
    "\n",
    "# Play düğmesi\n",
    "play = widgets.Play(\n",
    "    value=2015,\n",
    "    min=2015,\n",
    "    max=2024,\n",
    "    step=9,\n",
    "    interval=1500,  # milisaniye cinsinden (1.5 saniye)\n",
    "    description=\"Oynat\",\n",
    "    disabled=False\n",
    ")\n",
    "\n",
    "# Slider\n",
    "slider = widgets.IntSlider(value=2015, min=2015, max=2024, step=9, description='Yıl:')\n",
    "\n",
    "# Play düğmesi ve slider'ı birbirine bağla\n",
    "widgets.jslink((play, 'value'), (slider, 'value'))\n",
    "\n",
    "# Slider değişince haritayı güncelle\n",
    "def update_map(change):\n",
    "    Map.layers = Map.layers[:1]  # Önceki katmanları temizle (sadece base map kalsın)\n",
    "    if slider.value == 2015:\n",
    "        Map.addLayer(lst_2015, vis_params, 'LST 2015')\n",
    "    elif slider.value == 2024:\n",
    "        Map.addLayer(lst_2024, vis_params, 'LST 2024')\n",
    "    Map.addLayerControl()\n",
    "\n",
    "slider.observe(update_map, names='value')\n",
    "\n",
    "# Başlangıç katmanı ekle\n",
    "Map.addLayer(lst_2015, vis_params, 'LST 2015')\n",
    "Map.addLayerControl()\n",
    "\n",
    "# Arayüzü göster\n",
    "display(widgets.HBox([play, slider]))\n",
    "Map\n",
    "\n"
   ]
  },
  {
   "cell_type": "code",
   "execution_count": null,
   "id": "10",
   "metadata": {
    "colab": {
     "base_uri": "https://localhost:8080/",
     "height": 34
    },
    "executionInfo": {
     "elapsed": 26334,
     "status": "ok",
     "timestamp": 1748099082928,
     "user": {
      "displayName": "Ozan Tuncbilek",
      "userId": "03046050273288977862"
     },
     "user_tz": -120
    },
    "id": "8vtKYkCeyRt5",
    "outputId": "4d845de5-c9cd-4ee0-f65a-682766c194a8"
   },
   "outputs": [],
   "source": [
    "# GeoTIFF olarak export etme fonksiyonu (GÜNCEL)\n",
    "def export_to_drive(image, name, folder):\n",
    "    task = ee.batch.Export.image.toDrive(\n",
    "        image=image,\n",
    "        description=name,\n",
    "        folder=folder.replace('/content/drive/MyDrive/', ''),  # GEE için göreli yol\n",
    "        fileNamePrefix=name,\n",
    "        scale=30,\n",
    "        region=hamburg.buffer(5000).bounds(),\n",
    "        fileFormat='GeoTIFF'\n",
    "    )\n",
    "    task.start()\n",
    "    return task\n",
    "\n",
    "work_dir = 'raw'\n",
    "\n",
    "# Drive'a kaydet (work_dir kullanarak)\n",
    "export_to_drive(lst_2015, 'LST_2015_Hamburg', work_dir)\n",
    "export_to_drive(lst_2024, 'LST_2024_Hamburg', work_dir)\n",
    "\n",
    "# Task'lerin tamamlanmasını bekle\n",
    "import time\n",
    "while True:\n",
    "    tasks = ee.batch.Task.list()\n",
    "    if all(task.status()['state'] in ('COMPLETED', 'FAILED') for task in tasks):\n",
    "        break\n",
    "    time.sleep(10)\n",
    "print(f\"Export işlemleri tamamlandı!\")"
   ]
  },
  {
   "cell_type": "code",
   "execution_count": null,
   "id": "11",
   "metadata": {
    "colab": {
     "base_uri": "https://localhost:8080/",
     "height": 17
    },
    "executionInfo": {
     "elapsed": 5544,
     "status": "ok",
     "timestamp": 1750885570160,
     "user": {
      "displayName": "Ozan Tuncbilek",
      "userId": "03046050273288977862"
     },
     "user_tz": -120
    },
    "id": "8iZZO5H3yymE",
    "outputId": "6fb85ba4-2edf-4a9e-8652-3157d6ad9260"
   },
   "outputs": [],
   "source": [
    "!pip install nbstripout > /dev/null 2>&1"
   ]
  },
  {
   "cell_type": "code",
   "execution_count": null,
   "id": "12",
   "metadata": {
    "colab": {
     "base_uri": "https://localhost:8080/",
     "height": 17
    },
    "executionInfo": {
     "elapsed": 1591,
     "status": "ok",
     "timestamp": 1748175939340,
     "user": {
      "displayName": "Ozan Tuncbilek",
      "userId": "03046050273288977862"
     },
     "user_tz": -120
    },
    "id": "S_b4Owy4YqSD",
    "outputId": "c46c1a82-4e5b-43e9-fc57-58639b514999"
   },
   "outputs": [],
   "source": [
    "!nbstripout /content/drive/MyDrive/GitHub_Repos/urban-heat-island/notebooks/01_data_acquisition_geemap.ipynb"
   ]
  }
 ],
 "metadata": {
  "colab": {
   "provenance": []
  },
  "kaggle": {
   "accelerator": "none",
   "dataSources": [
    {
     "datasetId": 1932057,
     "sourceId": 3180297,
     "sourceType": "datasetVersion"
    },
    {
     "datasetId": 1933827,
     "sourceId": 3183837,
     "sourceType": "datasetVersion"
    }
   ],
   "dockerImageVersionId": 30162,
   "isGpuEnabled": false,
   "isInternetEnabled": true,
   "language": "python",
   "sourceType": "notebook"
  },
  "kernelspec": {
   "display_name": "base",
   "language": "python",
   "name": "python3"
  },
  "language_info": {
   "codemirror_mode": {
    "name": "ipython",
    "version": 3
   },
   "file_extension": ".py",
   "mimetype": "text/x-python",
   "name": "python",
   "nbconvert_exporter": "python",
   "pygments_lexer": "ipython3",
   "version": "3.11.5"
  },
  "papermill": {
   "default_parameters": {},
   "duration": 123.666225,
   "end_time": "2025-02-20T14:22:40.237629",
   "environment_variables": {},
   "exception": true,
   "input_path": "__notebook__.ipynb",
   "output_path": "__notebook__.ipynb",
   "parameters": {},
   "start_time": "2025-02-20T14:20:36.571404",
   "version": "2.3.3"
  }
 },
 "nbformat": 4,
 "nbformat_minor": 5
}
