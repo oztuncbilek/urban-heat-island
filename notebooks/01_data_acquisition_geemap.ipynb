{
 "cells": [
  {
   "cell_type": "markdown",
   "id": "0",
   "metadata": {
    "id": "view-in-github"
   },
   "source": [
    "<a href=\"https://colab.research.google.com/github/oztuncbilek/urban-heat-island/blob/main/notebooks/01_data_acquisition_geemap.ipynb\" target=\"_parent\"><img src=\"https://colab.research.google.com/assets/colab-badge.svg\" alt=\"Open In Colab\"/></a>"
   ]
  },
  {
   "cell_type": "markdown",
   "id": "1",
   "metadata": {
    "id": "4ecf0337"
   },
   "source": [
    "## Data Acquisition"
   ]
  },
  {
   "cell_type": "code",
   "execution_count": null,
   "id": "2",
   "metadata": {
    "executionInfo": {
     "elapsed": 13033,
     "status": "ok",
     "timestamp": 1748175632397,
     "user": {
      "displayName": "Ozan Tuncbilek",
      "userId": "03046050273288977862"
     },
     "user_tz": -120
    },
    "id": "9381d38a"
   },
   "outputs": [],
   "source": [
    "!pip install geemap google-cloud-storage rasterio matplotlib > /dev/null 2>&1"
   ]
  },
  {
   "cell_type": "code",
   "execution_count": null,
   "id": "3",
   "metadata": {
    "colab": {
     "base_uri": "https://localhost:8080/",
     "height": 365
    },
    "executionInfo": {
     "elapsed": 4815,
     "status": "error",
     "timestamp": 1748175656258,
     "user": {
      "displayName": "Ozan Tuncbilek",
      "userId": "03046050273288977862"
     },
     "user_tz": -120
    },
    "id": "cBbXPbwfxEXB",
    "outputId": "d4f570ec-e9c3-4d83-c9a3-baecddd30180"
   },
   "outputs": [],
   "source": [
    "import ee\n",
    "import geemap\n",
    "import os\n",
    "from google.colab import drive\n",
    "import rasterio\n",
    "import matplotlib.pyplot as plt\n",
    "\n",
    "\n",
    "drive.mount('/content/drive')\n",
    "work_dir = '/content/drive/MyDrive/UHI-Detection-Analysis/data/raw/'\n",
    "os.makedirs(work_dir, exist_ok=True)\n"
   ]
  },
  {
   "cell_type": "code",
   "execution_count": null,
   "id": "4",
   "metadata": {
    "colab": {
     "base_uri": "https://localhost:8080/",
     "height": 17
    },
    "executionInfo": {
     "elapsed": 1293,
     "status": "ok",
     "timestamp": 1748098372635,
     "user": {
      "displayName": "Ozan Tuncbilek",
      "userId": "03046050273288977862"
     },
     "user_tz": -120
    },
    "id": "MEQGzwEmyADr",
    "outputId": "5de33293-1ee1-4d0e-8f06-ef1f952539d1"
   },
   "outputs": [],
   "source": [
    "# GEE kimlik doğrulama\n",
    "ee.Authenticate()\n",
    "ee.Initialize(project='manifest-pride-258211')"
   ]
  },
  {
   "cell_type": "code",
   "execution_count": null,
   "id": "5",
   "metadata": {
    "colab": {
     "base_uri": "https://localhost:8080/",
     "height": 17
    },
    "executionInfo": {
     "elapsed": 13,
     "status": "ok",
     "timestamp": 1748098373947,
     "user": {
      "displayName": "Ozan Tuncbilek",
      "userId": "03046050273288977862"
     },
     "user_tz": -120
    },
    "id": "ZMIqG1ncbvp3",
    "outputId": "18a74e56-b4da-4e9f-e46e-252efa75135b"
   },
   "outputs": [],
   "source": [
    "# Hamburg koordinatları\n",
    "hamburg = ee.Geometry.Point(9.99, 53.55)\n",
    "\n",
    "# Landsat 8 koleksiyonunu filtrele (2015 ve 2024 yaz ayları)\n",
    "def get_landsat_data(year):\n",
    "    collection = ee.ImageCollection(\"LANDSAT/LC08/C02/T1_L2\") \\\n",
    "        .filterBounds(hamburg) \\\n",
    "        .filterDate(f'{year}-06-01', f'{year}-08-31') \\\n",
    "        .filter(ee.Filter.lt('CLOUD_COVER', 10)) \\\n",
    "        .sort('CLOUD_COVER') \\\n",
    "        .first()\n",
    "    return collection\n",
    "\n",
    "# LST hesaplama fonksiyonu (basitleştirilmiş)\n",
    "def calculate_lst(image):\n",
    "    lst = image.expression(\n",
    "        '(TIRS1 * 0.00341802 + 149.0) - 273.15',  # Kelvin'den Celsius'a\n",
    "        {'TIRS1': image.select('ST_B10')}\n",
    "    ).rename('LST')\n",
    "    return lst\n",
    "\n",
    "# 2015 ve 2025 için LST görüntülerini al\n",
    "lst_2015 = calculate_lst(get_landsat_data(2015))\n",
    "lst_2024 = calculate_lst(get_landsat_data(2024))"
   ]
  },
  {
   "cell_type": "code",
   "execution_count": null,
   "id": "6",
   "metadata": {
    "colab": {
     "base_uri": "https://localhost:8080/",
     "height": 621,
     "referenced_widgets": [
      "d456578c34e346cb975b83c75851e991",
      "54a27b4159d44fe9a4bd01491838ca05",
      "8d1188d8d2104793990c26c94e9a29d9",
      "0e7202fb90944a61af78ab63c5657dd5",
      "f1adf227e6ba4fb8bf3646f16e8cf2bc",
      "ff182661c5a148eba09c145b1fe2e4d9",
      "45f28f24f51d424bbed76f6930cf8ce5",
      "9d7a9d4aea0f494cb81723e3d21919a3",
      "33298c44c8264d11841296522d49f735",
      "f6d614b6ded745aea9b669641be1a41d",
      "99541cc9a4f84879a38b6700589db94c",
      "6ffc57d560634f41a5355224c71c3213",
      "a70c34acd8464dc5bf12a28586d5be82",
      "dd022a5fb4e74ed1be0b916a2d55a3f6",
      "2c6bc994c5d344b3922a172bb5ff5d96",
      "2d0279f4bd2d4ca1ad2bef35521dd53b",
      "e7a169b7c41a4549a79af623ba62e9f4",
      "ffcc30685154457e864590cd303fea5b",
      "56cd2a199e0043f4b660ac1e93e4eb43",
      "0c23138740e341c8873d34a0d880b7fe",
      "4ed5c68c8da84e808c4bf73ac00b68fc",
      "9322a7a4b8894d78b787e26c1e392d00",
      "d42a3b6d669c45df87ee540ee815a15b",
      "2e098c5f3f214a66ba6e90e0b9462699",
      "9949ea4bd6074d6ab508f867f9f6a245",
      "9170e4078d1342fcb741757a05fe2d8e",
      "2913dad9ea4d420b8af23fde83d91ca5",
      "4405137501bc4e329701c13499ad4110",
      "ceaeff093c554fe4bd7ee0eff24b2fc2",
      "8678c9b4b0b94869b17949a262d2b79d",
      "74382ebb7f1946d288d6a1e6e8c51209",
      "72bd65cb825a4c4497f69614a1426c5e",
      "fbde9dfa0187439490e62247bf23a574",
      "6a1d5b821e5f4fdc92cc8d1d2d124a54",
      "bc55925b4c674733a7cc7c7f02611332",
      "c90a3a7ed81b44f7b7e1f0af465ae15d",
      "4610b75e9d954bf6bf6321838018a7c8",
      "1a015452dc264ae3b5de33dfc44cec72",
      "0eeaaa7e39d94dd79009e8728f428d9a",
      "dabe4f88fc2c46fc8f8b10c8252b5b78",
      "f5e87449792b4fa4a6a5039ee3097a2d",
      "4fed51bfb6d948b6b10ae1104f39c432",
      "f5a53ecb85dd434685fe4d6c8933fdff",
      "8eaa039630b941fb849ba6fb6866f72f",
      "295d43f9631541cda30176bb957de57c",
      "2e12cc551be94acc8da62190279c29f7",
      "ec18aa8b8cd5407e991c2bcc5525a863",
      "8ef48911c57442789caa0fb81b48546c",
      "dbf29abbead043368398282fa972a99d",
      "9b4f312965224a0c8f29af6547ca2bd3",
      "f2ec3a9980474bc3922d4136f65b055c",
      "9db4648cdecd4fa9b26805577fd0357c",
      "aaa2b04ba58e4bc09b457a24e6f45289",
      "4bf9e1b444f84ec58e54a26ddd67bf72",
      "cd69a849d5464b488a9cc64db6fbdf54",
      "c405d79df28c4aa1a828bcf4530a501e",
      "98919df27cc740458da857555cc6d061",
      "bcc7d50378b042dcbd3ed0cfbd0d28ce",
      "c5e998f41e2041ae96254a5ff576fc73",
      "3e91482dfeea4ab6b221e10ae060fe97",
      "c81adde7972847bf88f19eb4f820c19a",
      "98161da7e5474fe19f67541efbe51969",
      "204c3fb654184c1cb81f977005a2834a",
      "6a6ce2f44dbc4d7ead3965ca9b42ac4f",
      "e897bd5c95dd47c3ac0c904d5424e32e",
      "443706d9d2fb42579b06f28202d1ce8f",
      "b21c56881df04ad3ad59edaf130753a8",
      "9bda0c9cd65749ddbfea24a44d3b0864",
      "123cc2c54a7948bbaff5344848a0706d",
      "30cf6478f0564c3e9ff19cbaa66c2074",
      "83c84db72adc4f2ab12b6de0a84e0012",
      "147d38c7a5f94b8e800e7818678713f4",
      "cc9d9269587f45e88f0fcc22db1774be",
      "bfe78e8edb9e43a8aaea55620dbce1bc",
      "781dfab085d34b4998f08bf0bc5a55b0",
      "ff22df166215460fa15b0f35a7abd15e",
      "95d1a1de13c34fe3966caa6d0f27fd1f",
      "db1fda5510924d6a941c6fdc8837332e",
      "5b3f689ae60e4caaadd3a1c37d0db861",
      "4913718d85fa4156873996f9cf958769",
      "ebf867b32eac48b2a0f0811ee9aa1fef",
      "1724bc86ff1a4529b95d042134095abf",
      "c327c2cc82c44c528e95ac01aaba8c79",
      "277e1cedf3ed4c2b99763579db40e96a",
      "b275a145adf34bb39fcc157a0c73dca6",
      "a49ee11b728b4cb68a935240fe1ab0d1",
      "4e934340465a4633b9e38bc1c4588846",
      "4a62e4aca8dd480580d30bac15f8202d",
      "90030d129aa245ea8e6fcbbf95026466",
      "09d22fafeb444e1fbf7c8778f9389f5f",
      "45ca97b6900e4b7da2eb92792e53e250"
     ]
    },
    "executionInfo": {
     "elapsed": 1528,
     "status": "ok",
     "timestamp": 1748098419965,
     "user": {
      "displayName": "Ozan Tuncbilek",
      "userId": "03046050273288977862"
     },
     "user_tz": -120
    },
    "id": "Vu_xEsNQyHCj",
    "outputId": "61164d93-ae10-43e7-cb92-56233a78df79"
   },
   "outputs": [],
   "source": [
    "# Interactive harita oluştur\n",
    "Map = geemap.Map(center=[53.55, 9.99], zoom=12)\n",
    "\n",
    "# LST görüntülerini haritaya ekle (renk paleti: 'inferno' veya 'coolwarm')\n",
    "vis_params = {\n",
    "    'min': 20,  # Min LST (°C)\n",
    "    'max': 40,  # Max LST (°C)\n",
    "    'palette': ['blue', 'green', 'yellow', 'red']  # Veya 'inferno'\n",
    "}\n",
    "\n",
    "Map.addLayer(lst_2015, vis_params, 'LST 2015')\n",
    "Map.addLayer(lst_2024, vis_params, 'LST 2025')\n",
    "\n",
    "# Layer kontrol paneli ekle\n",
    "Map.addLayerControl()\n",
    "Map"
   ]
  },
  {
   "cell_type": "code",
   "execution_count": null,
   "id": "7",
   "metadata": {
    "colab": {
     "base_uri": "https://localhost:8080/",
     "height": 34
    },
    "executionInfo": {
     "elapsed": 26334,
     "status": "ok",
     "timestamp": 1748099082928,
     "user": {
      "displayName": "Ozan Tuncbilek",
      "userId": "03046050273288977862"
     },
     "user_tz": -120
    },
    "id": "8vtKYkCeyRt5",
    "outputId": "4d845de5-c9cd-4ee0-f65a-682766c194a8"
   },
   "outputs": [],
   "source": [
    "# GeoTIFF olarak export etme fonksiyonu (GÜNCEL)\n",
    "def export_to_drive(image, name, folder):\n",
    "    task = ee.batch.Export.image.toDrive(\n",
    "        image=image,\n",
    "        description=name,\n",
    "        folder=folder.replace('/content/drive/MyDrive/', ''),  # GEE için göreli yol\n",
    "        fileNamePrefix=name,\n",
    "        scale=30,\n",
    "        region=hamburg.buffer(5000).bounds(),\n",
    "        fileFormat='GeoTIFF'\n",
    "    )\n",
    "    task.start()\n",
    "    return task\n",
    "\n",
    "work_dir = 'raw'\n",
    "\n",
    "# Drive'a kaydet (work_dir kullanarak)\n",
    "export_to_drive(lst_2015, 'LST_2015_Hamburg', work_dir)\n",
    "export_to_drive(lst_2024, 'LST_2024_Hamburg', work_dir)\n",
    "\n",
    "# Task'lerin tamamlanmasını bekle\n",
    "import time\n",
    "while True:\n",
    "    tasks = ee.batch.Task.list()\n",
    "    if all(task.status()['state'] in ('COMPLETED', 'FAILED') for task in tasks):\n",
    "        break\n",
    "    time.sleep(10)\n",
    "print(f\"Export işlemleri tamamlandı!\")"
   ]
  },
  {
   "cell_type": "code",
   "execution_count": null,
   "id": "8",
   "metadata": {
    "colab": {
     "base_uri": "https://localhost:8080/",
     "height": 17
    },
    "executionInfo": {
     "elapsed": 2020,
     "status": "ok",
     "timestamp": 1748175806565,
     "user": {
      "displayName": "Ozan Tuncbilek",
      "userId": "03046050273288977862"
     },
     "user_tz": -120
    },
    "id": "8iZZO5H3yymE",
    "outputId": "b922b172-be55-4dc5-fc4a-2f63b3b1e817"
   },
   "outputs": [],
   "source": [
    "!pip install nbstripout > /dev/null 2>&1"
   ]
  },
  {
   "cell_type": "code",
   "execution_count": null,
   "id": "9",
   "metadata": {
    "colab": {
     "base_uri": "https://localhost:8080/",
     "height": 35
    },
    "executionInfo": {
     "elapsed": 248,
     "status": "ok",
     "timestamp": 1748175877266,
     "user": {
      "displayName": "Ozan Tuncbilek",
      "userId": "03046050273288977862"
     },
     "user_tz": -120
    },
    "id": "S_b4Owy4YqSD",
    "outputId": "29d803e8-4d00-4f73-c5f0-04ddbca7af42"
   },
   "outputs": [],
   "source": [
    "!nbstripout /content/drive/MyDrive/GitHub_Repos/urban-heat-island/notebooks/01_data_acquisition_geemap.ipynb"
   ]
  }
 ],
 "metadata": {
  "colab": {
   "provenance": []
  },
  "kaggle": {
   "accelerator": "none",
   "dataSources": [
    {
     "datasetId": 1932057,
     "sourceId": 3180297,
     "sourceType": "datasetVersion"
    },
    {
     "datasetId": 1933827,
     "sourceId": 3183837,
     "sourceType": "datasetVersion"
    }
   ],
   "dockerImageVersionId": 30162,
   "isGpuEnabled": false,
   "isInternetEnabled": true,
   "language": "python",
   "sourceType": "notebook"
  },
  "kernelspec": {
   "display_name": "base",
   "language": "python",
   "name": "python3"
  },
  "language_info": {
   "codemirror_mode": {
    "name": "ipython",
    "version": 3
   },
   "file_extension": ".py",
   "mimetype": "text/x-python",
   "name": "python",
   "nbconvert_exporter": "python",
   "pygments_lexer": "ipython3",
   "version": "3.11.5"
  },
  "papermill": {
   "default_parameters": {},
   "duration": 123.666225,
   "end_time": "2025-02-20T14:22:40.237629",
   "environment_variables": {},
   "exception": true,
   "input_path": "__notebook__.ipynb",
   "output_path": "__notebook__.ipynb",
   "parameters": {},
   "start_time": "2025-02-20T14:20:36.571404",
   "version": "2.3.3"
  }
 },
 "nbformat": 4,
 "nbformat_minor": 5
}
