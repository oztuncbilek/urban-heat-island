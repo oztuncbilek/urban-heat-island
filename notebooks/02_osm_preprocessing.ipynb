{
  "cells": [
    {
      "cell_type": "markdown",
      "id": "4ecf0337",
      "metadata": {
        "id": "4ecf0337"
      },
      "source": [
        "# OSM Preprocessing"
      ]
    },
    {
      "cell_type": "markdown",
      "source": [
        "###Importing Libraries"
      ],
      "metadata": {
        "id": "la7ASJZDnj-w"
      },
      "id": "la7ASJZDnj-w"
    },
    {
      "cell_type": "code",
      "source": [
        "!pip install osmnx google-cloud-storage rasterio > /dev/null\n",
        "\n",
        "!python -m osmnx --version"
      ],
      "metadata": {
        "colab": {
          "base_uri": "https://localhost:8080/"
        },
        "id": "2Yj9ZmwTyH1u",
        "outputId": "9719d2a7-cae4-46b5-bf06-bb8b194e8271"
      },
      "id": "2Yj9ZmwTyH1u",
      "execution_count": 1,
      "outputs": [
        {
          "output_type": "stream",
          "name": "stdout",
          "text": [
            "/usr/bin/python3: No module named osmnx.__main__; 'osmnx' is a package and cannot be directly executed\n"
          ]
        }
      ]
    },
    {
      "cell_type": "code",
      "execution_count": 2,
      "id": "9381d38a",
      "metadata": {
        "id": "9381d38a",
        "colab": {
          "base_uri": "https://localhost:8080/"
        },
        "outputId": "2b137eaf-9ac0-43e5-99f7-64e796adc5b7"
      },
      "outputs": [
        {
          "output_type": "stream",
          "name": "stdout",
          "text": [
            "Mounted at /content/drive\n"
          ]
        }
      ],
      "source": [
        "import os\n",
        "import geopandas as gpd\n",
        "import osmnx as ox\n",
        "import rasterio\n",
        "from rasterio.features import rasterize\n",
        "import matplotlib.pyplot as plt\n",
        "import numpy as np\n",
        "from google.colab import drive\n",
        "import rasterio\n",
        "import matplotlib.pyplot as plt\n",
        "\n",
        "\n",
        "drive.mount('/content/drive')\n",
        "work_dir = '/content/drive/MyDrive/UHI-Detection-Analysis/data/raw/'\n",
        "os.makedirs(work_dir, exist_ok=True)"
      ]
    },
    {
      "cell_type": "markdown",
      "source": [
        "### Preprocessing"
      ],
      "metadata": {
        "id": "5x3XJLeonuPo"
      },
      "id": "5x3XJLeonuPo"
    },
    {
      "cell_type": "markdown",
      "source": [
        "#### Area of Interest(Hamburg) Selection\n"
      ],
      "metadata": {
        "id": "zPaMmQVfv3je"
      },
      "id": "zPaMmQVfv3je"
    },
    {
      "cell_type": "code",
      "source": [
        "# Area of Interest (AOI) to be processed\n",
        "place_name = \"Altona, Hamburg, Germany\"\n",
        "\n",
        "# Tags to be used for OSM data\n",
        "# These tags can be enriched depending on the project's needs.\n",
        "tags = {\n",
        "    \"building\": True,\n",
        "    \"highway\": True,\n",
        "    \"leisure\": [\"park\", \"garden\", \"playground\"],\n",
        "    \"landuse\": [\"forest\", \"grass\", \"greenfield\"],\n",
        "    \"natural\": [\"water\", \"wetland\"]\n",
        "}\n",
        "\n",
        "PROCESSED_DIR = '/content/drive/MyDrive/UHI-Detection-Analysis/data/raw/osm/'\n",
        "os.makedirs(PROCESSED_DIR, exist_ok=True)\n",
        "print(f\"OSM data will be saved to '{PROCESSED_DIR}' directory.\")\n",
        "\n",
        "# Reference raster (currently disabled)\n",
        "# REFERENCE_RASTER_PATH = '/content/drive/MyDrive/UHI-Detection-Analysis/data/raw/sentinel2/B04_10m.jp2'\n",
        "# if not os.path.exists(REFERENCE_RASTER_PATH):\n",
        "#     raise FileNotFoundError(f\"Reference raster file not found: {REFERENCE_RASTER_PATH}.\")\n",
        "# print(f\"'{REFERENCE_RASTER_PATH}' will be used as the reference raster.\")\n"
      ],
      "metadata": {
        "id": "YxoHfV55hbGW",
        "colab": {
          "base_uri": "https://localhost:8080/"
        },
        "outputId": "4eae8cca-0d3f-4e14-aa9d-70aa3aef25f7"
      },
      "id": "YxoHfV55hbGW",
      "execution_count": 3,
      "outputs": [
        {
          "output_type": "stream",
          "name": "stdout",
          "text": [
            "OSM data will be saved to '/content/drive/MyDrive/UHI-Detection-Analysis/data/raw/osm/' directory.\n"
          ]
        }
      ]
    },
    {
      "cell_type": "code",
      "source": [
        "from shapely.geometry import box\n",
        "\n",
        "# Define raster resolution and CRS\n",
        "raster_resolution = 10  # meters\n",
        "raster_crs = \"EPSG:3857\"  # Web Mercator projection\n",
        "\n",
        "# Get bounding box of the AOI\n",
        "boundary = ox.geocode_to_gdf(place_name).to_crs(raster_crs)\n",
        "bounds = boundary.total_bounds\n",
        "bbox = box(*bounds)\n",
        "\n",
        "# Calculate raster dimensions and transform\n",
        "width = int((bounds[2] - bounds[0]) / raster_resolution)\n",
        "height = int((bounds[3] - bounds[1]) / raster_resolution)\n",
        "transform = rasterio.transform.from_bounds(*bounds, width=width, height=height)\n"
      ],
      "metadata": {
        "id": "yOJTq2GDXvXJ"
      },
      "id": "yOJTq2GDXvXJ",
      "execution_count": 5,
      "outputs": []
    },
    {
      "cell_type": "code",
      "source": [
        "# Loop through years and generate yearly OSM raster masks\n",
        "for year in range(2014, 2025):\n",
        "    print(f\"Processing OSM data for year {year}...\")\n",
        "\n",
        "    # Download OSM data (note: same data for each year due to API limitations)\n",
        "    gdf = ox.features_from_place(place_name, tags=tags)\n",
        "    gdf = gdf.to_crs(raster_crs)"
      ],
      "metadata": {
        "id": "R5oiD5BPX2UZ",
        "outputId": "d390d882-5799-44b3-f6be-1cea916de3a7",
        "colab": {
          "base_uri": "https://localhost:8080/"
        }
      },
      "id": "R5oiD5BPX2UZ",
      "execution_count": null,
      "outputs": [
        {
          "output_type": "stream",
          "name": "stdout",
          "text": [
            "Processing OSM data for year 2014...\n"
          ]
        }
      ]
    },
    {
      "cell_type": "code",
      "source": [
        "# Downloading OSM data\n",
        "#print(f\"Downloading OSM data for '{place_name}'...\")\n",
        "#gdf = ox.features_from_place(place_name, tags=tags)\n",
        "#print(f\"Download completed. A total of {len(gdf)} geometries were found.\")\n",
        "\n",
        "#print(gdf.head())"
      ],
      "metadata": {
        "id": "2F_BHCl2hefi",
        "colab": {
          "base_uri": "https://localhost:8080/"
        },
        "outputId": "fd07b5f4-f80d-458c-a2f7-22486dccccec"
      },
      "id": "2F_BHCl2hefi",
      "execution_count": null,
      "outputs": [
        {
          "output_type": "stream",
          "name": "stdout",
          "text": [
            "Downloading OSM data for 'Altona, Hamburg, Germany'...\n",
            "Download completed. A total of 87454 geometries were found.\n",
            "                                geometry crossing            highway  \\\n",
            "element id                                                             \n",
            "node    131185   POINT (9.8874 53.56527)       no    traffic_signals   \n",
            "        491108  POINT (9.91555 53.58605)      NaN  motorway_junction   \n",
            "        491128  POINT (9.89759 53.55653)      NaN  motorway_junction   \n",
            "        491129  POINT (9.89719 53.55379)      NaN    traffic_signals   \n",
            "        496093  POINT (9.91162 53.57753)      NaN          milestone   \n",
            "\n",
            "               traffic_signals:direction TMC:cid_58:tabcd_1:Class  \\\n",
            "element id                                                          \n",
            "node    131185                   forward                      NaN   \n",
            "        491108                       NaN                    Point   \n",
            "        491128                       NaN                    Point   \n",
            "        491129                       NaN                      NaN   \n",
            "        496093                       NaN                      NaN   \n",
            "\n",
            "               TMC:cid_58:tabcd_1:Direction TMC:cid_58:tabcd_1:LCLversion  \\\n",
            "element id                                                                  \n",
            "node    131185                          NaN                           NaN   \n",
            "        491108                     negative                          9.00   \n",
            "        491128                     negative                          8.00   \n",
            "        491129                          NaN                           NaN   \n",
            "        496093                          NaN                           NaN   \n",
            "\n",
            "               TMC:cid_58:tabcd_1:LocationCode  \\\n",
            "element id                                       \n",
            "node    131185                             NaN   \n",
            "        491108                           12379   \n",
            "        491128                           12377   \n",
            "        491129                             NaN   \n",
            "        496093                             NaN   \n",
            "\n",
            "               TMC:cid_58:tabcd_1:NextLocationCode  \\\n",
            "element id                                           \n",
            "node    131185                                 NaN   \n",
            "        491108                               12380   \n",
            "        491128                               12378   \n",
            "        491129                                 NaN   \n",
            "        496093                                 NaN   \n",
            "\n",
            "               TMC:cid_58:tabcd_1:PrevLocationCode  ... fee:conditional  \\\n",
            "element id                                          ...                   \n",
            "node    131185                                 NaN  ...             NaN   \n",
            "        491108                               12378  ...             NaN   \n",
            "        491128                               12376  ...             NaN   \n",
            "        491129                                 NaN  ...             NaN   \n",
            "        496093                                 NaN  ...             NaN   \n",
            "\n",
            "               destination:arrow:lanes:forward sidewalk:width type name:ru  \\\n",
            "element id                                                                   \n",
            "node    131185                             NaN            NaN  NaN     NaN   \n",
            "        491108                             NaN            NaN  NaN     NaN   \n",
            "        491128                             NaN            NaN  NaN     NaN   \n",
            "        491129                             NaN            NaN  NaN     NaN   \n",
            "        496093                             NaN            NaN  NaN     NaN   \n",
            "\n",
            "               communication:amateur_radio:pota fishing name:etymology grades  \\\n",
            "element id                                                                      \n",
            "node    131185                              NaN     NaN            NaN    NaN   \n",
            "        491108                              NaN     NaN            NaN    NaN   \n",
            "        491128                              NaN     NaN            NaN    NaN   \n",
            "        491129                              NaN     NaN            NaN    NaN   \n",
            "        496093                              NaN     NaN            NaN    NaN   \n",
            "\n",
            "               disused:building  \n",
            "element id                       \n",
            "node    131185              NaN  \n",
            "        491108              NaN  \n",
            "        491128              NaN  \n",
            "        491129              NaN  \n",
            "        496093              NaN  \n",
            "\n",
            "[5 rows x 885 columns]\n"
          ]
        }
      ]
    },
    {
      "cell_type": "markdown",
      "source": [
        "#### OSM Rasterization Strategy\n",
        "\n",
        "For simplicity and efficiency, a single binary raster is generated per year (e.g., `osm_2014.tif`, `osm_2015.tif`, ..., `osm_2024.tif`) that combines all relevant OSM features such as buildings, roads, green spaces, and water bodies.\n",
        "\n",
        "This approach reduces the number of input channels and simplifies data handling during preprocessing and model training.\n",
        "\n",
        "If needed, semantic separation of OSM layers (e.g., buildings, roads, parks, water) can be implemented later to enhance model interpretability and performance. This would involve generating separate raster layers for each feature type per year.\n",
        "\n"
      ],
      "metadata": {
        "id": "qO50KMdmxvDe"
      },
      "id": "qO50KMdmxvDe"
    },
    {
      "cell_type": "code",
      "source": [
        "# Buildings\n",
        "#buildings = gdf[gdf['building'].notna()]\n",
        "#print(f\"A total of {len(buildings)} buildings were found.\")\n",
        "\n",
        "# Roads (Only select linear geometries)\n",
        "#roads = gdf[gdf['highway'].notna() & (gdf.geom_type == 'LineString')]\n",
        "#print(f\"A total of {len(roads)} road segments were found.\")\n",
        "\n",
        "# Green Spaces (Parks, forests, grassy areas)\n",
        "#green_spaces = gdf[\n",
        "#    (gdf['leisure'].isin(['park', 'garden', 'playground'])) |\n",
        "#    (gdf['landuse'].isin(['forest', 'grass', 'greenfield']))\n",
        "#]\n",
        "#print(f\"A total of {len(green_spaces)} green spaces were found.\")\n",
        "\n",
        "# Water Bodies\n",
        "#water = gdf[gdf['natural'].isin(['water', 'wetland'])]\n",
        "#print(f\"A total of {len(water)} water bodies were found.\")\n"
      ],
      "metadata": {
        "id": "EEBzzuzRhiiA",
        "colab": {
          "base_uri": "https://localhost:8080/"
        },
        "outputId": "f8caa8c2-cc96-4a61-f288-61cfca892ae0"
      },
      "id": "EEBzzuzRhiiA",
      "execution_count": null,
      "outputs": [
        {
          "output_type": "stream",
          "name": "stdout",
          "text": [
            "A total of 43780 buildings were found.\n",
            "A total of 33695 road segments were found.\n",
            "A total of 1706 green spaces were found.\n",
            "A total of 319 water bodies were found.\n"
          ]
        }
      ]
    },
    {
      "cell_type": "markdown",
      "source": [
        "#### Rasterizing Vector layers\n"
      ],
      "metadata": {
        "id": "ActD5Zrwx0_N"
      },
      "id": "ActD5Zrwx0_N"
    },
    {
      "cell_type": "code",
      "source": [
        "def rasterize_with_reference(gdf, reference_raster_path, output_path):\n",
        "    \"\"\"\n",
        "    Rasterizes a GeoDataFrame using the spatial metadata of a reference raster.\n",
        "    \"\"\"\n",
        "    with rasterio.open(reference_raster_path) as src:\n",
        "        ref_meta = src.meta.copy()\n",
        "        ref_transform = src.transform\n",
        "        ref_shape = src.shape\n",
        "        ref_crs = src.crs\n",
        "\n",
        "    # Reproject vector data to match reference raster CRS\n",
        "    if gdf.crs != ref_crs:\n",
        "        gdf = gdf.to_crs(ref_crs)\n",
        "\n",
        "    print(f\"Rasterizing unified OSM mask to: {output_path}\")\n",
        "    rasterized_array = rasterize(\n",
        "        shapes=[(geom, 1) for geom in gdf.geometry if geom.is_valid],\n",
        "        out_shape=ref_shape,\n",
        "        transform=ref_transform,\n",
        "        fill=0,\n",
        "        dtype=rasterio.uint8\n",
        "    )\n",
        "\n",
        "    # Save raster\n",
        "    ref_meta.update(dtype='uint8', count=1, compress='lzw')\n",
        "    with rasterio.open(output_path, 'w', **ref_meta) as dst:\n",
        "        dst.write(rasterized_array, 1)\n",
        "\n",
        "    return rasterized_array\n",
        "\n"
      ],
      "metadata": {
        "id": "FnC8mGJhZAag"
      },
      "id": "FnC8mGJhZAag",
      "execution_count": null,
      "outputs": []
    },
    {
      "cell_type": "code",
      "source": [
        "for year in range(2014, 2025):\n",
        "    print(f\"Processing unified OSM raster for year {year}...\")\n",
        "\n",
        "    # Download OSM data (same for each year due to API limitations)\n",
        "    gdf = ox.features_from_place(place_name, tags=tags)\n",
        "\n",
        "    # Output path\n",
        "    output_path = os.path.join(PROCESSED_DIR, f\"osm_{year}.tif\")\n",
        "\n",
        "    # Rasterize using reference raster\n",
        "    rasterize_with_reference(gdf, REFERENCE_RASTER_PATH, output_path)\n",
        "\n",
        "    print(f\"Saved unified OSM raster for {year} to {output_path}\")\n"
      ],
      "metadata": {
        "id": "NHCFoGC7aKKw"
      },
      "id": "NHCFoGC7aKKw",
      "execution_count": null,
      "outputs": []
    },
    {
      "cell_type": "markdown",
      "source": [
        "Old code"
      ],
      "metadata": {
        "id": "EXfGAbrCaPW2"
      },
      "id": "EXfGAbrCaPW2"
    },
    {
      "cell_type": "code",
      "source": [
        "# In this step, each separated vector layer will be converted into a raster (GeoTIFF) file\n",
        "# with the same size and resolution as the reference Sentinel-2 image. [cite: 151, 173]\n",
        "\n",
        "def rasterize_and_save(gdf, reference_raster_path, output_path):\n",
        "    \"\"\"\n",
        "    Rasterizes a GeoDataFrame based on a reference raster and saves it.\n",
        "    \"\"\"\n",
        "    # Open the reference raster and get its metadata\n",
        "    with rasterio.open(reference_raster_path) as src:\n",
        "        ref_meta = src.meta.copy()\n",
        "        ref_transform = src.transform\n",
        "        ref_shape = src.shape\n",
        "        ref_crs = src.crs\n",
        "\n",
        "    # Match the CRS of the vector data to the reference raster\n",
        "    if gdf.crs != ref_crs:\n",
        "        gdf = gdf.to_crs(ref_crs)\n",
        "\n",
        "    print(f\"Rasterizing for '{output_path}'...\")\n",
        "    # Perform rasterization\n",
        "    rasterized_array = rasterize(\n",
        "        shapes=[(geom, 1) for geom in gdf.geometry],  # Assign value 1 to pixels with geometry\n",
        "        out_shape=ref_shape,\n",
        "        transform=ref_transform,\n",
        "        fill=0,  # Assign value 0 to all other pixels\n",
        "        dtype=rasterio.uint8\n",
        "    )\n",
        "\n",
        "    # Save the new raster\n",
        "    ref_meta.update(dtype='uint8', count=1, compress='lzw')\n",
        "    with rasterio.open(output_path, 'w', **ref_meta) as dst:\n",
        "        dst.write(rasterized_array, 1)\n",
        "\n",
        "    print(f\"'{output_path}' has been successfully created.\")\n",
        "    return rasterized_array\n",
        "\n",
        "# Rasterize each layer\n",
        "#building_mask = rasterize_and_save(buildings, REFERENCE_RASTER_PATH, os.path.join(PROCESSED_DIR, 'building_mask.tif'))\n",
        "#road_mask = rasterize_and_save(roads, REFERENCE_RASTER_PATH, os.path.join(PROCESSED_DIR, 'road_mask.tif'))\n",
        "#green_space_mask = rasterize_and_save(green_spaces, REFERENCE_RASTER_PATH, os.path.join(PROCESSED_DIR, 'green_space_mask.tif'))\n",
        "#water_mask = rasterize_and_save(water, REFERENCE_RASTER_PATH, os.path.join(PROCESSED_DIR, 'water_mask.tif'))\n",
        "\n",
        "#print(\"\\nAll OSM layers have been successfully rasterized and saved.\")\n"
      ],
      "metadata": {
        "id": "u0tQdX8qhl_6"
      },
      "id": "u0tQdX8qhl_6",
      "execution_count": null,
      "outputs": []
    },
    {
      "cell_type": "markdown",
      "source": [
        "### Visualization (For Verification)"
      ],
      "metadata": {
        "id": "GWmKKZnqoqT7"
      },
      "id": "GWmKKZnqoqT7"
    },
    {
      "cell_type": "code",
      "source": [
        "# Visualize the raster using matplotlib\n",
        "fig, ax = plt.subplots(1, 1, figsize=(10, 10))\n",
        "ax.imshow(osm_mask, cmap='viridis')\n",
        "ax.set_title('Rasterized OSM Mask for Hamburg (2024)')\n",
        "ax.set_axis_off()\n",
        "plt.show()"
      ],
      "metadata": {
        "id": "jszlWrASbQU2"
      },
      "id": "jszlWrASbQU2",
      "execution_count": null,
      "outputs": []
    },
    {
      "cell_type": "markdown",
      "source": [
        "Old"
      ],
      "metadata": {
        "id": "Qm9mLBVbbOnV"
      },
      "id": "Qm9mLBVbbOnV"
    },
    {
      "cell_type": "code",
      "source": [
        "# Visualize one of the raster masks we created to verify the correctness of the process.\n",
        "\n",
        "print(\"Visualizing the building mask (building_mask.tif)...\")\n",
        "\n",
        "# Visualization using Matplotlib\n",
        "fig, ax = plt.subplots(1, 1, figsize=(10, 10))\n",
        "ax.imshow(building_mask, cmap='viridis')  # 1s appear yellow, 0s appear purple\n",
        "ax.set_title('Rasterized Building Mask for Hamburg')\n",
        "ax.set_axis_off()  # Hide axes\n",
        "plt.show()\n"
      ],
      "metadata": {
        "id": "r3dVBnzEhQmZ"
      },
      "id": "r3dVBnzEhQmZ",
      "execution_count": null,
      "outputs": []
    },
    {
      "cell_type": "markdown",
      "source": [
        "#### Summary and Next Steps\n",
        "\n",
        "In this notebook, we downloaded OpenStreetMap (OSM) data for Hamburg and generated yearly raster masks from 2014 to 2024 using a 10-meter resolution reference raster (Sentinel-2 B04 band). Each mask combines relevant urban features such as buildings, roads, green spaces, and water bodies into a single binary raster.\n",
        "\n",
        "These masks were saved in the `data/raw/osm/` directory and are spatially aligned with the satellite data, ready for integration.\n",
        "\n",
        "In the next notebook, `03_data_processing.ipynb`, we will combine these OSM masks with Land Surface Temperature (LST) and spectral indices (e.g., NDVI, NDBI) to create a multi-channel tensor. This tensor will serve as the final input for the U-Net segmentation model to detect and analyze Urban Heat Island (UHI) patterns.\n",
        "\n"
      ],
      "metadata": {
        "id": "rDztnfaOpd-I"
      },
      "id": "rDztnfaOpd-I"
    }
  ],
  "metadata": {
    "kaggle": {
      "accelerator": "none",
      "dataSources": [
        {
          "datasetId": 1932057,
          "sourceId": 3180297,
          "sourceType": "datasetVersion"
        },
        {
          "datasetId": 1933827,
          "sourceId": 3183837,
          "sourceType": "datasetVersion"
        }
      ],
      "dockerImageVersionId": 30162,
      "isGpuEnabled": false,
      "isInternetEnabled": true,
      "language": "python",
      "sourceType": "notebook"
    },
    "kernelspec": {
      "display_name": "base",
      "language": "python",
      "name": "python3"
    },
    "language_info": {
      "codemirror_mode": {
        "name": "ipython",
        "version": 3
      },
      "file_extension": ".py",
      "mimetype": "text/x-python",
      "name": "python",
      "nbconvert_exporter": "python",
      "pygments_lexer": "ipython3",
      "version": "3.11.5"
    },
    "papermill": {
      "default_parameters": {},
      "duration": 123.666225,
      "end_time": "2025-02-20T14:22:40.237629",
      "environment_variables": {},
      "exception": true,
      "input_path": "__notebook__.ipynb",
      "output_path": "__notebook__.ipynb",
      "parameters": {},
      "start_time": "2025-02-20T14:20:36.571404",
      "version": "2.3.3"
    },
    "colab": {
      "provenance": []
    }
  },
  "nbformat": 4,
  "nbformat_minor": 5
}