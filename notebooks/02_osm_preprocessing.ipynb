{
  "cells": [
    {
      "cell_type": "markdown",
      "id": "4ecf0337",
      "metadata": {
        "id": "4ecf0337"
      },
      "source": [
        "## OSM Preprocessing"
      ]
    },
    {
      "cell_type": "code",
      "source": [
        "!pip install osmnx google-cloud-storage rasterio > /dev/null\n",
        "\n",
        "!python -m osmnx --version"
      ],
      "metadata": {
        "colab": {
          "base_uri": "https://localhost:8080/"
        },
        "id": "2Yj9ZmwTyH1u",
        "outputId": "b13554de-61ba-4db6-f568-5894bd6fd859"
      },
      "id": "2Yj9ZmwTyH1u",
      "execution_count": 3,
      "outputs": [
        {
          "output_type": "stream",
          "name": "stdout",
          "text": [
            "/usr/bin/python3: No module named osmnx.__main__; 'osmnx' is a package and cannot be directly executed\n"
          ]
        }
      ]
    },
    {
      "cell_type": "code",
      "execution_count": 4,
      "id": "9381d38a",
      "metadata": {
        "id": "9381d38a",
        "colab": {
          "base_uri": "https://localhost:8080/"
        },
        "outputId": "cc28bbdf-6620-448e-f9ad-74ad5516409f"
      },
      "outputs": [
        {
          "output_type": "stream",
          "name": "stdout",
          "text": [
            "Drive already mounted at /content/drive; to attempt to forcibly remount, call drive.mount(\"/content/drive\", force_remount=True).\n"
          ]
        }
      ],
      "source": [
        "import os\n",
        "import geopandas as gpd\n",
        "import osmnx as ox\n",
        "import rasterio\n",
        "from rasterio.features import rasterize\n",
        "import matplotlib.pyplot as plt\n",
        "import numpy as np\n",
        "from google.colab import drive\n",
        "import rasterio\n",
        "import matplotlib.pyplot as plt\n",
        "\n",
        "\n",
        "drive.mount('/content/drive')\n",
        "work_dir = '/content/drive/MyDrive/UHI-Detection-Analysis/data/raw/'\n",
        "os.makedirs(work_dir, exist_ok=True)"
      ]
    },
    {
      "cell_type": "markdown",
      "source": [
        "**Area of Interest(Hamburg) Selection**"
      ],
      "metadata": {
        "id": "zPaMmQVfv3je"
      },
      "id": "zPaMmQVfv3je"
    },
    {
      "cell_type": "code",
      "source": [
        "# Çalışılacak alan (Area of Interest - AOI)\n",
        "place_name = \"Altona, Hamburg, Germany\"\n",
        "\n",
        "# OSM verileri için kullanılacak etiketler\n",
        "# Projenin ihtiyacına göre bu etiketler zenginleştirilebilir.\n",
        "tags = {\n",
        "    \"building\": True,\n",
        "    \"highway\": True,\n",
        "    \"leisure\": [\"park\", \"garden\", \"playground\"],\n",
        "    \"landuse\": [\"forest\", \"grass\", \"greenfield\"],\n",
        "    \"natural\": [\"water\", \"wetland\"]\n",
        "}\n",
        "\n",
        "\n",
        "PROCESSED_DIR = '/content/drive/MyDrive/UHI-Detection-Analysis/data/raw/osm/'\n",
        "os.makedirs(PROCESSED_DIR, exist_ok=True)\n",
        "print(f\"OSM verileri '{PROCESSED_DIR}' klasörüne kaydedilecek.\")\n",
        "\n",
        "\n",
        "# Referans raster (şimdilik devre dışı)\n",
        "# REFERENCE_RASTER_PATH = '/content/drive/MyDrive/UHI-Detection-Analysis/data/raw/sentinel2/B04_10m.jp2'\n",
        "# if not os.path.exists(REFERENCE_RASTER_PATH):\n",
        "#     raise FileNotFoundError(f\"Referans raster dosyası bulunamadı: {REFERENCE_RASTER_PATH}.\")\n",
        "# print(f\"Referans raster olarak '{REFERENCE_RASTER_PATH}' kullanılacak.\")\n"
      ],
      "metadata": {
        "id": "YxoHfV55hbGW",
        "colab": {
          "base_uri": "https://localhost:8080/"
        },
        "outputId": "35c6ac15-3b30-45f0-cba8-3e1944c46fcc"
      },
      "id": "YxoHfV55hbGW",
      "execution_count": 5,
      "outputs": [
        {
          "output_type": "stream",
          "name": "stdout",
          "text": [
            "OSM verileri '/content/drive/MyDrive/UHI-Detection-Analysis/data/raw/osm/' klasörüne kaydedilecek.\n"
          ]
        }
      ]
    },
    {
      "cell_type": "markdown",
      "source": [
        "**Downloading OSM Data with selected tags**"
      ],
      "metadata": {
        "id": "5rr3UTt4v-Ur"
      },
      "id": "5rr3UTt4v-Ur"
    },
    {
      "cell_type": "code",
      "source": [
        "# OSM verilerini indirme\n",
        "print(f\"'{place_name}' için OSM verileri indiriliyor...\")\n",
        "gdf = ox.features_from_place(place_name, tags=tags)\n",
        "print(f\"Veri indirme tamamlandı. Toplam {len(gdf)} adet geometri bulundu.\")\n",
        "\n",
        "print(gdf.head())"
      ],
      "metadata": {
        "id": "2F_BHCl2hefi",
        "colab": {
          "base_uri": "https://localhost:8080/"
        },
        "outputId": "492830d9-4a0f-480b-b666-363a41f54699"
      },
      "id": "2F_BHCl2hefi",
      "execution_count": 6,
      "outputs": [
        {
          "output_type": "stream",
          "name": "stdout",
          "text": [
            "'Altona, Hamburg, Germany' için OSM verileri indiriliyor...\n",
            "Veri indirme tamamlandı. Toplam 87058 adet geometri bulundu.\n",
            "                                geometry crossing            highway  \\\n",
            "element id                                                             \n",
            "node    131185   POINT (9.8874 53.56527)       no    traffic_signals   \n",
            "        491108  POINT (9.91555 53.58605)      NaN  motorway_junction   \n",
            "        491128  POINT (9.89759 53.55653)      NaN  motorway_junction   \n",
            "        491129  POINT (9.89719 53.55379)      NaN    traffic_signals   \n",
            "        496093  POINT (9.91162 53.57753)      NaN          milestone   \n",
            "\n",
            "               traffic_signals:direction TMC:cid_58:tabcd_1:Class  \\\n",
            "element id                                                          \n",
            "node    131185                   forward                      NaN   \n",
            "        491108                       NaN                    Point   \n",
            "        491128                       NaN                    Point   \n",
            "        491129                       NaN                      NaN   \n",
            "        496093                       NaN                      NaN   \n",
            "\n",
            "               TMC:cid_58:tabcd_1:Direction TMC:cid_58:tabcd_1:LCLversion  \\\n",
            "element id                                                                  \n",
            "node    131185                          NaN                           NaN   \n",
            "        491108                     negative                          9.00   \n",
            "        491128                     negative                          8.00   \n",
            "        491129                          NaN                           NaN   \n",
            "        496093                          NaN                           NaN   \n",
            "\n",
            "               TMC:cid_58:tabcd_1:LocationCode  \\\n",
            "element id                                       \n",
            "node    131185                             NaN   \n",
            "        491108                           12379   \n",
            "        491128                           12377   \n",
            "        491129                             NaN   \n",
            "        496093                             NaN   \n",
            "\n",
            "               TMC:cid_58:tabcd_1:NextLocationCode  \\\n",
            "element id                                           \n",
            "node    131185                                 NaN   \n",
            "        491108                               12380   \n",
            "        491128                               12378   \n",
            "        491129                                 NaN   \n",
            "        496093                                 NaN   \n",
            "\n",
            "               TMC:cid_58:tabcd_1:PrevLocationCode  ... fee:conditional  \\\n",
            "element id                                          ...                   \n",
            "node    131185                                 NaN  ...             NaN   \n",
            "        491108                               12378  ...             NaN   \n",
            "        491128                               12376  ...             NaN   \n",
            "        491129                                 NaN  ...             NaN   \n",
            "        496093                                 NaN  ...             NaN   \n",
            "\n",
            "               destination:arrow:lanes:forward sidewalk:width type name:ru  \\\n",
            "element id                                                                   \n",
            "node    131185                             NaN            NaN  NaN     NaN   \n",
            "        491108                             NaN            NaN  NaN     NaN   \n",
            "        491128                             NaN            NaN  NaN     NaN   \n",
            "        491129                             NaN            NaN  NaN     NaN   \n",
            "        496093                             NaN            NaN  NaN     NaN   \n",
            "\n",
            "               communication:amateur_radio:pota fishing name:etymology grades  \\\n",
            "element id                                                                      \n",
            "node    131185                              NaN     NaN            NaN    NaN   \n",
            "        491108                              NaN     NaN            NaN    NaN   \n",
            "        491128                              NaN     NaN            NaN    NaN   \n",
            "        491129                              NaN     NaN            NaN    NaN   \n",
            "        496093                              NaN     NaN            NaN    NaN   \n",
            "\n",
            "               disused:building  \n",
            "element id                       \n",
            "node    131185              NaN  \n",
            "        491108              NaN  \n",
            "        491128              NaN  \n",
            "        491129              NaN  \n",
            "        496093              NaN  \n",
            "\n",
            "[5 rows x 880 columns]\n"
          ]
        }
      ]
    },
    {
      "cell_type": "markdown",
      "source": [
        "**Separating and Saving Data Layers**"
      ],
      "metadata": {
        "id": "qO50KMdmxvDe"
      },
      "id": "qO50KMdmxvDe"
    },
    {
      "cell_type": "code",
      "source": [
        "# Binalar\n",
        "buildings = gdf[gdf['building'].notna()]\n",
        "print(f\"Toplam {len(buildings)} adet bina bulundu.\")\n",
        "\n",
        "# Yollar (Sadece çizgisel geometrileri alalım)\n",
        "roads = gdf[gdf['highway'].notna() & (gdf.geom_type == 'LineString')]\n",
        "print(f\"Toplam {len(roads)} adet yol segmenti bulundu.\")\n",
        "\n",
        "# Yeşil Alanlar (Parklar, ormanlar, çimenlikler)\n",
        "green_spaces = gdf[\n",
        "    (gdf['leisure'].isin(['park', 'garden', 'playground'])) |\n",
        "    (gdf['landuse'].isin(['forest', 'grass', 'greenfield']))\n",
        "]\n",
        "print(f\"Toplam {len(green_spaces)} adet yeşil alan bulundu.\")\n",
        "\n",
        "# Su Kütleleri\n",
        "water = gdf[gdf['natural'].isin(['water', 'wetland'])]\n",
        "print(f\"Toplam {len(water)} adet su kütlesi bulundu.\")"
      ],
      "metadata": {
        "id": "EEBzzuzRhiiA",
        "colab": {
          "base_uri": "https://localhost:8080/"
        },
        "outputId": "f9fca40f-4dab-4dad-c630-c774a2b8827b"
      },
      "id": "EEBzzuzRhiiA",
      "execution_count": 8,
      "outputs": [
        {
          "output_type": "stream",
          "name": "stdout",
          "text": [
            "Toplam 43677 adet bina bulundu.\n",
            "Toplam 33479 adet yol segmenti bulundu.\n",
            "Toplam 1695 adet yeşil alan bulundu.\n",
            "Toplam 319 adet su kütlesi bulundu.\n"
          ]
        }
      ]
    },
    {
      "cell_type": "markdown",
      "source": [
        "**Rasterizing Vector layers**"
      ],
      "metadata": {
        "id": "ActD5Zrwx0_N"
      },
      "id": "ActD5Zrwx0_N"
    },
    {
      "cell_type": "code",
      "source": [
        "# Bu adımda, ayırdığımız her bir vektör katmanını, referans Sentinel-2 görüntümüzle\n",
        "# aynı boyut ve çözünürlükte bir raster (GeoTIFF) dosyasına dönüştüreceğiz. [cite: 151, 173]\n",
        "\n",
        "def rasterize_and_save(gdf, reference_raster_path, output_path):\n",
        "    \"\"\"\n",
        "    Bir GeoDataFrame'i referans raster'a göre rasterleştirir ve kaydeder.\n",
        "    \"\"\"\n",
        "    # Referans raster'ı aç ve metaverilerini al\n",
        "    with rasterio.open(reference_raster_path) as src:\n",
        "        ref_meta = src.meta.copy()\n",
        "        ref_transform = src.transform\n",
        "        ref_shape = src.shape\n",
        "        ref_crs = src.crs\n",
        "\n",
        "    # Vektörün CRS'sini referans ile aynı yap\n",
        "    if gdf.crs != ref_crs:\n",
        "        gdf = gdf.to_crs(ref_crs)\n",
        "\n",
        "    print(f\"'{output_path}' için rasterleştirme başlıyor...\")\n",
        "    # Rasterize işlemi\n",
        "    rasterized_array = rasterize(\n",
        "        shapes=[(geom, 1) for geom in gdf.geometry], # Geometrilerin olduğu piksellere 1 yaz\n",
        "        out_shape=ref_shape,\n",
        "        transform=ref_transform,\n",
        "        fill=0, # Geri kalan pikseller 0 olsun\n",
        "        dtype=rasterio.uint8\n",
        "    )\n",
        "\n",
        "    # Yeni raster'ı kaydet\n",
        "    ref_meta.update(dtype='uint8', count=1, compress='lzw')\n",
        "    with rasterio.open(output_path, 'w', **ref_meta) as dst:\n",
        "        dst.write(rasterized_array, 1)\n",
        "\n",
        "    print(f\"'{output_path}' başarıyla oluşturuldu.\")\n",
        "    return rasterized_array\n",
        "\n",
        "# Her katman için rasterleştirme işlemini yapalım\n",
        "building_mask = rasterize_and_save(buildings, REFERENCE_RASTER_PATH, os.path.join(PROCESSED_DIR, 'building_mask.tif'))\n",
        "road_mask = rasterize_and_save(roads, REFERENCE_RASTER_PATH, os.path.join(PROCESSED_DIR, 'road_mask.tif'))\n",
        "green_space_mask = rasterize_and_save(green_spaces, REFERENCE_RASTER_PATH, os.path.join(PROCESSED_DIR, 'green_space_mask.tif'))\n",
        "water_mask = rasterize_and_save(water, REFERENCE_RASTER_PATH, os.path.join(PROCESSED_DIR, 'water_mask.tif'))\n",
        "\n",
        "print(\"\\nTüm OSM katmanları başarıyla rasterleştirildi ve kaydedildi.\")"
      ],
      "metadata": {
        "id": "u0tQdX8qhl_6"
      },
      "id": "u0tQdX8qhl_6",
      "execution_count": null,
      "outputs": []
    },
    {
      "cell_type": "code",
      "source": [
        "\n",
        "# In[6]:\n",
        "# --- Adım 4: Sonuçları Görselleştirme (Kontrol Amaçlı) ---\n",
        "# Oluşturduğumuz raster maskelerden birini çizdirerek işlemin doğruluğunu kontrol edelim.\n",
        "\n",
        "print(\"Bina maskesi (building_mask.tif) görselleştiriliyor...\")\n",
        "\n",
        "# Matplotlib ile görselleştirme\n",
        "fig, ax = plt.subplots(1, 1, figsize=(10, 10))\n",
        "ax.imshow(building_mask, cmap='viridis') # 1'ler sarı, 0'lar mor\n",
        "ax.set_title('Rasterized Building Mask for Hamburg')\n",
        "ax.set_axis_off() # Eksenleri kapat\n",
        "plt.show()"
      ],
      "metadata": {
        "id": "r3dVBnzEhQmZ"
      },
      "id": "r3dVBnzEhQmZ",
      "execution_count": null,
      "outputs": []
    },
    {
      "cell_type": "code",
      "source": [
        "# In[7]:\n",
        "# --- Özet ve Sonraki Adımlar ---\n",
        "# Bu not defterinde, Hamburg için OSM verilerini indirip, modelimiz için gerekli olan\n",
        "# 'binalar', 'yollar', 'yeşil alanlar' ve 'su' katmanlarını 10m çözünürlükte\n",
        "# raster maskeler olarak hazırladık ve 'data/processed/' klasörüne kaydettik.\n",
        "#\n",
        "# Bir sonraki adım olan `03_data_processing.ipynb` not defterinde, bu maskeleri\n",
        "# LST ve spektral indeksler (NDVI vb.) ile birleştirerek U-Net modelinin\n",
        "# nihai girdisi olan çok kanallı tensörü oluşturacağız."
      ],
      "metadata": {
        "id": "qBc-Lh-XhrFw"
      },
      "id": "qBc-Lh-XhrFw",
      "execution_count": null,
      "outputs": []
    }
  ],
  "metadata": {
    "kaggle": {
      "accelerator": "none",
      "dataSources": [
        {
          "datasetId": 1932057,
          "sourceId": 3180297,
          "sourceType": "datasetVersion"
        },
        {
          "datasetId": 1933827,
          "sourceId": 3183837,
          "sourceType": "datasetVersion"
        }
      ],
      "dockerImageVersionId": 30162,
      "isGpuEnabled": false,
      "isInternetEnabled": true,
      "language": "python",
      "sourceType": "notebook"
    },
    "kernelspec": {
      "display_name": "base",
      "language": "python",
      "name": "python3"
    },
    "language_info": {
      "codemirror_mode": {
        "name": "ipython",
        "version": 3
      },
      "file_extension": ".py",
      "mimetype": "text/x-python",
      "name": "python",
      "nbconvert_exporter": "python",
      "pygments_lexer": "ipython3",
      "version": "3.11.5"
    },
    "papermill": {
      "default_parameters": {},
      "duration": 123.666225,
      "end_time": "2025-02-20T14:22:40.237629",
      "environment_variables": {},
      "exception": true,
      "input_path": "__notebook__.ipynb",
      "output_path": "__notebook__.ipynb",
      "parameters": {},
      "start_time": "2025-02-20T14:20:36.571404",
      "version": "2.3.3"
    },
    "colab": {
      "provenance": []
    }
  },
  "nbformat": 4,
  "nbformat_minor": 5
}