{
  "cells": [
    {
      "cell_type": "markdown",
      "id": "4ecf0337",
      "metadata": {
        "id": "4ecf0337"
      },
      "source": [
        "# OSM Preprocessing"
      ]
    },
    {
      "cell_type": "markdown",
      "source": [
        "###Importing Libraries"
      ],
      "metadata": {
        "id": "la7ASJZDnj-w"
      },
      "id": "la7ASJZDnj-w"
    },
    {
      "cell_type": "code",
      "source": [
        "!pip install osmnx google-cloud-storage rasterio > /dev/null\n",
        "\n",
        "!python -m osmnx --version"
      ],
      "metadata": {
        "colab": {
          "base_uri": "https://localhost:8080/"
        },
        "id": "2Yj9ZmwTyH1u",
        "outputId": "6afbb680-f5c1-483d-e3aa-afcb6db12ba9"
      },
      "id": "2Yj9ZmwTyH1u",
      "execution_count": 1,
      "outputs": [
        {
          "output_type": "stream",
          "name": "stdout",
          "text": [
            "/usr/bin/python3: No module named osmnx.__main__; 'osmnx' is a package and cannot be directly executed\n"
          ]
        }
      ]
    },
    {
      "cell_type": "code",
      "execution_count": 2,
      "id": "9381d38a",
      "metadata": {
        "id": "9381d38a",
        "colab": {
          "base_uri": "https://localhost:8080/"
        },
        "outputId": "3a0c7bea-61ac-4922-bc19-7448f0f9d614"
      },
      "outputs": [
        {
          "output_type": "stream",
          "name": "stdout",
          "text": [
            "Mounted at /content/drive\n"
          ]
        }
      ],
      "source": [
        "import os\n",
        "import geopandas as gpd\n",
        "import osmnx as ox\n",
        "import rasterio\n",
        "from rasterio.features import rasterize\n",
        "import matplotlib.pyplot as plt\n",
        "import numpy as np\n",
        "from google.colab import drive\n",
        "import rasterio\n",
        "import matplotlib.pyplot as plt\n",
        "\n",
        "\n",
        "drive.mount('/content/drive')\n",
        "work_dir = '/content/drive/MyDrive/UHI-Detection-Analysis/data/raw/'\n",
        "os.makedirs(work_dir, exist_ok=True)"
      ]
    },
    {
      "cell_type": "markdown",
      "source": [
        "### Preprocessing"
      ],
      "metadata": {
        "id": "5x3XJLeonuPo"
      },
      "id": "5x3XJLeonuPo"
    },
    {
      "cell_type": "markdown",
      "source": [
        "#### Area of Interest(Hamburg) Selection\n"
      ],
      "metadata": {
        "id": "zPaMmQVfv3je"
      },
      "id": "zPaMmQVfv3je"
    },
    {
      "cell_type": "code",
      "source": [
        "# Area of Interest (AOI) to be processed\n",
        "place_name = \"Altona, Hamburg, Germany\"\n",
        "\n",
        "# Tags to be used for OSM data\n",
        "# These tags can be enriched depending on the project's needs.\n",
        "tags = {\n",
        "    \"building\": True,\n",
        "    \"highway\": True,\n",
        "    \"leisure\": [\"park\", \"garden\", \"playground\"],\n",
        "    \"landuse\": [\"forest\", \"grass\", \"greenfield\"],\n",
        "    \"natural\": [\"water\", \"wetland\"]\n",
        "}\n",
        "\n",
        "PROCESSED_DIR = '/content/drive/MyDrive/UHI-Detection-Analysis/data/raw/osm/'\n",
        "os.makedirs(PROCESSED_DIR, exist_ok=True)\n",
        "print(f\"OSM data will be saved to '{PROCESSED_DIR}' directory.\")\n",
        "\n",
        "# Reference raster (currently disabled)\n",
        "# REFERENCE_RASTER_PATH = '/content/drive/MyDrive/UHI-Detection-Analysis/data/raw/sentinel2/B04_10m.jp2'\n",
        "# if not os.path.exists(REFERENCE_RASTER_PATH):\n",
        "#     raise FileNotFoundError(f\"Reference raster file not found: {REFERENCE_RASTER_PATH}.\")\n",
        "# print(f\"'{REFERENCE_RASTER_PATH}' will be used as the reference raster.\")\n"
      ],
      "metadata": {
        "id": "YxoHfV55hbGW",
        "colab": {
          "base_uri": "https://localhost:8080/"
        },
        "outputId": "6028e969-0e87-44e3-fd98-ced73cb6703a"
      },
      "id": "YxoHfV55hbGW",
      "execution_count": 3,
      "outputs": [
        {
          "output_type": "stream",
          "name": "stdout",
          "text": [
            "OSM data will be saved to '/content/drive/MyDrive/UHI-Detection-Analysis/data/raw/osm/' directory.\n"
          ]
        }
      ]
    },
    {
      "cell_type": "code",
      "source": [
        "# Downloading OSM data\n",
        "print(f\"Downloading OSM data for '{place_name}'...\")\n",
        "gdf = ox.features_from_place(place_name, tags=tags)\n",
        "print(f\"Download completed. A total of {len(gdf)} geometries were found.\")\n",
        "\n",
        "print(gdf.head())"
      ],
      "metadata": {
        "id": "2F_BHCl2hefi",
        "colab": {
          "base_uri": "https://localhost:8080/"
        },
        "outputId": "fd07b5f4-f80d-458c-a2f7-22486dccccec"
      },
      "id": "2F_BHCl2hefi",
      "execution_count": 4,
      "outputs": [
        {
          "output_type": "stream",
          "name": "stdout",
          "text": [
            "Downloading OSM data for 'Altona, Hamburg, Germany'...\n",
            "Download completed. A total of 87454 geometries were found.\n",
            "                                geometry crossing            highway  \\\n",
            "element id                                                             \n",
            "node    131185   POINT (9.8874 53.56527)       no    traffic_signals   \n",
            "        491108  POINT (9.91555 53.58605)      NaN  motorway_junction   \n",
            "        491128  POINT (9.89759 53.55653)      NaN  motorway_junction   \n",
            "        491129  POINT (9.89719 53.55379)      NaN    traffic_signals   \n",
            "        496093  POINT (9.91162 53.57753)      NaN          milestone   \n",
            "\n",
            "               traffic_signals:direction TMC:cid_58:tabcd_1:Class  \\\n",
            "element id                                                          \n",
            "node    131185                   forward                      NaN   \n",
            "        491108                       NaN                    Point   \n",
            "        491128                       NaN                    Point   \n",
            "        491129                       NaN                      NaN   \n",
            "        496093                       NaN                      NaN   \n",
            "\n",
            "               TMC:cid_58:tabcd_1:Direction TMC:cid_58:tabcd_1:LCLversion  \\\n",
            "element id                                                                  \n",
            "node    131185                          NaN                           NaN   \n",
            "        491108                     negative                          9.00   \n",
            "        491128                     negative                          8.00   \n",
            "        491129                          NaN                           NaN   \n",
            "        496093                          NaN                           NaN   \n",
            "\n",
            "               TMC:cid_58:tabcd_1:LocationCode  \\\n",
            "element id                                       \n",
            "node    131185                             NaN   \n",
            "        491108                           12379   \n",
            "        491128                           12377   \n",
            "        491129                             NaN   \n",
            "        496093                             NaN   \n",
            "\n",
            "               TMC:cid_58:tabcd_1:NextLocationCode  \\\n",
            "element id                                           \n",
            "node    131185                                 NaN   \n",
            "        491108                               12380   \n",
            "        491128                               12378   \n",
            "        491129                                 NaN   \n",
            "        496093                                 NaN   \n",
            "\n",
            "               TMC:cid_58:tabcd_1:PrevLocationCode  ... fee:conditional  \\\n",
            "element id                                          ...                   \n",
            "node    131185                                 NaN  ...             NaN   \n",
            "        491108                               12378  ...             NaN   \n",
            "        491128                               12376  ...             NaN   \n",
            "        491129                                 NaN  ...             NaN   \n",
            "        496093                                 NaN  ...             NaN   \n",
            "\n",
            "               destination:arrow:lanes:forward sidewalk:width type name:ru  \\\n",
            "element id                                                                   \n",
            "node    131185                             NaN            NaN  NaN     NaN   \n",
            "        491108                             NaN            NaN  NaN     NaN   \n",
            "        491128                             NaN            NaN  NaN     NaN   \n",
            "        491129                             NaN            NaN  NaN     NaN   \n",
            "        496093                             NaN            NaN  NaN     NaN   \n",
            "\n",
            "               communication:amateur_radio:pota fishing name:etymology grades  \\\n",
            "element id                                                                      \n",
            "node    131185                              NaN     NaN            NaN    NaN   \n",
            "        491108                              NaN     NaN            NaN    NaN   \n",
            "        491128                              NaN     NaN            NaN    NaN   \n",
            "        491129                              NaN     NaN            NaN    NaN   \n",
            "        496093                              NaN     NaN            NaN    NaN   \n",
            "\n",
            "               disused:building  \n",
            "element id                       \n",
            "node    131185              NaN  \n",
            "        491108              NaN  \n",
            "        491128              NaN  \n",
            "        491129              NaN  \n",
            "        496093              NaN  \n",
            "\n",
            "[5 rows x 885 columns]\n"
          ]
        }
      ]
    },
    {
      "cell_type": "markdown",
      "source": [
        "#### Separating and Saving Data Layers\n"
      ],
      "metadata": {
        "id": "qO50KMdmxvDe"
      },
      "id": "qO50KMdmxvDe"
    },
    {
      "cell_type": "code",
      "source": [
        "# Buildings\n",
        "buildings = gdf[gdf['building'].notna()]\n",
        "print(f\"A total of {len(buildings)} buildings were found.\")\n",
        "\n",
        "# Roads (Only select linear geometries)\n",
        "roads = gdf[gdf['highway'].notna() & (gdf.geom_type == 'LineString')]\n",
        "print(f\"A total of {len(roads)} road segments were found.\")\n",
        "\n",
        "# Green Spaces (Parks, forests, grassy areas)\n",
        "green_spaces = gdf[\n",
        "    (gdf['leisure'].isin(['park', 'garden', 'playground'])) |\n",
        "    (gdf['landuse'].isin(['forest', 'grass', 'greenfield']))\n",
        "]\n",
        "print(f\"A total of {len(green_spaces)} green spaces were found.\")\n",
        "\n",
        "# Water Bodies\n",
        "water = gdf[gdf['natural'].isin(['water', 'wetland'])]\n",
        "print(f\"A total of {len(water)} water bodies were found.\")\n"
      ],
      "metadata": {
        "id": "EEBzzuzRhiiA",
        "colab": {
          "base_uri": "https://localhost:8080/"
        },
        "outputId": "f8caa8c2-cc96-4a61-f288-61cfca892ae0"
      },
      "id": "EEBzzuzRhiiA",
      "execution_count": 5,
      "outputs": [
        {
          "output_type": "stream",
          "name": "stdout",
          "text": [
            "A total of 43780 buildings were found.\n",
            "A total of 33695 road segments were found.\n",
            "A total of 1706 green spaces were found.\n",
            "A total of 319 water bodies were found.\n"
          ]
        }
      ]
    },
    {
      "cell_type": "markdown",
      "source": [
        "#### Rasterizing Vector layers\n"
      ],
      "metadata": {
        "id": "ActD5Zrwx0_N"
      },
      "id": "ActD5Zrwx0_N"
    },
    {
      "cell_type": "code",
      "source": [
        "# In this step, each separated vector layer will be converted into a raster (GeoTIFF) file\n",
        "# with the same size and resolution as the reference Sentinel-2 image. [cite: 151, 173]\n",
        "\n",
        "def rasterize_and_save(gdf, reference_raster_path, output_path):\n",
        "    \"\"\"\n",
        "    Rasterizes a GeoDataFrame based on a reference raster and saves it.\n",
        "    \"\"\"\n",
        "    # Open the reference raster and get its metadata\n",
        "    with rasterio.open(reference_raster_path) as src:\n",
        "        ref_meta = src.meta.copy()\n",
        "        ref_transform = src.transform\n",
        "        ref_shape = src.shape\n",
        "        ref_crs = src.crs\n",
        "\n",
        "    # Match the CRS of the vector data to the reference raster\n",
        "    if gdf.crs != ref_crs:\n",
        "        gdf = gdf.to_crs(ref_crs)\n",
        "\n",
        "    print(f\"Rasterizing for '{output_path}'...\")\n",
        "    # Perform rasterization\n",
        "    rasterized_array = rasterize(\n",
        "        shapes=[(geom, 1) for geom in gdf.geometry],  # Assign value 1 to pixels with geometry\n",
        "        out_shape=ref_shape,\n",
        "        transform=ref_transform,\n",
        "        fill=0,  # Assign value 0 to all other pixels\n",
        "        dtype=rasterio.uint8\n",
        "    )\n",
        "\n",
        "    # Save the new raster\n",
        "    ref_meta.update(dtype='uint8', count=1, compress='lzw')\n",
        "    with rasterio.open(output_path, 'w', **ref_meta) as dst:\n",
        "        dst.write(rasterized_array, 1)\n",
        "\n",
        "    print(f\"'{output_path}' has been successfully created.\")\n",
        "    return rasterized_array\n",
        "\n",
        "# Rasterize each layer\n",
        "#building_mask = rasterize_and_save(buildings, REFERENCE_RASTER_PATH, os.path.join(PROCESSED_DIR, 'building_mask.tif'))\n",
        "#road_mask = rasterize_and_save(roads, REFERENCE_RASTER_PATH, os.path.join(PROCESSED_DIR, 'road_mask.tif'))\n",
        "#green_space_mask = rasterize_and_save(green_spaces, REFERENCE_RASTER_PATH, os.path.join(PROCESSED_DIR, 'green_space_mask.tif'))\n",
        "#water_mask = rasterize_and_save(water, REFERENCE_RASTER_PATH, os.path.join(PROCESSED_DIR, 'water_mask.tif'))\n",
        "\n",
        "#print(\"\\nAll OSM layers have been successfully rasterized and saved.\")\n"
      ],
      "metadata": {
        "id": "u0tQdX8qhl_6"
      },
      "id": "u0tQdX8qhl_6",
      "execution_count": 6,
      "outputs": []
    },
    {
      "cell_type": "markdown",
      "source": [
        "### Visualization (For Verification)"
      ],
      "metadata": {
        "id": "GWmKKZnqoqT7"
      },
      "id": "GWmKKZnqoqT7"
    },
    {
      "cell_type": "code",
      "source": [
        "# Visualize one of the raster masks we created to verify the correctness of the process.\n",
        "\n",
        "print(\"Visualizing the building mask (building_mask.tif)...\")\n",
        "\n",
        "# Visualization using Matplotlib\n",
        "fig, ax = plt.subplots(1, 1, figsize=(10, 10))\n",
        "ax.imshow(building_mask, cmap='viridis')  # 1s appear yellow, 0s appear purple\n",
        "ax.set_title('Rasterized Building Mask for Hamburg')\n",
        "ax.set_axis_off()  # Hide axes\n",
        "plt.show()\n"
      ],
      "metadata": {
        "id": "r3dVBnzEhQmZ"
      },
      "id": "r3dVBnzEhQmZ",
      "execution_count": null,
      "outputs": []
    },
    {
      "cell_type": "markdown",
      "source": [
        "###  Summary and Next Steps\n",
        "\n",
        "In this notebook, we downloaded **OSM data for Hamburg** and prepared raster masks with **10-meter resolution** for the layers required by our model:\n",
        "\n",
        "- **Buildings**\n",
        "- **Roads**\n",
        "- **Green spaces**\n",
        "- **Water bodies**\n",
        "\n",
        "These masks were saved in the `data/processed/` directory.\n",
        "\n",
        "In the next notebook, **`03_data_processing.ipynb`**, we will combine these masks with **LST** and **spectral indices** (e.g., NDVI) to create a **multi-channel tensor**, which will serve as the final input for the **U-Net model**.\n"
      ],
      "metadata": {
        "id": "rDztnfaOpd-I"
      },
      "id": "rDztnfaOpd-I"
    }
  ],
  "metadata": {
    "kaggle": {
      "accelerator": "none",
      "dataSources": [
        {
          "datasetId": 1932057,
          "sourceId": 3180297,
          "sourceType": "datasetVersion"
        },
        {
          "datasetId": 1933827,
          "sourceId": 3183837,
          "sourceType": "datasetVersion"
        }
      ],
      "dockerImageVersionId": 30162,
      "isGpuEnabled": false,
      "isInternetEnabled": true,
      "language": "python",
      "sourceType": "notebook"
    },
    "kernelspec": {
      "display_name": "base",
      "language": "python",
      "name": "python3"
    },
    "language_info": {
      "codemirror_mode": {
        "name": "ipython",
        "version": 3
      },
      "file_extension": ".py",
      "mimetype": "text/x-python",
      "name": "python",
      "nbconvert_exporter": "python",
      "pygments_lexer": "ipython3",
      "version": "3.11.5"
    },
    "papermill": {
      "default_parameters": {},
      "duration": 123.666225,
      "end_time": "2025-02-20T14:22:40.237629",
      "environment_variables": {},
      "exception": true,
      "input_path": "__notebook__.ipynb",
      "output_path": "__notebook__.ipynb",
      "parameters": {},
      "start_time": "2025-02-20T14:20:36.571404",
      "version": "2.3.3"
    },
    "colab": {
      "provenance": []
    }
  },
  "nbformat": 4,
  "nbformat_minor": 5
}